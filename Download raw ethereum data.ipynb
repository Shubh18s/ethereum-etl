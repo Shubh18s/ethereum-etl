{
 "cells": [
  {
   "cell_type": "code",
   "execution_count": 5,
   "id": "ac9574cc",
   "metadata": {},
   "outputs": [],
   "source": [
    "import os\n",
    "import boto3\n",
    "from botocore import UNSIGNED, exceptions\n",
    "from botocore.client import Config\n",
    "\n",
    "from datetime import date, timedelta\n",
    "import datetime as dt"
   ]
  },
  {
   "cell_type": "code",
   "execution_count": 2,
   "id": "52242424",
   "metadata": {},
   "outputs": [],
   "source": [
    "bucket_name =  'aws-public-blockchain'\n",
    "\n",
    "blocks_prefix = 'v1.0/eth/blocks/date='\n",
    "transactions_prefix = 'v1.0/eth/transactions/date='\n",
    "\n",
    "blocks_output = 'raw/eth/blocks'\n",
    "transaction_output = 'raw/eth/transactions'"
   ]
  },
  {
   "cell_type": "code",
   "execution_count": 6,
   "id": "1fd3ebbf",
   "metadata": {},
   "outputs": [],
   "source": [
    "def prepare_object_prefix(todays_date:date=date(2024, 4, 8)):\n",
    "    \n",
    "    start_date = todays_date - dt.timedelta(days=7)\n",
    "    end_date = todays_date - dt.timedelta(days=0)\n",
    "    \n",
    "    block_objs = []\n",
    "    transaction_objs = []\n",
    "    \n",
    "    for n in range(int((end_date - start_date).days)):\n",
    "        \n",
    "        date_prefix = start_date + timedelta(n)\n",
    "        \n",
    "        block_obj_prefix = f\"{blocks_prefix}{date_prefix}/\"\n",
    "        transaction_obj_prefix = f\"{transactions_prefix}{date_prefix}/\"\n",
    "        \n",
    "        block_objs.append(block_obj_prefix)\n",
    "        transaction_objs.append(transaction_obj_prefix)\n",
    "    \n",
    "    return(block_objs, transaction_objs)\n",
    "        "
   ]
  },
  {
   "cell_type": "code",
   "execution_count": 10,
   "id": "95687a81",
   "metadata": {},
   "outputs": [],
   "source": [
    "def download_and_verify(Bucket, Key, Filename):\n",
    "    s3_client = boto3.client(\"s3\", config=Config(signature_version=UNSIGNED))\n",
    "    try:\n",
    "#         os.remove(Filename)\n",
    "        s3_client = boto3.client(\"s3\", config=Config(signature_version=UNSIGNED))\n",
    "        s3_client.download_file(Bucket,Key,Filename)\n",
    "        return os.path.exists(Filename)\n",
    "    except exceptions.ClientError as error:\n",
    "        print(error.response['Error']['Code']) #a summary of what went wrong\n",
    "        print(error.response['Error']['Message']) #explanation of what went wrong\n",
    "        return False"
   ]
  },
  {
   "cell_type": "code",
   "execution_count": 11,
   "id": "f27ca00f",
   "metadata": {},
   "outputs": [],
   "source": [
    "def download_raw_data(block_files=[], transaction_files=[], outpath:str='raw/eth/'):\n",
    "    \n",
    "    s3_resource = boto3.resource('s3', config=Config(signature_version=UNSIGNED))\n",
    "    bucket = s3_resource.Bucket(bucket_name)\n",
    "    \n",
    "    for file_loc in block_files:\n",
    "        \n",
    "        bucket_obj = bucket.objects.filter(Prefix=file_loc)\n",
    "        fdate = file_loc.split('/')[3]\n",
    "        output_path = f\"{blocks_output}/{fdate}/\"\n",
    "        \n",
    "        if not os.path.isdir(output_path):\n",
    "            os.makedirs(output_path)\n",
    "        \n",
    "        for item in bucket_obj:       \n",
    "            file_name = f\"{output_path}{item.key.split('/')[-1]}\"\n",
    "            \n",
    "            if not os.path.isfile(file_name):\n",
    "                download_and_verify(bucket_name, item.key, file_name)\n",
    "                \n",
    "    \n",
    "    for file_loc in transaction_files:\n",
    "        \n",
    "        bucket_obj = bucket.objects.filter(Prefix=file_loc)\n",
    "        fdate = file_loc.split('/')[3]\n",
    "        output_path = f\"{transaction_output}/{fdate}/\"\n",
    "        \n",
    "        if not os.path.isdir(output_path):\n",
    "            os.makedirs(output_path)\n",
    "        \n",
    "        for item in bucket_obj:       \n",
    "            file_name = f\"{output_path}{item.key.split('/')[-1]}\"\n",
    "            \n",
    "            if not os.path.isfile(file_name):\n",
    "                download_and_verify(bucket_name, item.key, file_name)"
   ]
  },
  {
   "cell_type": "code",
   "execution_count": 12,
   "id": "8a107b3a",
   "metadata": {},
   "outputs": [],
   "source": [
    "blocks, transactions = prepare_object_prefix()\n",
    "download_raw_data(blocks, transactions)"
   ]
  },
  {
   "cell_type": "code",
   "execution_count": null,
   "id": "a7e523c4",
   "metadata": {},
   "outputs": [],
   "source": []
  }
 ],
 "metadata": {
  "kernelspec": {
   "display_name": "Python 3 (ipykernel)",
   "language": "python",
   "name": "python3"
  },
  "language_info": {
   "codemirror_mode": {
    "name": "ipython",
    "version": 3
   },
   "file_extension": ".py",
   "mimetype": "text/x-python",
   "name": "python",
   "nbconvert_exporter": "python",
   "pygments_lexer": "ipython3",
   "version": "3.10.9"
  }
 },
 "nbformat": 4,
 "nbformat_minor": 5
}
