{
 "cells": [
  {
   "cell_type": "code",
   "execution_count": 1,
   "id": "5bc97ecb",
   "metadata": {},
   "outputs": [],
   "source": [
    "import pandas as pd"
   ]
  },
  {
   "cell_type": "code",
   "execution_count": 2,
   "id": "1ab59193",
   "metadata": {},
   "outputs": [],
   "source": [
    "import pyspark\n",
    "from pyspark.sql import SparkSession"
   ]
  },
  {
   "cell_type": "code",
   "execution_count": 3,
   "id": "988521b6",
   "metadata": {},
   "outputs": [
    {
     "name": "stderr",
     "output_type": "stream",
     "text": [
      "Setting default log level to \"WARN\".\n",
      "To adjust logging level use sc.setLogLevel(newLevel). For SparkR, use setLogLevel(newLevel).\n"
     ]
    },
    {
     "name": "stdout",
     "output_type": "stream",
     "text": [
      "24/04/09 08:51:39 WARN NativeCodeLoader: Unable to load native-hadoop library for your platform... using builtin-java classes where applicable\n"
     ]
    }
   ],
   "source": [
    "spark = SparkSession.builder \\\n",
    "        .master(\"local[*]\") \\\n",
    "        .appName('test') \\\n",
    "        .getOrCreate()"
   ]
  },
  {
   "cell_type": "code",
   "execution_count": 4,
   "id": "7ad07f1e",
   "metadata": {},
   "outputs": [
    {
     "name": "stderr",
     "output_type": "stream",
     "text": [
      "                                                                                \r"
     ]
    }
   ],
   "source": [
    "df = spark.read.parquet('part-00000-8fb25e18-b15b-49cb-8714-160e590bc366-c000.snappy.parquet')"
   ]
  },
  {
   "cell_type": "code",
   "execution_count": 5,
   "id": "469fc4c1",
   "metadata": {},
   "outputs": [
    {
     "name": "stdout",
     "output_type": "stream",
     "text": [
      "root\n",
      " |-- gas: long (nullable = true)\n",
      " |-- hash: string (nullable = true)\n",
      " |-- input: string (nullable = true)\n",
      " |-- nonce: long (nullable = true)\n",
      " |-- value: double (nullable = true)\n",
      " |-- block_number: long (nullable = true)\n",
      " |-- block_hash: string (nullable = true)\n",
      " |-- transaction_index: long (nullable = true)\n",
      " |-- from_address: string (nullable = true)\n",
      " |-- to_address: string (nullable = true)\n",
      " |-- gas_price: long (nullable = true)\n",
      " |-- receipt_cumulative_gas_used: long (nullable = true)\n",
      " |-- receipt_gas_used: long (nullable = true)\n",
      " |-- receipt_contract_address: string (nullable = true)\n",
      " |-- receipt_status: long (nullable = true)\n",
      " |-- receipt_effective_gas_price: long (nullable = true)\n",
      " |-- transaction_type: long (nullable = true)\n",
      " |-- max_fee_per_gas: long (nullable = true)\n",
      " |-- max_priority_fee_per_gas: long (nullable = true)\n",
      " |-- block_timestamp: timestamp (nullable = true)\n",
      " |-- date: string (nullable = true)\n",
      " |-- last_modified: timestamp (nullable = true)\n",
      "\n"
     ]
    }
   ],
   "source": [
    "df.printSchema()"
   ]
  },
  {
   "cell_type": "code",
   "execution_count": null,
   "id": "5f511efd",
   "metadata": {},
   "outputs": [],
   "source": [
    "def convert_wei_to_gwei(amount):\n",
    "    return amount/(10**9)"
   ]
  },
  {
   "cell_type": "code",
   "execution_count": 7,
   "id": "e7e0cd46",
   "metadata": {},
   "outputs": [],
   "source": [
    "df_transaction = pd.read_parquet('part-00000-8fb25e18-b15b-49cb-8714-160e590bc366-c000.snappy.parquet')"
   ]
  },
  {
   "cell_type": "code",
   "execution_count": 13,
   "id": "54248d74",
   "metadata": {},
   "outputs": [
    {
     "data": {
      "text/plain": [
       "gas                                     int64\n",
       "hash                                   object\n",
       "input                                  object\n",
       "nonce                                   int64\n",
       "value                                 float64\n",
       "block_number                            int64\n",
       "block_hash                             object\n",
       "transaction_index                       int64\n",
       "from_address                           object\n",
       "to_address                             object\n",
       "gas_price                               int64\n",
       "receipt_cumulative_gas_used             int64\n",
       "receipt_gas_used                        int64\n",
       "receipt_contract_address               object\n",
       "receipt_status                          int64\n",
       "receipt_effective_gas_price             int64\n",
       "transaction_type                        int64\n",
       "max_fee_per_gas                         int64\n",
       "max_priority_fee_per_gas                int64\n",
       "block_timestamp                datetime64[ns]\n",
       "date                                   object\n",
       "last_modified                  datetime64[ns]\n",
       "dtype: object"
      ]
     },
     "execution_count": 13,
     "metadata": {},
     "output_type": "execute_result"
    }
   ],
   "source": [
    "df_transaction.dtypes"
   ]
  },
  {
   "cell_type": "code",
   "execution_count": 9,
   "id": "d62025d5",
   "metadata": {},
   "outputs": [],
   "source": [
    "transaction_columns = ['gas', 'nonce', 'value', 'block_number', 'gas_price',\n",
    "       'receipt_cumulative_gas_used', 'receipt_gas_used', 'receipt_status',\n",
    "       'receipt_effective_gas_price', 'transaction_type', 'max_fee_per_gas',\n",
    "       'max_priority_fee_per_gas', 'block_timestamp', 'date', 'last_modified']"
   ]
  },
  {
   "cell_type": "code",
   "execution_count": 10,
   "id": "aa4f466a",
   "metadata": {},
   "outputs": [
    {
     "data": {
      "text/html": [
       "<div>\n",
       "<style scoped>\n",
       "    .dataframe tbody tr th:only-of-type {\n",
       "        vertical-align: middle;\n",
       "    }\n",
       "\n",
       "    .dataframe tbody tr th {\n",
       "        vertical-align: top;\n",
       "    }\n",
       "\n",
       "    .dataframe thead th {\n",
       "        text-align: right;\n",
       "    }\n",
       "</style>\n",
       "<table border=\"1\" class=\"dataframe\">\n",
       "  <thead>\n",
       "    <tr style=\"text-align: right;\">\n",
       "      <th></th>\n",
       "      <th>gas</th>\n",
       "      <th>nonce</th>\n",
       "      <th>value</th>\n",
       "      <th>block_number</th>\n",
       "      <th>gas_price</th>\n",
       "      <th>receipt_cumulative_gas_used</th>\n",
       "      <th>receipt_gas_used</th>\n",
       "      <th>receipt_status</th>\n",
       "      <th>receipt_effective_gas_price</th>\n",
       "      <th>transaction_type</th>\n",
       "      <th>max_fee_per_gas</th>\n",
       "      <th>max_priority_fee_per_gas</th>\n",
       "      <th>block_timestamp</th>\n",
       "      <th>date</th>\n",
       "      <th>last_modified</th>\n",
       "    </tr>\n",
       "  </thead>\n",
       "  <tbody>\n",
       "    <tr>\n",
       "      <th>0</th>\n",
       "      <td>176980</td>\n",
       "      <td>458215</td>\n",
       "      <td>2.127791e+08</td>\n",
       "      <td>19592727</td>\n",
       "      <td>14160051552</td>\n",
       "      <td>117987</td>\n",
       "      <td>117987</td>\n",
       "      <td>1</td>\n",
       "      <td>14160051552</td>\n",
       "      <td>2</td>\n",
       "      <td>14160051552</td>\n",
       "      <td>0</td>\n",
       "      <td>2024-04-05 23:10:59</td>\n",
       "      <td>2024-04-05</td>\n",
       "      <td>2024-04-06 01:22:12.937410</td>\n",
       "    </tr>\n",
       "    <tr>\n",
       "      <th>1</th>\n",
       "      <td>205910</td>\n",
       "      <td>118</td>\n",
       "      <td>5.000000e+17</td>\n",
       "      <td>19592727</td>\n",
       "      <td>14259051552</td>\n",
       "      <td>250560</td>\n",
       "      <td>132573</td>\n",
       "      <td>1</td>\n",
       "      <td>14259051552</td>\n",
       "      <td>2</td>\n",
       "      <td>18790000000</td>\n",
       "      <td>99000000</td>\n",
       "      <td>2024-04-05 23:10:59</td>\n",
       "      <td>2024-04-05</td>\n",
       "      <td>2024-04-06 01:22:12.937422</td>\n",
       "    </tr>\n",
       "    <tr>\n",
       "      <th>2</th>\n",
       "      <td>155296</td>\n",
       "      <td>458216</td>\n",
       "      <td>2.171178e+08</td>\n",
       "      <td>19592727</td>\n",
       "      <td>163852825094</td>\n",
       "      <td>354091</td>\n",
       "      <td>103531</td>\n",
       "      <td>1</td>\n",
       "      <td>163852825094</td>\n",
       "      <td>2</td>\n",
       "      <td>163852825094</td>\n",
       "      <td>149692773542</td>\n",
       "      <td>2024-04-05 23:10:59</td>\n",
       "      <td>2024-04-05</td>\n",
       "      <td>2024-04-06 01:22:12.937432</td>\n",
       "    </tr>\n",
       "    <tr>\n",
       "      <th>3</th>\n",
       "      <td>51942</td>\n",
       "      <td>13384</td>\n",
       "      <td>0.000000e+00</td>\n",
       "      <td>19592727</td>\n",
       "      <td>43000000000</td>\n",
       "      <td>383916</td>\n",
       "      <td>29825</td>\n",
       "      <td>1</td>\n",
       "      <td>43000000000</td>\n",
       "      <td>0</td>\n",
       "      <td>0</td>\n",
       "      <td>0</td>\n",
       "      <td>2024-04-05 23:10:59</td>\n",
       "      <td>2024-04-05</td>\n",
       "      <td>2024-04-06 01:22:12.937441</td>\n",
       "    </tr>\n",
       "    <tr>\n",
       "      <th>4</th>\n",
       "      <td>441711</td>\n",
       "      <td>646</td>\n",
       "      <td>5.000000e+17</td>\n",
       "      <td>19592727</td>\n",
       "      <td>29160051552</td>\n",
       "      <td>536912</td>\n",
       "      <td>152996</td>\n",
       "      <td>1</td>\n",
       "      <td>29160051552</td>\n",
       "      <td>2</td>\n",
       "      <td>34160051552</td>\n",
       "      <td>15000000000</td>\n",
       "      <td>2024-04-05 23:10:59</td>\n",
       "      <td>2024-04-05</td>\n",
       "      <td>2024-04-06 01:22:12.937448</td>\n",
       "    </tr>\n",
       "  </tbody>\n",
       "</table>\n",
       "</div>"
      ],
      "text/plain": [
       "      gas   nonce         value  block_number     gas_price  \\\n",
       "0  176980  458215  2.127791e+08      19592727   14160051552   \n",
       "1  205910     118  5.000000e+17      19592727   14259051552   \n",
       "2  155296  458216  2.171178e+08      19592727  163852825094   \n",
       "3   51942   13384  0.000000e+00      19592727   43000000000   \n",
       "4  441711     646  5.000000e+17      19592727   29160051552   \n",
       "\n",
       "   receipt_cumulative_gas_used  receipt_gas_used  receipt_status  \\\n",
       "0                       117987            117987               1   \n",
       "1                       250560            132573               1   \n",
       "2                       354091            103531               1   \n",
       "3                       383916             29825               1   \n",
       "4                       536912            152996               1   \n",
       "\n",
       "   receipt_effective_gas_price  transaction_type  max_fee_per_gas  \\\n",
       "0                  14160051552                 2      14160051552   \n",
       "1                  14259051552                 2      18790000000   \n",
       "2                 163852825094                 2     163852825094   \n",
       "3                  43000000000                 0                0   \n",
       "4                  29160051552                 2      34160051552   \n",
       "\n",
       "   max_priority_fee_per_gas     block_timestamp        date  \\\n",
       "0                         0 2024-04-05 23:10:59  2024-04-05   \n",
       "1                  99000000 2024-04-05 23:10:59  2024-04-05   \n",
       "2              149692773542 2024-04-05 23:10:59  2024-04-05   \n",
       "3                         0 2024-04-05 23:10:59  2024-04-05   \n",
       "4               15000000000 2024-04-05 23:10:59  2024-04-05   \n",
       "\n",
       "               last_modified  \n",
       "0 2024-04-06 01:22:12.937410  \n",
       "1 2024-04-06 01:22:12.937422  \n",
       "2 2024-04-06 01:22:12.937432  \n",
       "3 2024-04-06 01:22:12.937441  \n",
       "4 2024-04-06 01:22:12.937448  "
      ]
     },
     "execution_count": 10,
     "metadata": {},
     "output_type": "execute_result"
    }
   ],
   "source": [
    "df_transaction[transaction_columns].head()"
   ]
  },
  {
   "cell_type": "code",
   "execution_count": 11,
   "id": "24560b7d",
   "metadata": {},
   "outputs": [
    {
     "data": {
      "text/html": [
       "<div>\n",
       "<style scoped>\n",
       "    .dataframe tbody tr th:only-of-type {\n",
       "        vertical-align: middle;\n",
       "    }\n",
       "\n",
       "    .dataframe tbody tr th {\n",
       "        vertical-align: top;\n",
       "    }\n",
       "\n",
       "    .dataframe thead th {\n",
       "        text-align: right;\n",
       "    }\n",
       "</style>\n",
       "<table border=\"1\" class=\"dataframe\">\n",
       "  <thead>\n",
       "    <tr style=\"text-align: right;\">\n",
       "      <th></th>\n",
       "      <th>gas</th>\n",
       "      <th>hash</th>\n",
       "      <th>input</th>\n",
       "      <th>nonce</th>\n",
       "      <th>value</th>\n",
       "      <th>block_number</th>\n",
       "      <th>block_hash</th>\n",
       "      <th>transaction_index</th>\n",
       "      <th>from_address</th>\n",
       "      <th>to_address</th>\n",
       "      <th>...</th>\n",
       "      <th>receipt_gas_used</th>\n",
       "      <th>receipt_contract_address</th>\n",
       "      <th>receipt_status</th>\n",
       "      <th>receipt_effective_gas_price</th>\n",
       "      <th>transaction_type</th>\n",
       "      <th>max_fee_per_gas</th>\n",
       "      <th>max_priority_fee_per_gas</th>\n",
       "      <th>block_timestamp</th>\n",
       "      <th>date</th>\n",
       "      <th>last_modified</th>\n",
       "    </tr>\n",
       "  </thead>\n",
       "  <tbody>\n",
       "    <tr>\n",
       "      <th>0</th>\n",
       "      <td>176980</td>\n",
       "      <td>0x40f341fced5ee5bb38e5f87dd10311b1609a1facd92f...</td>\n",
       "      <td>0x33171c58025c79662e81f1ee72bce632511faf4e6aee...</td>\n",
       "      <td>458215</td>\n",
       "      <td>2.127791e+08</td>\n",
       "      <td>19592727</td>\n",
       "      <td>0x1234b1e43910713f4dc7ab64894b6933cfd13facfb17...</td>\n",
       "      <td>0</td>\n",
       "      <td>0x77ad3a15b78101883af36ad4a875e17c86ac65d1</td>\n",
       "      <td>0x00000000a991c429ee2ec6df19d40fe0c80088b8</td>\n",
       "      <td>...</td>\n",
       "      <td>117987</td>\n",
       "      <td></td>\n",
       "      <td>1</td>\n",
       "      <td>14160051552</td>\n",
       "      <td>2</td>\n",
       "      <td>14160051552</td>\n",
       "      <td>0</td>\n",
       "      <td>2024-04-05 23:10:59</td>\n",
       "      <td>2024-04-05</td>\n",
       "      <td>2024-04-06 01:22:12.937410</td>\n",
       "    </tr>\n",
       "    <tr>\n",
       "      <th>1</th>\n",
       "      <td>205910</td>\n",
       "      <td>0x663bc0501837146d7ede5449b935fb5bc8f3864fe37d...</td>\n",
       "      <td>0x3593564c000000000000000000000000000000000000...</td>\n",
       "      <td>118</td>\n",
       "      <td>5.000000e+17</td>\n",
       "      <td>19592727</td>\n",
       "      <td>0x1234b1e43910713f4dc7ab64894b6933cfd13facfb17...</td>\n",
       "      <td>1</td>\n",
       "      <td>0xdea1e287deb6a02a12d66628fcd4a7ed53908e18</td>\n",
       "      <td>0x3fc91a3afd70395cd496c647d5a6cc9d4b2b7fad</td>\n",
       "      <td>...</td>\n",
       "      <td>132573</td>\n",
       "      <td></td>\n",
       "      <td>1</td>\n",
       "      <td>14259051552</td>\n",
       "      <td>2</td>\n",
       "      <td>18790000000</td>\n",
       "      <td>99000000</td>\n",
       "      <td>2024-04-05 23:10:59</td>\n",
       "      <td>2024-04-05</td>\n",
       "      <td>2024-04-06 01:22:12.937422</td>\n",
       "    </tr>\n",
       "    <tr>\n",
       "      <th>2</th>\n",
       "      <td>155296</td>\n",
       "      <td>0x319b7c60fe64ba1f4033d453e0170f4072f9493b4435...</td>\n",
       "      <td>0xb5173c6930450a416252c7206fbce76c01ecc850a36c...</td>\n",
       "      <td>458216</td>\n",
       "      <td>2.171178e+08</td>\n",
       "      <td>19592727</td>\n",
       "      <td>0x1234b1e43910713f4dc7ab64894b6933cfd13facfb17...</td>\n",
       "      <td>2</td>\n",
       "      <td>0x77ad3a15b78101883af36ad4a875e17c86ac65d1</td>\n",
       "      <td>0x00000000a991c429ee2ec6df19d40fe0c80088b8</td>\n",
       "      <td>...</td>\n",
       "      <td>103531</td>\n",
       "      <td></td>\n",
       "      <td>1</td>\n",
       "      <td>163852825094</td>\n",
       "      <td>2</td>\n",
       "      <td>163852825094</td>\n",
       "      <td>149692773542</td>\n",
       "      <td>2024-04-05 23:10:59</td>\n",
       "      <td>2024-04-05</td>\n",
       "      <td>2024-04-06 01:22:12.937432</td>\n",
       "    </tr>\n",
       "    <tr>\n",
       "      <th>3</th>\n",
       "      <td>51942</td>\n",
       "      <td>0x8bd0dfa319166f8ed1e8e362810ce48d5a28760fd551...</td>\n",
       "      <td>0xa9059cbb00000000000000000000000075e89d5979e4...</td>\n",
       "      <td>13384</td>\n",
       "      <td>0.000000e+00</td>\n",
       "      <td>19592727</td>\n",
       "      <td>0x1234b1e43910713f4dc7ab64894b6933cfd13facfb17...</td>\n",
       "      <td>3</td>\n",
       "      <td>0xc9a667f951bab05d3597c1dc6cd8ce4079f378bb</td>\n",
       "      <td>0xb17548c7b510427baac4e267bea62e800b247173</td>\n",
       "      <td>...</td>\n",
       "      <td>29825</td>\n",
       "      <td></td>\n",
       "      <td>1</td>\n",
       "      <td>43000000000</td>\n",
       "      <td>0</td>\n",
       "      <td>0</td>\n",
       "      <td>0</td>\n",
       "      <td>2024-04-05 23:10:59</td>\n",
       "      <td>2024-04-05</td>\n",
       "      <td>2024-04-06 01:22:12.937441</td>\n",
       "    </tr>\n",
       "    <tr>\n",
       "      <th>4</th>\n",
       "      <td>441711</td>\n",
       "      <td>0x18ed37ff74b7ac11547c870a4a93d18e495088e5ca65...</td>\n",
       "      <td>0x0162e2d0000000000000000000000000000000000000...</td>\n",
       "      <td>646</td>\n",
       "      <td>5.000000e+17</td>\n",
       "      <td>19592727</td>\n",
       "      <td>0x1234b1e43910713f4dc7ab64894b6933cfd13facfb17...</td>\n",
       "      <td>4</td>\n",
       "      <td>0x7a776338f5298fd6c0c88f5dd238dfcf0a600a61</td>\n",
       "      <td>0x3328f7f4a1d1c57c35df56bbf0c9dcafca309c49</td>\n",
       "      <td>...</td>\n",
       "      <td>152996</td>\n",
       "      <td></td>\n",
       "      <td>1</td>\n",
       "      <td>29160051552</td>\n",
       "      <td>2</td>\n",
       "      <td>34160051552</td>\n",
       "      <td>15000000000</td>\n",
       "      <td>2024-04-05 23:10:59</td>\n",
       "      <td>2024-04-05</td>\n",
       "      <td>2024-04-06 01:22:12.937448</td>\n",
       "    </tr>\n",
       "  </tbody>\n",
       "</table>\n",
       "<p>5 rows × 22 columns</p>\n",
       "</div>"
      ],
      "text/plain": [
       "      gas                                               hash  \\\n",
       "0  176980  0x40f341fced5ee5bb38e5f87dd10311b1609a1facd92f...   \n",
       "1  205910  0x663bc0501837146d7ede5449b935fb5bc8f3864fe37d...   \n",
       "2  155296  0x319b7c60fe64ba1f4033d453e0170f4072f9493b4435...   \n",
       "3   51942  0x8bd0dfa319166f8ed1e8e362810ce48d5a28760fd551...   \n",
       "4  441711  0x18ed37ff74b7ac11547c870a4a93d18e495088e5ca65...   \n",
       "\n",
       "                                               input   nonce         value  \\\n",
       "0  0x33171c58025c79662e81f1ee72bce632511faf4e6aee...  458215  2.127791e+08   \n",
       "1  0x3593564c000000000000000000000000000000000000...     118  5.000000e+17   \n",
       "2  0xb5173c6930450a416252c7206fbce76c01ecc850a36c...  458216  2.171178e+08   \n",
       "3  0xa9059cbb00000000000000000000000075e89d5979e4...   13384  0.000000e+00   \n",
       "4  0x0162e2d0000000000000000000000000000000000000...     646  5.000000e+17   \n",
       "\n",
       "   block_number                                         block_hash  \\\n",
       "0      19592727  0x1234b1e43910713f4dc7ab64894b6933cfd13facfb17...   \n",
       "1      19592727  0x1234b1e43910713f4dc7ab64894b6933cfd13facfb17...   \n",
       "2      19592727  0x1234b1e43910713f4dc7ab64894b6933cfd13facfb17...   \n",
       "3      19592727  0x1234b1e43910713f4dc7ab64894b6933cfd13facfb17...   \n",
       "4      19592727  0x1234b1e43910713f4dc7ab64894b6933cfd13facfb17...   \n",
       "\n",
       "   transaction_index                                from_address  \\\n",
       "0                  0  0x77ad3a15b78101883af36ad4a875e17c86ac65d1   \n",
       "1                  1  0xdea1e287deb6a02a12d66628fcd4a7ed53908e18   \n",
       "2                  2  0x77ad3a15b78101883af36ad4a875e17c86ac65d1   \n",
       "3                  3  0xc9a667f951bab05d3597c1dc6cd8ce4079f378bb   \n",
       "4                  4  0x7a776338f5298fd6c0c88f5dd238dfcf0a600a61   \n",
       "\n",
       "                                   to_address  ...  receipt_gas_used  \\\n",
       "0  0x00000000a991c429ee2ec6df19d40fe0c80088b8  ...            117987   \n",
       "1  0x3fc91a3afd70395cd496c647d5a6cc9d4b2b7fad  ...            132573   \n",
       "2  0x00000000a991c429ee2ec6df19d40fe0c80088b8  ...            103531   \n",
       "3  0xb17548c7b510427baac4e267bea62e800b247173  ...             29825   \n",
       "4  0x3328f7f4a1d1c57c35df56bbf0c9dcafca309c49  ...            152996   \n",
       "\n",
       "   receipt_contract_address  receipt_status receipt_effective_gas_price  \\\n",
       "0                                         1                 14160051552   \n",
       "1                                         1                 14259051552   \n",
       "2                                         1                163852825094   \n",
       "3                                         1                 43000000000   \n",
       "4                                         1                 29160051552   \n",
       "\n",
       "   transaction_type  max_fee_per_gas  max_priority_fee_per_gas  \\\n",
       "0                 2      14160051552                         0   \n",
       "1                 2      18790000000                  99000000   \n",
       "2                 2     163852825094              149692773542   \n",
       "3                 0                0                         0   \n",
       "4                 2      34160051552               15000000000   \n",
       "\n",
       "      block_timestamp        date              last_modified  \n",
       "0 2024-04-05 23:10:59  2024-04-05 2024-04-06 01:22:12.937410  \n",
       "1 2024-04-05 23:10:59  2024-04-05 2024-04-06 01:22:12.937422  \n",
       "2 2024-04-05 23:10:59  2024-04-05 2024-04-06 01:22:12.937432  \n",
       "3 2024-04-05 23:10:59  2024-04-05 2024-04-06 01:22:12.937441  \n",
       "4 2024-04-05 23:10:59  2024-04-05 2024-04-06 01:22:12.937448  \n",
       "\n",
       "[5 rows x 22 columns]"
      ]
     },
     "execution_count": 11,
     "metadata": {},
     "output_type": "execute_result"
    }
   ],
   "source": [
    "df_transaction.head()"
   ]
  },
  {
   "cell_type": "code",
   "execution_count": 12,
   "id": "007f8c6d",
   "metadata": {},
   "outputs": [
    {
     "data": {
      "text/html": [
       "<div>\n",
       "<style scoped>\n",
       "    .dataframe tbody tr th:only-of-type {\n",
       "        vertical-align: middle;\n",
       "    }\n",
       "\n",
       "    .dataframe tbody tr th {\n",
       "        vertical-align: top;\n",
       "    }\n",
       "\n",
       "    .dataframe thead th {\n",
       "        text-align: right;\n",
       "    }\n",
       "</style>\n",
       "<table border=\"1\" class=\"dataframe\">\n",
       "  <thead>\n",
       "    <tr style=\"text-align: right;\">\n",
       "      <th></th>\n",
       "      <th>gas</th>\n",
       "      <th>hash</th>\n",
       "      <th>input</th>\n",
       "      <th>nonce</th>\n",
       "      <th>value</th>\n",
       "      <th>block_number</th>\n",
       "      <th>block_hash</th>\n",
       "      <th>transaction_index</th>\n",
       "      <th>from_address</th>\n",
       "      <th>to_address</th>\n",
       "      <th>...</th>\n",
       "      <th>receipt_cumulative_gas_used</th>\n",
       "      <th>receipt_gas_used</th>\n",
       "      <th>receipt_contract_address</th>\n",
       "      <th>receipt_status</th>\n",
       "      <th>receipt_effective_gas_price</th>\n",
       "      <th>max_fee_per_gas</th>\n",
       "      <th>max_priority_fee_per_gas</th>\n",
       "      <th>block_timestamp</th>\n",
       "      <th>date</th>\n",
       "      <th>last_modified</th>\n",
       "    </tr>\n",
       "    <tr>\n",
       "      <th>transaction_type</th>\n",
       "      <th></th>\n",
       "      <th></th>\n",
       "      <th></th>\n",
       "      <th></th>\n",
       "      <th></th>\n",
       "      <th></th>\n",
       "      <th></th>\n",
       "      <th></th>\n",
       "      <th></th>\n",
       "      <th></th>\n",
       "      <th></th>\n",
       "      <th></th>\n",
       "      <th></th>\n",
       "      <th></th>\n",
       "      <th></th>\n",
       "      <th></th>\n",
       "      <th></th>\n",
       "      <th></th>\n",
       "      <th></th>\n",
       "      <th></th>\n",
       "      <th></th>\n",
       "    </tr>\n",
       "  </thead>\n",
       "  <tbody>\n",
       "    <tr>\n",
       "      <th>0</th>\n",
       "      <td>175048</td>\n",
       "      <td>175048</td>\n",
       "      <td>175048</td>\n",
       "      <td>175048</td>\n",
       "      <td>175048</td>\n",
       "      <td>175048</td>\n",
       "      <td>175048</td>\n",
       "      <td>175048</td>\n",
       "      <td>175048</td>\n",
       "      <td>175048</td>\n",
       "      <td>...</td>\n",
       "      <td>175048</td>\n",
       "      <td>175048</td>\n",
       "      <td>175048</td>\n",
       "      <td>175048</td>\n",
       "      <td>175048</td>\n",
       "      <td>175048</td>\n",
       "      <td>175048</td>\n",
       "      <td>175048</td>\n",
       "      <td>175048</td>\n",
       "      <td>175048</td>\n",
       "    </tr>\n",
       "    <tr>\n",
       "      <th>1</th>\n",
       "      <td>4716</td>\n",
       "      <td>4716</td>\n",
       "      <td>4716</td>\n",
       "      <td>4716</td>\n",
       "      <td>4716</td>\n",
       "      <td>4716</td>\n",
       "      <td>4716</td>\n",
       "      <td>4716</td>\n",
       "      <td>4716</td>\n",
       "      <td>4716</td>\n",
       "      <td>...</td>\n",
       "      <td>4716</td>\n",
       "      <td>4716</td>\n",
       "      <td>4716</td>\n",
       "      <td>4716</td>\n",
       "      <td>4716</td>\n",
       "      <td>4716</td>\n",
       "      <td>4716</td>\n",
       "      <td>4716</td>\n",
       "      <td>4716</td>\n",
       "      <td>4716</td>\n",
       "    </tr>\n",
       "    <tr>\n",
       "      <th>2</th>\n",
       "      <td>1055351</td>\n",
       "      <td>1055351</td>\n",
       "      <td>1055351</td>\n",
       "      <td>1055351</td>\n",
       "      <td>1055351</td>\n",
       "      <td>1055351</td>\n",
       "      <td>1055351</td>\n",
       "      <td>1055351</td>\n",
       "      <td>1055351</td>\n",
       "      <td>1055351</td>\n",
       "      <td>...</td>\n",
       "      <td>1055351</td>\n",
       "      <td>1055351</td>\n",
       "      <td>1055351</td>\n",
       "      <td>1055351</td>\n",
       "      <td>1055351</td>\n",
       "      <td>1055351</td>\n",
       "      <td>1055351</td>\n",
       "      <td>1055351</td>\n",
       "      <td>1055351</td>\n",
       "      <td>1055351</td>\n",
       "    </tr>\n",
       "    <tr>\n",
       "      <th>3</th>\n",
       "      <td>7059</td>\n",
       "      <td>7059</td>\n",
       "      <td>7059</td>\n",
       "      <td>7059</td>\n",
       "      <td>7059</td>\n",
       "      <td>7059</td>\n",
       "      <td>7059</td>\n",
       "      <td>7059</td>\n",
       "      <td>7059</td>\n",
       "      <td>7059</td>\n",
       "      <td>...</td>\n",
       "      <td>7059</td>\n",
       "      <td>7059</td>\n",
       "      <td>7059</td>\n",
       "      <td>7059</td>\n",
       "      <td>7059</td>\n",
       "      <td>7059</td>\n",
       "      <td>7059</td>\n",
       "      <td>7059</td>\n",
       "      <td>7059</td>\n",
       "      <td>7059</td>\n",
       "    </tr>\n",
       "  </tbody>\n",
       "</table>\n",
       "<p>4 rows × 21 columns</p>\n",
       "</div>"
      ],
      "text/plain": [
       "                      gas     hash    input    nonce    value  block_number  \\\n",
       "transaction_type                                                              \n",
       "0                  175048   175048   175048   175048   175048        175048   \n",
       "1                    4716     4716     4716     4716     4716          4716   \n",
       "2                 1055351  1055351  1055351  1055351  1055351       1055351   \n",
       "3                    7059     7059     7059     7059     7059          7059   \n",
       "\n",
       "                  block_hash  transaction_index  from_address  to_address  \\\n",
       "transaction_type                                                            \n",
       "0                     175048             175048        175048      175048   \n",
       "1                       4716               4716          4716        4716   \n",
       "2                    1055351            1055351       1055351     1055351   \n",
       "3                       7059               7059          7059        7059   \n",
       "\n",
       "                  ...  receipt_cumulative_gas_used  receipt_gas_used  \\\n",
       "transaction_type  ...                                                  \n",
       "0                 ...                       175048            175048   \n",
       "1                 ...                         4716              4716   \n",
       "2                 ...                      1055351           1055351   \n",
       "3                 ...                         7059              7059   \n",
       "\n",
       "                  receipt_contract_address  receipt_status  \\\n",
       "transaction_type                                             \n",
       "0                                   175048          175048   \n",
       "1                                     4716            4716   \n",
       "2                                  1055351         1055351   \n",
       "3                                     7059            7059   \n",
       "\n",
       "                  receipt_effective_gas_price  max_fee_per_gas  \\\n",
       "transaction_type                                                 \n",
       "0                                      175048           175048   \n",
       "1                                        4716             4716   \n",
       "2                                     1055351          1055351   \n",
       "3                                        7059             7059   \n",
       "\n",
       "                  max_priority_fee_per_gas  block_timestamp     date  \\\n",
       "transaction_type                                                       \n",
       "0                                   175048           175048   175048   \n",
       "1                                     4716             4716     4716   \n",
       "2                                  1055351          1055351  1055351   \n",
       "3                                     7059             7059     7059   \n",
       "\n",
       "                  last_modified  \n",
       "transaction_type                 \n",
       "0                        175048  \n",
       "1                          4716  \n",
       "2                       1055351  \n",
       "3                          7059  \n",
       "\n",
       "[4 rows x 21 columns]"
      ]
     },
     "execution_count": 12,
     "metadata": {},
     "output_type": "execute_result"
    }
   ],
   "source": [
    "df_transaction.groupby(['transaction_type']).count()"
   ]
  },
  {
   "cell_type": "code",
   "execution_count": 13,
   "id": "c9f4c0a3",
   "metadata": {},
   "outputs": [
    {
     "data": {
      "text/plain": [
       "120013.65872511378"
      ]
     },
     "execution_count": 13,
     "metadata": {},
     "output_type": "execute_result"
    }
   ],
   "source": [
    "14160051552/117987"
   ]
  },
  {
   "cell_type": "code",
   "execution_count": 14,
   "id": "455abbdb",
   "metadata": {},
   "outputs": [
    {
     "data": {
      "text/plain": [
       "-58993"
      ]
     },
     "execution_count": 14,
     "metadata": {},
     "output_type": "execute_result"
    }
   ],
   "source": [
    "117987 - 176980"
   ]
  },
  {
   "cell_type": "code",
   "execution_count": 15,
   "id": "8accd553",
   "metadata": {},
   "outputs": [
    {
     "data": {
      "text/plain": [
       "1670702.002465824"
      ]
     },
     "execution_count": 15,
     "metadata": {},
     "output_type": "execute_result"
    }
   ],
   "source": [
    "(117987 * 14160051552)/1000000000"
   ]
  },
  {
   "cell_type": "code",
   "execution_count": 16,
   "id": "e5cd5cad",
   "metadata": {},
   "outputs": [
    {
     "data": {
      "text/plain": [
       "73337"
      ]
     },
     "execution_count": 16,
     "metadata": {},
     "output_type": "execute_result"
    }
   ],
   "source": [
    "205910 - 132573"
   ]
  },
  {
   "cell_type": "code",
   "execution_count": 17,
   "id": "ea34a8b9",
   "metadata": {},
   "outputs": [
    {
     "data": {
      "text/plain": [
       "-44650"
      ]
     },
     "execution_count": 17,
     "metadata": {},
     "output_type": "execute_result"
    }
   ],
   "source": [
    "205910 - 250560"
   ]
  },
  {
   "cell_type": "code",
   "execution_count": 9,
   "id": "e5f8946d",
   "metadata": {},
   "outputs": [
    {
     "name": "stderr",
     "output_type": "stream",
     "text": [
      "/tmp/ipykernel_5681/4109902355.py:1: FutureWarning: The default value of numeric_only in DataFrameGroupBy.sum is deprecated. In a future version, numeric_only will default to False. Either specify numeric_only or select only columns which should be valid for the function.\n",
      "  df_transaction[df_transaction['block_number'] == 19591130].groupby('transaction_type').sum()\n"
     ]
    },
    {
     "data": {
      "text/html": [
       "<div>\n",
       "<style scoped>\n",
       "    .dataframe tbody tr th:only-of-type {\n",
       "        vertical-align: middle;\n",
       "    }\n",
       "\n",
       "    .dataframe tbody tr th {\n",
       "        vertical-align: top;\n",
       "    }\n",
       "\n",
       "    .dataframe thead th {\n",
       "        text-align: right;\n",
       "    }\n",
       "</style>\n",
       "<table border=\"1\" class=\"dataframe\">\n",
       "  <thead>\n",
       "    <tr style=\"text-align: right;\">\n",
       "      <th></th>\n",
       "      <th>gas</th>\n",
       "      <th>nonce</th>\n",
       "      <th>value</th>\n",
       "      <th>block_number</th>\n",
       "      <th>transaction_index</th>\n",
       "      <th>gas_price</th>\n",
       "      <th>receipt_cumulative_gas_used</th>\n",
       "      <th>receipt_gas_used</th>\n",
       "      <th>receipt_status</th>\n",
       "      <th>receipt_effective_gas_price</th>\n",
       "      <th>max_fee_per_gas</th>\n",
       "      <th>max_priority_fee_per_gas</th>\n",
       "    </tr>\n",
       "    <tr>\n",
       "      <th>transaction_type</th>\n",
       "      <th></th>\n",
       "      <th></th>\n",
       "      <th></th>\n",
       "      <th></th>\n",
       "      <th></th>\n",
       "      <th></th>\n",
       "      <th></th>\n",
       "      <th></th>\n",
       "      <th></th>\n",
       "      <th></th>\n",
       "      <th></th>\n",
       "      <th></th>\n",
       "    </tr>\n",
       "  </thead>\n",
       "  <tbody>\n",
       "    <tr>\n",
       "      <th>0</th>\n",
       "      <td>5867206</td>\n",
       "      <td>34247099</td>\n",
       "      <td>7.312997e+18</td>\n",
       "      <td>920783110</td>\n",
       "      <td>4444</td>\n",
       "      <td>1355550337008</td>\n",
       "      <td>383994688</td>\n",
       "      <td>1973332</td>\n",
       "      <td>45</td>\n",
       "      <td>1355550337008</td>\n",
       "      <td>0</td>\n",
       "      <td>0</td>\n",
       "    </tr>\n",
       "    <tr>\n",
       "      <th>1</th>\n",
       "      <td>1521055</td>\n",
       "      <td>2291102</td>\n",
       "      <td>1.572296e+18</td>\n",
       "      <td>78364520</td>\n",
       "      <td>615</td>\n",
       "      <td>98492623482</td>\n",
       "      <td>49352816</td>\n",
       "      <td>84055</td>\n",
       "      <td>4</td>\n",
       "      <td>98492623482</td>\n",
       "      <td>0</td>\n",
       "      <td>0</td>\n",
       "    </tr>\n",
       "    <tr>\n",
       "      <th>2</th>\n",
       "      <td>54650000</td>\n",
       "      <td>129679667</td>\n",
       "      <td>2.937137e+20</td>\n",
       "      <td>3389265490</td>\n",
       "      <td>20053</td>\n",
       "      <td>4553505201541</td>\n",
       "      <td>1723787721</td>\n",
       "      <td>15942200</td>\n",
       "      <td>169</td>\n",
       "      <td>4553505201541</td>\n",
       "      <td>9078630592732</td>\n",
       "      <td>571877882969</td>\n",
       "    </tr>\n",
       "    <tr>\n",
       "      <th>3</th>\n",
       "      <td>21000</td>\n",
       "      <td>1110571</td>\n",
       "      <td>0.000000e+00</td>\n",
       "      <td>19591130</td>\n",
       "      <td>88</td>\n",
       "      <td>25989800723</td>\n",
       "      <td>8112318</td>\n",
       "      <td>21000</td>\n",
       "      <td>1</td>\n",
       "      <td>25989800723</td>\n",
       "      <td>51450850796</td>\n",
       "      <td>2000000000</td>\n",
       "    </tr>\n",
       "  </tbody>\n",
       "</table>\n",
       "</div>"
      ],
      "text/plain": [
       "                       gas      nonce         value  block_number  \\\n",
       "transaction_type                                                    \n",
       "0                  5867206   34247099  7.312997e+18     920783110   \n",
       "1                  1521055    2291102  1.572296e+18      78364520   \n",
       "2                 54650000  129679667  2.937137e+20    3389265490   \n",
       "3                    21000    1110571  0.000000e+00      19591130   \n",
       "\n",
       "                  transaction_index      gas_price  \\\n",
       "transaction_type                                     \n",
       "0                              4444  1355550337008   \n",
       "1                               615    98492623482   \n",
       "2                             20053  4553505201541   \n",
       "3                                88    25989800723   \n",
       "\n",
       "                  receipt_cumulative_gas_used  receipt_gas_used  \\\n",
       "transaction_type                                                  \n",
       "0                                   383994688           1973332   \n",
       "1                                    49352816             84055   \n",
       "2                                  1723787721          15942200   \n",
       "3                                     8112318             21000   \n",
       "\n",
       "                  receipt_status  receipt_effective_gas_price  \\\n",
       "transaction_type                                                \n",
       "0                             45                1355550337008   \n",
       "1                              4                  98492623482   \n",
       "2                            169                4553505201541   \n",
       "3                              1                  25989800723   \n",
       "\n",
       "                  max_fee_per_gas  max_priority_fee_per_gas  \n",
       "transaction_type                                             \n",
       "0                               0                         0  \n",
       "1                               0                         0  \n",
       "2                   9078630592732              571877882969  \n",
       "3                     51450850796                2000000000  "
      ]
     },
     "execution_count": 9,
     "metadata": {},
     "output_type": "execute_result"
    }
   ],
   "source": [
    "df_transaction[df_transaction['block_number'] == 19591130].groupby('transaction_type').sum()"
   ]
  },
  {
   "cell_type": "code",
   "execution_count": 10,
   "id": "28927f09",
   "metadata": {},
   "outputs": [
    {
     "data": {
      "text/plain": [
       "14160051552"
      ]
     },
     "execution_count": 10,
     "metadata": {},
     "output_type": "execute_result"
    }
   ],
   "source": [
    "163852825094-149692773542"
   ]
  },
  {
   "cell_type": "code",
   "execution_count": 16,
   "id": "0ba34a02",
   "metadata": {},
   "outputs": [
    {
     "data": {
      "text/plain": [
       "0.212779065"
      ]
     },
     "execution_count": 16,
     "metadata": {},
     "output_type": "execute_result"
    }
   ],
   "source": [
    "value = convert_wei_to_gwei(df_transaction.iloc[0]['value'])\n",
    "value #value to transfer in gwei"
   ]
  },
  {
   "cell_type": "code",
   "execution_count": 17,
   "id": "ab7ff382",
   "metadata": {},
   "outputs": [
    {
     "data": {
      "text/plain": [
       "14.160051552"
      ]
     },
     "execution_count": 17,
     "metadata": {},
     "output_type": "execute_result"
    }
   ],
   "source": [
    "max_fee_per_gas = convert_wei_to_gwei(df_transaction.iloc[0]['max_fee_per_gas'])\n",
    "max_fee_per_gas # base+priority fee in gwei"
   ]
  },
  {
   "cell_type": "code",
   "execution_count": 18,
   "id": "3c88c7ac",
   "metadata": {},
   "outputs": [
    {
     "data": {
      "text/plain": [
       "0.0"
      ]
     },
     "execution_count": 18,
     "metadata": {},
     "output_type": "execute_result"
    }
   ],
   "source": [
    "max_priority_fee_per_gas = convert_wei_to_gwei(df_transaction.iloc[0]['max_priority_fee_per_gas'])\n",
    "max_priority_fee_per_gas #priority fee in gwei"
   ]
  },
  {
   "cell_type": "code",
   "execution_count": null,
   "id": "a681075e",
   "metadata": {},
   "outputs": [],
   "source": []
  },
  {
   "cell_type": "code",
   "execution_count": null,
   "id": "f2469894",
   "metadata": {},
   "outputs": [],
   "source": []
  },
  {
   "cell_type": "code",
   "execution_count": null,
   "id": "66ed99ba",
   "metadata": {},
   "outputs": [],
   "source": []
  },
  {
   "cell_type": "code",
   "execution_count": null,
   "id": "f8a2757d",
   "metadata": {},
   "outputs": [],
   "source": []
  },
  {
   "cell_type": "code",
   "execution_count": null,
   "id": "cb550b9e",
   "metadata": {},
   "outputs": [],
   "source": []
  },
  {
   "cell_type": "code",
   "execution_count": null,
   "id": "89446a16",
   "metadata": {},
   "outputs": [],
   "source": []
  },
  {
   "cell_type": "code",
   "execution_count": 158,
   "id": "9c130a76",
   "metadata": {},
   "outputs": [],
   "source": [
    "x = convert_wei_to_gwei(14160051552/155296)"
   ]
  },
  {
   "cell_type": "code",
   "execution_count": 159,
   "id": "2b0a36c1",
   "metadata": {},
   "outputs": [
    {
     "data": {
      "text/plain": [
       "9.118104492066763e-05"
      ]
     },
     "execution_count": 159,
     "metadata": {},
     "output_type": "execute_result"
    }
   ],
   "source": [
    "x"
   ]
  },
  {
   "cell_type": "code",
   "execution_count": 123,
   "id": "2c90ea67",
   "metadata": {},
   "outputs": [
    {
     "data": {
      "text/plain": [
       "11243925"
      ]
     },
     "execution_count": 123,
     "metadata": {},
     "output_type": "execute_result"
    }
   ],
   "source": [
    "7139 * 225 * 7"
   ]
  },
  {
   "cell_type": "code",
   "execution_count": 138,
   "id": "516b6ede",
   "metadata": {},
   "outputs": [
    {
     "data": {
      "text/plain": [
       "2506045923672960"
      ]
     },
     "execution_count": 138,
     "metadata": {},
     "output_type": "execute_result"
    }
   ],
   "source": [
    "gas * gas_price"
   ]
  },
  {
   "cell_type": "code",
   "execution_count": 170,
   "id": "dd8a7020",
   "metadata": {},
   "outputs": [
    {
     "data": {
      "text/plain": [
       "212779065.0"
      ]
     },
     "execution_count": 170,
     "metadata": {},
     "output_type": "execute_result"
    }
   ],
   "source": [
    "value = df.iloc[0]['value'] ## value in wei i.e 10^-18. Lets make it gigawei gwei\n",
    "value"
   ]
  },
  {
   "cell_type": "code",
   "execution_count": 146,
   "id": "d7afeca3",
   "metadata": {},
   "outputs": [],
   "source": []
  },
  {
   "cell_type": "code",
   "execution_count": 147,
   "id": "f87ea9f7",
   "metadata": {},
   "outputs": [],
   "source": [
    "gwei_val = convert_wei_to_gwei(value)"
   ]
  },
  {
   "cell_type": "code",
   "execution_count": 148,
   "id": "f0ad0c4a",
   "metadata": {},
   "outputs": [
    {
     "data": {
      "text/plain": [
       "0.212779065"
      ]
     },
     "execution_count": 148,
     "metadata": {},
     "output_type": "execute_result"
    }
   ],
   "source": [
    "gwei_val"
   ]
  },
  {
   "cell_type": "code",
   "execution_count": 108,
   "id": "ad51938a",
   "metadata": {},
   "outputs": [
    {
     "data": {
      "text/plain": [
       "7139"
      ]
     },
     "execution_count": 108,
     "metadata": {},
     "output_type": "execute_result"
    }
   ],
   "source": [
    "df['block_number'].nunique()"
   ]
  },
  {
   "cell_type": "code",
   "execution_count": 83,
   "id": "097b12f9",
   "metadata": {},
   "outputs": [
    {
     "data": {
      "text/plain": [
       "176980"
      ]
     },
     "execution_count": 83,
     "metadata": {},
     "output_type": "execute_result"
    }
   ],
   "source": [
    "gas = df.iloc[0]['gas']\n",
    "gas"
   ]
  },
  {
   "cell_type": "code",
   "execution_count": null,
   "id": "28fea6d9",
   "metadata": {},
   "outputs": [],
   "source": []
  },
  {
   "cell_type": "code",
   "execution_count": 90,
   "id": "bcfe0146",
   "metadata": {},
   "outputs": [
    {
     "data": {
      "text/plain": [
       "212602085.0"
      ]
     },
     "execution_count": 90,
     "metadata": {},
     "output_type": "execute_result"
    }
   ],
   "source": [
    "fees = value - gas\n",
    "fees"
   ]
  },
  {
   "cell_type": "code",
   "execution_count": 92,
   "id": "5bec0718",
   "metadata": {},
   "outputs": [
    {
     "data": {
      "text/plain": [
       "2506045.92367296"
      ]
     },
     "execution_count": 92,
     "metadata": {},
     "output_type": "execute_result"
    }
   ],
   "source": [
    "(gas * gas_price)/1000000000"
   ]
  },
  {
   "cell_type": "code",
   "execution_count": 161,
   "id": "e024c936",
   "metadata": {},
   "outputs": [
    {
     "data": {
      "text/plain": [
       "14160051552"
      ]
     },
     "execution_count": 161,
     "metadata": {},
     "output_type": "execute_result"
    }
   ],
   "source": [
    "gas_price = df.iloc[0]['gas_price']\n",
    "gas_price"
   ]
  },
  {
   "cell_type": "code",
   "execution_count": 167,
   "id": "42076a49",
   "metadata": {},
   "outputs": [
    {
     "data": {
      "text/plain": [
       "2506045923672960"
      ]
     },
     "execution_count": 167,
     "metadata": {},
     "output_type": "execute_result"
    }
   ],
   "source": [
    "total_wei_cost = gas * gas_price\n",
    "total_wei_cost"
   ]
  },
  {
   "cell_type": "code",
   "execution_count": 168,
   "id": "2db97f29",
   "metadata": {},
   "outputs": [
    {
     "data": {
      "text/plain": [
       "80009.33185670697"
      ]
     },
     "execution_count": 168,
     "metadata": {},
     "output_type": "execute_result"
    }
   ],
   "source": [
    "gas_price/gas"
   ]
  },
  {
   "cell_type": "code",
   "execution_count": null,
   "id": "40b037d9",
   "metadata": {},
   "outputs": [],
   "source": [
    "value + "
   ]
  },
  {
   "cell_type": "code",
   "execution_count": 82,
   "id": "657db4a3",
   "metadata": {},
   "outputs": [
    {
     "data": {
      "text/plain": [
       "2"
      ]
     },
     "execution_count": 82,
     "metadata": {},
     "output_type": "execute_result"
    }
   ],
   "source": [
    "df.iloc[0]['transaction_type']"
   ]
  },
  {
   "cell_type": "code",
   "execution_count": 80,
   "id": "bd7f2688",
   "metadata": {},
   "outputs": [
    {
     "data": {
      "text/plain": [
       "117987"
      ]
     },
     "execution_count": 80,
     "metadata": {},
     "output_type": "execute_result"
    }
   ],
   "source": [
    "receipt_gas_used = df.iloc[0]['receipt_gas_used']\n",
    "receipt_gas_used"
   ]
  },
  {
   "cell_type": "code",
   "execution_count": 93,
   "id": "1b31a0c9",
   "metadata": {},
   "outputs": [
    {
     "data": {
      "text/plain": [
       "58993"
      ]
     },
     "execution_count": 93,
     "metadata": {},
     "output_type": "execute_result"
    }
   ],
   "source": [
    "gas - receipt_gas_used"
   ]
  },
  {
   "cell_type": "code",
   "execution_count": 85,
   "id": "05da73c6",
   "metadata": {},
   "outputs": [
    {
     "data": {
      "text/plain": [
       "14160051552"
      ]
     },
     "execution_count": 85,
     "metadata": {},
     "output_type": "execute_result"
    }
   ],
   "source": [
    "receipt_effective_gas_price = df.iloc[0]['receipt_effective_gas_price']\n",
    "receipt_effective_gas_price"
   ]
  },
  {
   "cell_type": "code",
   "execution_count": 86,
   "id": "3856977b",
   "metadata": {},
   "outputs": [
    {
     "data": {
      "text/plain": [
       "14160051552"
      ]
     },
     "execution_count": 86,
     "metadata": {},
     "output_type": "execute_result"
    }
   ],
   "source": [
    "max_fee_per_gas = df.iloc[0]['max_fee_per_gas']\n",
    "max_fee_per_gas"
   ]
  },
  {
   "cell_type": "code",
   "execution_count": 169,
   "id": "8a11a0a6",
   "metadata": {},
   "outputs": [
    {
     "data": {
      "text/plain": [
       "80009.33185670697"
      ]
     },
     "execution_count": 169,
     "metadata": {},
     "output_type": "execute_result"
    }
   ],
   "source": [
    "max_fee_per_gas/gas"
   ]
  },
  {
   "cell_type": "code",
   "execution_count": 171,
   "id": "4ec579c1",
   "metadata": {},
   "outputs": [
    {
     "data": {
      "text/plain": [
       "212779065.0"
      ]
     },
     "execution_count": 171,
     "metadata": {},
     "output_type": "execute_result"
    }
   ],
   "source": [
    "value"
   ]
  },
  {
   "cell_type": "code",
   "execution_count": 87,
   "id": "2714124d",
   "metadata": {},
   "outputs": [
    {
     "data": {
      "text/plain": [
       "0"
      ]
     },
     "execution_count": 87,
     "metadata": {},
     "output_type": "execute_result"
    }
   ],
   "source": [
    "max_priority_fee_per_gas = df.iloc[0]['max_priority_fee_per_gas']\n",
    "max_priority_fee_per_gas"
   ]
  },
  {
   "cell_type": "code",
   "execution_count": null,
   "id": "a3624b86",
   "metadata": {},
   "outputs": [],
   "source": [
    "21000 gas unit"
   ]
  },
  {
   "cell_type": "code",
   "execution_count": 152,
   "id": "d5221405",
   "metadata": {},
   "outputs": [
    {
     "ename": "SyntaxError",
     "evalue": "'return' outside function (1495763037.py, line 2)",
     "output_type": "error",
     "traceback": [
      "\u001b[0;36m  Cell \u001b[0;32mIn[152], line 2\u001b[0;36m\u001b[0m\n\u001b[0;31m    return 'no tip'\u001b[0m\n\u001b[0m    ^\u001b[0m\n\u001b[0;31mSyntaxError\u001b[0m\u001b[0;31m:\u001b[0m 'return' outside function\n"
     ]
    }
   ],
   "source": [
    "def tip_or_no_tip(gas_price, max_fee_per_gas):\n",
    "    if gas_price == max_fee_per_gas:\n",
    "        return('no tip')\n",
    "    else:\n",
    "        return(f'tip{}')"
   ]
  },
  {
   "cell_type": "code",
   "execution_count": null,
   "id": "aa48c9be",
   "metadata": {},
   "outputs": [],
   "source": []
  },
  {
   "cell_type": "code",
   "execution_count": null,
   "id": "8e7b48b2",
   "metadata": {},
   "outputs": [],
   "source": []
  },
  {
   "cell_type": "code",
   "execution_count": null,
   "id": "6abf8dbd",
   "metadata": {},
   "outputs": [],
   "source": []
  },
  {
   "cell_type": "code",
   "execution_count": null,
   "id": "afd2510b",
   "metadata": {},
   "outputs": [],
   "source": []
  },
  {
   "cell_type": "code",
   "execution_count": null,
   "id": "6bd44b49",
   "metadata": {},
   "outputs": [],
   "source": []
  },
  {
   "cell_type": "code",
   "execution_count": null,
   "id": "205c070c",
   "metadata": {},
   "outputs": [],
   "source": []
  },
  {
   "cell_type": "code",
   "execution_count": 62,
   "id": "a5f53e11",
   "metadata": {},
   "outputs": [
    {
     "data": {
      "text/plain": [
       "7139"
      ]
     },
     "execution_count": 62,
     "metadata": {},
     "output_type": "execute_result"
    }
   ],
   "source": [
    "df_transaction['block_number'].nunique()"
   ]
  },
  {
   "cell_type": "code",
   "execution_count": 55,
   "id": "9fa0ad15",
   "metadata": {},
   "outputs": [
    {
     "data": {
      "text/plain": [
       "gas                                     int64\n",
       "hash                                   object\n",
       "input                                  object\n",
       "nonce                                   int64\n",
       "value                                 float64\n",
       "block_number                            int64\n",
       "block_hash                             object\n",
       "transaction_index                       int64\n",
       "from_address                           object\n",
       "to_address                             object\n",
       "gas_price                               int64\n",
       "receipt_cumulative_gas_used             int64\n",
       "receipt_gas_used                        int64\n",
       "receipt_contract_address               object\n",
       "receipt_status                          int64\n",
       "receipt_effective_gas_price             int64\n",
       "transaction_type                        int64\n",
       "max_fee_per_gas                         int64\n",
       "max_priority_fee_per_gas                int64\n",
       "block_timestamp                datetime64[ns]\n",
       "date                                   object\n",
       "last_modified                  datetime64[ns]\n",
       "dtype: object"
      ]
     },
     "execution_count": 55,
     "metadata": {},
     "output_type": "execute_result"
    }
   ],
   "source": [
    "df_transaction.dtypes"
   ]
  },
  {
   "cell_type": "code",
   "execution_count": 56,
   "id": "018c3993",
   "metadata": {},
   "outputs": [
    {
     "data": {
      "text/plain": [
       "(1242174, 22)"
      ]
     },
     "execution_count": 56,
     "metadata": {},
     "output_type": "execute_result"
    }
   ],
   "source": [
    "df_transaction.shape"
   ]
  },
  {
   "cell_type": "code",
   "execution_count": null,
   "id": "dd8fe2e1",
   "metadata": {},
   "outputs": [],
   "source": []
  },
  {
   "cell_type": "markdown",
   "id": "30474b34",
   "metadata": {},
   "source": [
    "## Block Data"
   ]
  },
  {
   "cell_type": "code",
   "execution_count": 113,
   "id": "df9f9557",
   "metadata": {},
   "outputs": [],
   "source": [
    "df_block = pd.read_parquet('./aws/public_blockchain/ethereum/blocks/part-00000-756ef22d-c85d-4ffd-b5b3-efe5934e9952-c000.snappy.parquet')"
   ]
  },
  {
   "cell_type": "code",
   "execution_count": 114,
   "id": "0876f420",
   "metadata": {},
   "outputs": [
    {
     "data": {
      "text/html": [
       "<div>\n",
       "<style scoped>\n",
       "    .dataframe tbody tr th:only-of-type {\n",
       "        vertical-align: middle;\n",
       "    }\n",
       "\n",
       "    .dataframe tbody tr th {\n",
       "        vertical-align: top;\n",
       "    }\n",
       "\n",
       "    .dataframe thead th {\n",
       "        text-align: right;\n",
       "    }\n",
       "</style>\n",
       "<table border=\"1\" class=\"dataframe\">\n",
       "  <thead>\n",
       "    <tr style=\"text-align: right;\">\n",
       "      <th></th>\n",
       "      <th>difficulty</th>\n",
       "      <th>hash</th>\n",
       "      <th>miner</th>\n",
       "      <th>nonce</th>\n",
       "      <th>number</th>\n",
       "      <th>size</th>\n",
       "      <th>timestamp</th>\n",
       "      <th>total_difficulty</th>\n",
       "      <th>base_fee_per_gas</th>\n",
       "      <th>gas_limit</th>\n",
       "      <th>...</th>\n",
       "      <th>extra_data</th>\n",
       "      <th>logs_bloom</th>\n",
       "      <th>parent_hash</th>\n",
       "      <th>state_root</th>\n",
       "      <th>receipts_root</th>\n",
       "      <th>transactions_root</th>\n",
       "      <th>sha3_uncles</th>\n",
       "      <th>transaction_count</th>\n",
       "      <th>date</th>\n",
       "      <th>last_modified</th>\n",
       "    </tr>\n",
       "  </thead>\n",
       "  <tbody>\n",
       "    <tr>\n",
       "      <th>0</th>\n",
       "      <td>0.0</td>\n",
       "      <td>0x51c25aa8117b7c3239b8ff570de26191a367b71ce6cd...</td>\n",
       "      <td>0x95222290dd7278aa3ddd389cc1e1d165cc4bafe5</td>\n",
       "      <td>0x0000000000000000</td>\n",
       "      <td>19591130</td>\n",
       "      <td>81985</td>\n",
       "      <td>2024-04-05 17:50:11</td>\n",
       "      <td>5.875000e+22</td>\n",
       "      <td>23989800723</td>\n",
       "      <td>30000000</td>\n",
       "      <td>...</td>\n",
       "      <td>0x6265617665726275696c642e6f7267</td>\n",
       "      <td>0x9f7529cfb9199731996a45a3f7f1f847f217d5d5aa67...</td>\n",
       "      <td>0xb99158aa15619830da20140ddf6f9f377e5839b2a7fe...</td>\n",
       "      <td>0xef3a3646fdacc388afa22c0d31ae3a579f54d50f2b14...</td>\n",
       "      <td>0x120198046a65fd9adea72bb551474623d6736c2d3232...</td>\n",
       "      <td>0xbbcbdab0f715178425a1aa4f4f323bdac5264750c56e...</td>\n",
       "      <td>0x1dcc4de8dec75d7aab85b567b6ccd41ad312451b948a...</td>\n",
       "      <td>225</td>\n",
       "      <td>2024-04-05</td>\n",
       "      <td>2024-04-06 01:06:04.243646</td>\n",
       "    </tr>\n",
       "    <tr>\n",
       "      <th>1</th>\n",
       "      <td>0.0</td>\n",
       "      <td>0x03de1159f7f2e27fa29dfa57aaf29c945b65e63763fe...</td>\n",
       "      <td>0x1f9090aae28b8a3dceadf281b0f12828e676c326</td>\n",
       "      <td>0x0000000000000000</td>\n",
       "      <td>19586123</td>\n",
       "      <td>87948</td>\n",
       "      <td>2024-04-05 00:59:11</td>\n",
       "      <td>5.875000e+22</td>\n",
       "      <td>13237938934</td>\n",
       "      <td>30000000</td>\n",
       "      <td>...</td>\n",
       "      <td>0x407273796e636275696c646572</td>\n",
       "      <td>0x9a69a12567be9fc4379a96fea6e8b82f1684d99f9cfa...</td>\n",
       "      <td>0x11dc6a1d2eecdd278af6f7ba673ccd9066c89a3ef69c...</td>\n",
       "      <td>0xf48f58edf30cf61989c09f979c30e65b4dd730e6cd2c...</td>\n",
       "      <td>0xe362338a6ad6806b235586bea6c8d41fe590cf9304b8...</td>\n",
       "      <td>0x237d26e6983ea1117a0ee6599e0f71d1dece3ac44eba...</td>\n",
       "      <td>0x1dcc4de8dec75d7aab85b567b6ccd41ad312451b948a...</td>\n",
       "      <td>202</td>\n",
       "      <td>2024-04-05</td>\n",
       "      <td>2024-04-06 00:09:33.652885</td>\n",
       "    </tr>\n",
       "    <tr>\n",
       "      <th>2</th>\n",
       "      <td>0.0</td>\n",
       "      <td>0x231da060a1239a02bd6fae6bbcadb3c1fd9021304edc...</td>\n",
       "      <td>0x88c6c46ebf353a52bdbab708c23d0c81daa8134a</td>\n",
       "      <td>0x0000000000000000</td>\n",
       "      <td>19586442</td>\n",
       "      <td>274372</td>\n",
       "      <td>2024-04-05 02:03:35</td>\n",
       "      <td>5.875000e+22</td>\n",
       "      <td>13328391053</td>\n",
       "      <td>30000000</td>\n",
       "      <td>...</td>\n",
       "      <td>0x6a6574626c64722e78797a</td>\n",
       "      <td>0xc3738946212a43705e7a1ff6acb803093a3f91482cb2...</td>\n",
       "      <td>0x410064bdfd29f5a8984b35120760378f1b97226b938d...</td>\n",
       "      <td>0x0a390e7cffc54fa79f99214fc6ae096add0fbe967ccf...</td>\n",
       "      <td>0x54b70b9c5d9b6e5645ac9ec1a2e63e2e1753bb71d56a...</td>\n",
       "      <td>0x11a98c1fa76b1851fd1a17eef3baaff4f0fb7af61532...</td>\n",
       "      <td>0x1dcc4de8dec75d7aab85b567b6ccd41ad312451b948a...</td>\n",
       "      <td>229</td>\n",
       "      <td>2024-04-05</td>\n",
       "      <td>2024-04-06 00:13:21.531809</td>\n",
       "    </tr>\n",
       "    <tr>\n",
       "      <th>3</th>\n",
       "      <td>0.0</td>\n",
       "      <td>0xc6637772c9f18e89900672ac5e93826cddbf7d103761...</td>\n",
       "      <td>0x4838b106fce9647bdf1e7877bf73ce8b0bad5f97</td>\n",
       "      <td>0x0000000000000000</td>\n",
       "      <td>19586627</td>\n",
       "      <td>293669</td>\n",
       "      <td>2024-04-05 02:40:47</td>\n",
       "      <td>5.875000e+22</td>\n",
       "      <td>15566488712</td>\n",
       "      <td>30000000</td>\n",
       "      <td>...</td>\n",
       "      <td>0x546974616e2028746974616e6275696c6465722e7879...</td>\n",
       "      <td>0x37fb7d8a617b47c035f8b6ffce35ffb233cf91155f33...</td>\n",
       "      <td>0xe75395b89b73acd52ad929e8c5a9119e42a727b14423...</td>\n",
       "      <td>0x4892fac7d22176c2530bbbd2bd2a90aebaf5bb20e647...</td>\n",
       "      <td>0x11d8d409f93468cd8e09206953703b3175e6b99c2698...</td>\n",
       "      <td>0xb14387d02f98c2ef8c8f736e8c2527e21e40fbb22d00...</td>\n",
       "      <td>0x1dcc4de8dec75d7aab85b567b6ccd41ad312451b948a...</td>\n",
       "      <td>224</td>\n",
       "      <td>2024-04-05</td>\n",
       "      <td>2024-04-06 00:15:30.271035</td>\n",
       "    </tr>\n",
       "    <tr>\n",
       "      <th>4</th>\n",
       "      <td>0.0</td>\n",
       "      <td>0x343a0ac24126c15d85c765da330b5af11f574d6fecc1...</td>\n",
       "      <td>0x95222290dd7278aa3ddd389cc1e1d165cc4bafe5</td>\n",
       "      <td>0x0000000000000000</td>\n",
       "      <td>19592962</td>\n",
       "      <td>51644</td>\n",
       "      <td>2024-04-05 23:58:23</td>\n",
       "      <td>5.875000e+22</td>\n",
       "      <td>11351954829</td>\n",
       "      <td>30000000</td>\n",
       "      <td>...</td>\n",
       "      <td>0x6265617665726275696c642e6f7267</td>\n",
       "      <td>0x6321a8e076cb5424983020739e911bc23d86824c0fdc...</td>\n",
       "      <td>0x5a74da1f36adb0c4bd987fcfbed19c6ddf6c9aa83445...</td>\n",
       "      <td>0xe289bc3565b72255e9c09c39737dd46b30741d3accae...</td>\n",
       "      <td>0x3e2e2a32cde8251f2eeff3baad6108029f650af88c45...</td>\n",
       "      <td>0x6edf833552ae344547a9f25c1c625f26f65eb6b35e04...</td>\n",
       "      <td>0x1dcc4de8dec75d7aab85b567b6ccd41ad312451b948a...</td>\n",
       "      <td>145</td>\n",
       "      <td>2024-04-05</td>\n",
       "      <td>2024-04-06 01:24:41.711737</td>\n",
       "    </tr>\n",
       "  </tbody>\n",
       "</table>\n",
       "<p>5 rows × 21 columns</p>\n",
       "</div>"
      ],
      "text/plain": [
       "   difficulty                                               hash  \\\n",
       "0         0.0  0x51c25aa8117b7c3239b8ff570de26191a367b71ce6cd...   \n",
       "1         0.0  0x03de1159f7f2e27fa29dfa57aaf29c945b65e63763fe...   \n",
       "2         0.0  0x231da060a1239a02bd6fae6bbcadb3c1fd9021304edc...   \n",
       "3         0.0  0xc6637772c9f18e89900672ac5e93826cddbf7d103761...   \n",
       "4         0.0  0x343a0ac24126c15d85c765da330b5af11f574d6fecc1...   \n",
       "\n",
       "                                        miner               nonce    number  \\\n",
       "0  0x95222290dd7278aa3ddd389cc1e1d165cc4bafe5  0x0000000000000000  19591130   \n",
       "1  0x1f9090aae28b8a3dceadf281b0f12828e676c326  0x0000000000000000  19586123   \n",
       "2  0x88c6c46ebf353a52bdbab708c23d0c81daa8134a  0x0000000000000000  19586442   \n",
       "3  0x4838b106fce9647bdf1e7877bf73ce8b0bad5f97  0x0000000000000000  19586627   \n",
       "4  0x95222290dd7278aa3ddd389cc1e1d165cc4bafe5  0x0000000000000000  19592962   \n",
       "\n",
       "     size           timestamp  total_difficulty  base_fee_per_gas  gas_limit  \\\n",
       "0   81985 2024-04-05 17:50:11      5.875000e+22       23989800723   30000000   \n",
       "1   87948 2024-04-05 00:59:11      5.875000e+22       13237938934   30000000   \n",
       "2  274372 2024-04-05 02:03:35      5.875000e+22       13328391053   30000000   \n",
       "3  293669 2024-04-05 02:40:47      5.875000e+22       15566488712   30000000   \n",
       "4   51644 2024-04-05 23:58:23      5.875000e+22       11351954829   30000000   \n",
       "\n",
       "   ...                                         extra_data  \\\n",
       "0  ...                   0x6265617665726275696c642e6f7267   \n",
       "1  ...                       0x407273796e636275696c646572   \n",
       "2  ...                           0x6a6574626c64722e78797a   \n",
       "3  ...  0x546974616e2028746974616e6275696c6465722e7879...   \n",
       "4  ...                   0x6265617665726275696c642e6f7267   \n",
       "\n",
       "                                          logs_bloom  \\\n",
       "0  0x9f7529cfb9199731996a45a3f7f1f847f217d5d5aa67...   \n",
       "1  0x9a69a12567be9fc4379a96fea6e8b82f1684d99f9cfa...   \n",
       "2  0xc3738946212a43705e7a1ff6acb803093a3f91482cb2...   \n",
       "3  0x37fb7d8a617b47c035f8b6ffce35ffb233cf91155f33...   \n",
       "4  0x6321a8e076cb5424983020739e911bc23d86824c0fdc...   \n",
       "\n",
       "                                         parent_hash  \\\n",
       "0  0xb99158aa15619830da20140ddf6f9f377e5839b2a7fe...   \n",
       "1  0x11dc6a1d2eecdd278af6f7ba673ccd9066c89a3ef69c...   \n",
       "2  0x410064bdfd29f5a8984b35120760378f1b97226b938d...   \n",
       "3  0xe75395b89b73acd52ad929e8c5a9119e42a727b14423...   \n",
       "4  0x5a74da1f36adb0c4bd987fcfbed19c6ddf6c9aa83445...   \n",
       "\n",
       "                                          state_root  \\\n",
       "0  0xef3a3646fdacc388afa22c0d31ae3a579f54d50f2b14...   \n",
       "1  0xf48f58edf30cf61989c09f979c30e65b4dd730e6cd2c...   \n",
       "2  0x0a390e7cffc54fa79f99214fc6ae096add0fbe967ccf...   \n",
       "3  0x4892fac7d22176c2530bbbd2bd2a90aebaf5bb20e647...   \n",
       "4  0xe289bc3565b72255e9c09c39737dd46b30741d3accae...   \n",
       "\n",
       "                                       receipts_root  \\\n",
       "0  0x120198046a65fd9adea72bb551474623d6736c2d3232...   \n",
       "1  0xe362338a6ad6806b235586bea6c8d41fe590cf9304b8...   \n",
       "2  0x54b70b9c5d9b6e5645ac9ec1a2e63e2e1753bb71d56a...   \n",
       "3  0x11d8d409f93468cd8e09206953703b3175e6b99c2698...   \n",
       "4  0x3e2e2a32cde8251f2eeff3baad6108029f650af88c45...   \n",
       "\n",
       "                                   transactions_root  \\\n",
       "0  0xbbcbdab0f715178425a1aa4f4f323bdac5264750c56e...   \n",
       "1  0x237d26e6983ea1117a0ee6599e0f71d1dece3ac44eba...   \n",
       "2  0x11a98c1fa76b1851fd1a17eef3baaff4f0fb7af61532...   \n",
       "3  0xb14387d02f98c2ef8c8f736e8c2527e21e40fbb22d00...   \n",
       "4  0x6edf833552ae344547a9f25c1c625f26f65eb6b35e04...   \n",
       "\n",
       "                                         sha3_uncles transaction_count  \\\n",
       "0  0x1dcc4de8dec75d7aab85b567b6ccd41ad312451b948a...               225   \n",
       "1  0x1dcc4de8dec75d7aab85b567b6ccd41ad312451b948a...               202   \n",
       "2  0x1dcc4de8dec75d7aab85b567b6ccd41ad312451b948a...               229   \n",
       "3  0x1dcc4de8dec75d7aab85b567b6ccd41ad312451b948a...               224   \n",
       "4  0x1dcc4de8dec75d7aab85b567b6ccd41ad312451b948a...               145   \n",
       "\n",
       "         date              last_modified  \n",
       "0  2024-04-05 2024-04-06 01:06:04.243646  \n",
       "1  2024-04-05 2024-04-06 00:09:33.652885  \n",
       "2  2024-04-05 2024-04-06 00:13:21.531809  \n",
       "3  2024-04-05 2024-04-06 00:15:30.271035  \n",
       "4  2024-04-05 2024-04-06 01:24:41.711737  \n",
       "\n",
       "[5 rows x 21 columns]"
      ]
     },
     "execution_count": 114,
     "metadata": {},
     "output_type": "execute_result"
    }
   ],
   "source": [
    "df_block.head()"
   ]
  },
  {
   "cell_type": "code",
   "execution_count": 115,
   "id": "6f29a881",
   "metadata": {},
   "outputs": [
    {
     "data": {
      "text/plain": [
       "(7142, 21)"
      ]
     },
     "execution_count": 115,
     "metadata": {},
     "output_type": "execute_result"
    }
   ],
   "source": [
    "df_block.shape"
   ]
  },
  {
   "cell_type": "code",
   "execution_count": 117,
   "id": "ee734235",
   "metadata": {},
   "outputs": [
    {
     "data": {
      "text/plain": [
       "0       19591130\n",
       "1       19586123\n",
       "2       19586442\n",
       "3       19586627\n",
       "4       19592962\n",
       "          ...   \n",
       "7137    19586989\n",
       "7138    19591728\n",
       "7139    19590809\n",
       "7140    19587963\n",
       "7141    19590012\n",
       "Name: number, Length: 7142, dtype: int64"
      ]
     },
     "execution_count": 117,
     "metadata": {},
     "output_type": "execute_result"
    }
   ],
   "source": [
    "df_block['number'] ## block number in blocks table"
   ]
  },
  {
   "cell_type": "code",
   "execution_count": 132,
   "id": "6c51e3d4",
   "metadata": {},
   "outputs": [
    {
     "data": {
      "text/plain": [
       "Index(['difficulty', 'hash', 'miner', 'nonce', 'number', 'size', 'timestamp',\n",
       "       'total_difficulty', 'base_fee_per_gas', 'gas_limit', 'gas_used',\n",
       "       'extra_data', 'logs_bloom', 'parent_hash', 'state_root',\n",
       "       'receipts_root', 'transactions_root', 'sha3_uncles',\n",
       "       'transaction_count', 'date', 'last_modified'],\n",
       "      dtype='object')"
      ]
     },
     "execution_count": 132,
     "metadata": {},
     "output_type": "execute_result"
    }
   ],
   "source": [
    "df_block.columns"
   ]
  },
  {
   "cell_type": "code",
   "execution_count": 133,
   "id": "6aa207ff",
   "metadata": {},
   "outputs": [],
   "source": [
    "block_columns = ['nonce', 'number', 'size', 'timestamp',\n",
    "       'base_fee_per_gas', 'gas_limit', 'gas_used',\n",
    "       'extra_data', 'transaction_count', 'date', 'last_modified']"
   ]
  },
  {
   "cell_type": "code",
   "execution_count": 134,
   "id": "a743d0e1",
   "metadata": {},
   "outputs": [
    {
     "data": {
      "text/html": [
       "<div>\n",
       "<style scoped>\n",
       "    .dataframe tbody tr th:only-of-type {\n",
       "        vertical-align: middle;\n",
       "    }\n",
       "\n",
       "    .dataframe tbody tr th {\n",
       "        vertical-align: top;\n",
       "    }\n",
       "\n",
       "    .dataframe thead th {\n",
       "        text-align: right;\n",
       "    }\n",
       "</style>\n",
       "<table border=\"1\" class=\"dataframe\">\n",
       "  <thead>\n",
       "    <tr style=\"text-align: right;\">\n",
       "      <th></th>\n",
       "      <th>nonce</th>\n",
       "      <th>number</th>\n",
       "      <th>size</th>\n",
       "      <th>timestamp</th>\n",
       "      <th>base_fee_per_gas</th>\n",
       "      <th>gas_limit</th>\n",
       "      <th>gas_used</th>\n",
       "      <th>extra_data</th>\n",
       "      <th>transaction_count</th>\n",
       "      <th>date</th>\n",
       "      <th>last_modified</th>\n",
       "    </tr>\n",
       "  </thead>\n",
       "  <tbody>\n",
       "    <tr>\n",
       "      <th>0</th>\n",
       "      <td>0x0000000000000000</td>\n",
       "      <td>19591130</td>\n",
       "      <td>81985</td>\n",
       "      <td>2024-04-05 17:50:11</td>\n",
       "      <td>23989800723</td>\n",
       "      <td>30000000</td>\n",
       "      <td>18020587</td>\n",
       "      <td>0x6265617665726275696c642e6f7267</td>\n",
       "      <td>225</td>\n",
       "      <td>2024-04-05</td>\n",
       "      <td>2024-04-06 01:06:04.243646</td>\n",
       "    </tr>\n",
       "  </tbody>\n",
       "</table>\n",
       "</div>"
      ],
      "text/plain": [
       "                nonce    number   size           timestamp  base_fee_per_gas  \\\n",
       "0  0x0000000000000000  19591130  81985 2024-04-05 17:50:11       23989800723   \n",
       "\n",
       "   gas_limit  gas_used                        extra_data  transaction_count  \\\n",
       "0   30000000  18020587  0x6265617665726275696c642e6f7267                225   \n",
       "\n",
       "         date              last_modified  \n",
       "0  2024-04-05 2024-04-06 01:06:04.243646  "
      ]
     },
     "execution_count": 134,
     "metadata": {},
     "output_type": "execute_result"
    }
   ],
   "source": [
    "df_block[df_block['number'] == 19591130][block_columns]"
   ]
  },
  {
   "cell_type": "code",
   "execution_count": 137,
   "id": "33b5df28",
   "metadata": {},
   "outputs": [
    {
     "data": {
      "text/plain": [
       "11979413"
      ]
     },
     "execution_count": 137,
     "metadata": {},
     "output_type": "execute_result"
    }
   ],
   "source": [
    "30000000 - 18020587"
   ]
  },
  {
   "cell_type": "code",
   "execution_count": 52,
   "id": "6d74f374",
   "metadata": {},
   "outputs": [
    {
     "data": {
      "text/plain": [
       "0        78\n",
       "1       353\n",
       "2       417\n",
       "3        70\n",
       "4       265\n",
       "       ... \n",
       "6427    307\n",
       "6428    117\n",
       "6429    178\n",
       "6430    348\n",
       "6431    290\n",
       "Name: transaction_count, Length: 6432, dtype: int64"
      ]
     },
     "execution_count": 52,
     "metadata": {},
     "output_type": "execute_result"
    }
   ],
   "source": [
    "df_block['transaction_count']"
   ]
  },
  {
   "cell_type": "code",
   "execution_count": 20,
   "id": "c4c38ff1",
   "metadata": {},
   "outputs": [
    {
     "name": "stdout",
     "output_type": "stream",
     "text": [
      "Collecting boto3\n",
      "  Downloading boto3-1.34.79-py3-none-any.whl (139 kB)\n",
      "\u001b[2K     \u001b[38;2;114;156;31m━━━━━━━━━━━━━━━━━━━━━━━━━━━━━━━━━━━━━━━\u001b[0m \u001b[32m139.3/139.3 kB\u001b[0m \u001b[31m1.6 MB/s\u001b[0m eta \u001b[36m0:00:00\u001b[0m MB/s\u001b[0m eta \u001b[36m0:00:01\u001b[0m:01\u001b[0m\n",
      "\u001b[?25hRequirement already satisfied: jmespath<2.0.0,>=0.7.1 in /home/singh/anaconda3/lib/python3.10/site-packages (from boto3) (0.10.0)\n",
      "Collecting botocore<1.35.0,>=1.34.79\n",
      "  Downloading botocore-1.34.79-py3-none-any.whl (12.1 MB)\n",
      "\u001b[2K     \u001b[38;2;114;156;31m━━━━━━━━━━━━━━━━━━━━━━━━━━━━━━━━━━━━━━━━\u001b[0m \u001b[32m12.1/12.1 MB\u001b[0m \u001b[31m52.9 MB/s\u001b[0m eta \u001b[36m0:00:00\u001b[0mm eta \u001b[36m0:00:01\u001b[0m[36m0:00:01\u001b[0m\n",
      "\u001b[?25hCollecting s3transfer<0.11.0,>=0.10.0\n",
      "  Downloading s3transfer-0.10.1-py3-none-any.whl (82 kB)\n",
      "\u001b[2K     \u001b[38;2;114;156;31m━━━━━━━━━━━━━━━━━━━━━━━━━━━━━━━━━━━━━━━━\u001b[0m \u001b[32m82.2/82.2 kB\u001b[0m \u001b[31m21.2 MB/s\u001b[0m eta \u001b[36m0:00:00\u001b[0m\n",
      "\u001b[?25hRequirement already satisfied: urllib3!=2.2.0,<3,>=1.25.4 in /home/singh/anaconda3/lib/python3.10/site-packages (from botocore<1.35.0,>=1.34.79->boto3) (1.26.14)\n",
      "Requirement already satisfied: python-dateutil<3.0.0,>=2.1 in /home/singh/anaconda3/lib/python3.10/site-packages (from botocore<1.35.0,>=1.34.79->boto3) (2.8.2)\n",
      "Requirement already satisfied: six>=1.5 in /home/singh/anaconda3/lib/python3.10/site-packages (from python-dateutil<3.0.0,>=2.1->botocore<1.35.0,>=1.34.79->boto3) (1.16.0)\n",
      "Installing collected packages: botocore, s3transfer, boto3\n",
      "Successfully installed boto3-1.34.79 botocore-1.34.79 s3transfer-0.10.1\n"
     ]
    }
   ],
   "source": [
    "!pip install boto3"
   ]
  },
  {
   "cell_type": "code",
   "execution_count": 89,
   "id": "5a55e6eb",
   "metadata": {},
   "outputs": [],
   "source": [
    "import boto3\n",
    "from botocore import UNSIGNED, exceptions\n",
    "from botocore.client import Config"
   ]
  },
  {
   "cell_type": "code",
   "execution_count": 15,
   "id": "c7ad8e66",
   "metadata": {},
   "outputs": [],
   "source": [
    "s3_client = boto3.client(\"s3\", config=Config(signature_version=UNSIGNED))"
   ]
  },
  {
   "cell_type": "code",
   "execution_count": 137,
   "id": "c4157ce5",
   "metadata": {},
   "outputs": [],
   "source": [
    "bucket_name =  'aws-public-blockchain'\n",
    "\n",
    "blocks_prefix = 'v1.0/eth/blocks/date='\n",
    "transactions_prefix = 'v1.0/eth/transactions/date='\n",
    "\n",
    "blocks_output = 'raw/eth/blocks'\n",
    "transaction_output = 'raw/eth/transactions'"
   ]
  },
  {
   "cell_type": "code",
   "execution_count": 17,
   "id": "1befddf8",
   "metadata": {},
   "outputs": [],
   "source": [
    "from datetime import date, timedelta\n",
    "import datetime as dt"
   ]
  },
  {
   "cell_type": "code",
   "execution_count": 18,
   "id": "c42267ce",
   "metadata": {},
   "outputs": [],
   "source": [
    "# def download_raw_data(start_date, end_date, bucket_name = 'aws-public-blockchain'):\n",
    "#     for n in range(int((end_date - start_date).days)):\n",
    "#         yield start_date + timedelta(n)"
   ]
  },
  {
   "cell_type": "code",
   "execution_count": 19,
   "id": "4f8db65a",
   "metadata": {},
   "outputs": [
    {
     "name": "stdout",
     "output_type": "stream",
     "text": [
      "2024-04-02\n",
      "2024-04-03\n",
      "2024-04-04\n",
      "2024-04-05\n",
      "2024-04-06\n",
      "2024-04-07\n",
      "2024-04-08\n"
     ]
    }
   ],
   "source": [
    "# start_date = date(2024, 4, 1)\n",
    "# end_date = date(2024, 4, 8)\n",
    "today = dt.date.today()\n",
    "start_date = today - dt.timedelta(days=7)\n",
    "end_date = today - dt.timedelta(days=0)\n",
    "\n",
    "for single_date in download_raw_data(start_date, end_date):\n",
    "    print(single_date.strftime(\"%Y-%m-%d\"))"
   ]
  },
  {
   "cell_type": "code",
   "execution_count": 144,
   "id": "6109d9bd",
   "metadata": {},
   "outputs": [],
   "source": [
    "dat = dt.date.today()"
   ]
  },
  {
   "cell_type": "code",
   "execution_count": null,
   "id": "1a6f51a4",
   "metadata": {},
   "outputs": [],
   "source": [
    "dat.strptime()"
   ]
  },
  {
   "cell_type": "code",
   "execution_count": 14,
   "id": "962ee229",
   "metadata": {},
   "outputs": [
    {
     "name": "stdout",
     "output_type": "stream",
     "text": [
      "2024-04-02\n"
     ]
    }
   ],
   "source": [
    "today = dt.date.today()\n",
    "week_ago = today - dt.timedelta(days=7)\n",
    "print(week_ago)"
   ]
  },
  {
   "cell_type": "code",
   "execution_count": 27,
   "id": "48aba363",
   "metadata": {},
   "outputs": [],
   "source": [
    "s3_resource = boto3.resource('s3', config=Config(signature_version=UNSIGNED))\n",
    "bucket = s3_resource.Bucket('aws-public-blockchain')"
   ]
  },
  {
   "cell_type": "raw",
   "id": "e5e03a1e",
   "metadata": {},
   "source": [
    "def prepare_object_prefix(todays_date:date=date(2024, 4, 8), transaction_data: bool = False, blocks_data: bool = False):\n",
    "    \n",
    "    start_date = todays_date - dt.timedelta(days=7)\n",
    "    end_date = todays_date - dt.timedelta(days=0)\n",
    "    \n",
    "    block_objs = []\n",
    "    transaction_objs = []\n",
    "    \n",
    "    for n in range(int((end_date - start_date).days)):\n",
    "        \n",
    "        date_prefix = start_date + timedelta(n)\n",
    "        \n",
    "        block_obj_prefix = f\"{blocks_prefix}{date_prefix}/\"\n",
    "        transaction_obj_prefix = f\"{transactions_prefix}{date_prefix}/\"\n",
    "        \n",
    "#         block_files.append(block_obj_prefix)\n",
    "#         transaction_files.append(transaction_obj_prefix)\n",
    "            \n",
    "        block_file = bucket.objects.filter(Prefix=block_obj_prefix)\n",
    "        transaction_file = bucket.objects.filter(Prefix=block_obj_prefix)\n",
    "        \n",
    "        \n",
    "        block_objs.append(block_file.key)\n",
    "        transaction_objs.append(transaction_file.key)\n",
    "    \n",
    "    return (block_objs, transaction_objs)\n",
    "        "
   ]
  },
  {
   "cell_type": "code",
   "execution_count": 123,
   "id": "023bdced",
   "metadata": {},
   "outputs": [],
   "source": [
    "def prepare_object_prefix(todays_date:date=date(2024, 4, 8)):\n",
    "    \n",
    "    start_date = todays_date - dt.timedelta(days=7)\n",
    "    end_date = todays_date - dt.timedelta(days=0)\n",
    "    \n",
    "    block_objs = []\n",
    "    transaction_objs = []\n",
    "    \n",
    "    for n in range(int((end_date - start_date).days)):\n",
    "        \n",
    "        date_prefix = start_date + timedelta(n)\n",
    "        \n",
    "        block_obj_prefix = f\"{blocks_prefix}{date_prefix}/\"\n",
    "        transaction_obj_prefix = f\"{transactions_prefix}{date_prefix}/\"\n",
    "        \n",
    "        block_objs.append(block_obj_prefix)\n",
    "        transaction_objs.append(transaction_obj_prefix)\n",
    "    \n",
    "    return(block_objs, transaction_objs)\n",
    "        "
   ]
  },
  {
   "cell_type": "code",
   "execution_count": 133,
   "id": "4befeeb2",
   "metadata": {},
   "outputs": [],
   "source": [
    "def download_and_verify(Bucket, Key, Filename):\n",
    "    try:\n",
    "#         os.remove(Filename)\n",
    "        s3_client = boto3.client(\"s3\", config=Config(signature_version=UNSIGNED))\n",
    "        s3_client.download_file(Bucket,Key,Filename)\n",
    "        return os.path.exists(Filename)\n",
    "    except exceptions.ClientError as error:\n",
    "        print(error.response['Error']['Code']) #a summary of what went wrong\n",
    "        print(error.response['Error']['Message']) #explanation of what went wrong\n",
    "        return False"
   ]
  },
  {
   "cell_type": "code",
   "execution_count": 140,
   "id": "b972f293",
   "metadata": {},
   "outputs": [],
   "source": [
    "\n",
    "import os\n",
    "def download_raw_data(block_files=[], transaction_files=[], outpath:str='raw/eth/'):\n",
    "    \n",
    "    for file_loc in block_files:\n",
    "        \n",
    "        bucket_obj = bucket.objects.filter(Prefix=file_loc)\n",
    "        fdate = file_loc.split('/')[3]\n",
    "        output_path = f\"{blocks_output}/{fdate}/\"\n",
    "        \n",
    "        if not os.path.isdir(output_path):\n",
    "            os.makedirs(output_path)\n",
    "        \n",
    "        for item in bucket_obj:       \n",
    "            file_name = f\"{output_path}{item.key.split('/')[-1]}\"\n",
    "            \n",
    "            if not os.path.isfile(file_name):\n",
    "                download_and_verify(bucket_name, item.key, file_name)\n",
    "                \n",
    "    \n",
    "    for file_loc in transaction_files:\n",
    "        \n",
    "        bucket_obj = bucket.objects.filter(Prefix=file_loc)\n",
    "        fdate = file_loc.split('/')[3]\n",
    "        output_path = f\"{transaction_output}/{fdate}/\"\n",
    "        \n",
    "        if not os.path.isdir(output_path):\n",
    "            os.makedirs(output_path)\n",
    "        \n",
    "        for item in bucket_obj:       \n",
    "            file_name = f\"{output_path}{item.key.split('/')[-1]}\"\n",
    "            \n",
    "            if not os.path.isfile(file_name):\n",
    "                download_and_verify(bucket_name, item.key, file_name)"
   ]
  },
  {
   "cell_type": "code",
   "execution_count": 141,
   "id": "2894dcb7",
   "metadata": {},
   "outputs": [],
   "source": [
    "blocks, transactions = prepare_object_prefix()\n",
    "download_raw_data(blocks, transactions)"
   ]
  },
  {
   "cell_type": "code",
   "execution_count": 142,
   "id": "3caa936c",
   "metadata": {},
   "outputs": [],
   "source": []
  },
  {
   "cell_type": "raw",
   "id": "77da8919",
   "metadata": {},
   "source": [
    "download_and_verify(bucket_name, \n",
    "                    'v1.0/eth/blocks/date=2024-04-01/part-00000-8bafd3c2-1aab-4a3b-abd7-ae9a7d4010bf-c000.snappy.parquet', \n",
    "                   'raw/eth/blocks/date=2024-04-01/part-00000-8bafd3c2-1aab-4a3b-abd7-ae9a7d4010bf-c000.snappy.parquet')"
   ]
  },
  {
   "cell_type": "code",
   "execution_count": 100,
   "id": "3872269f",
   "metadata": {},
   "outputs": [],
   "source": [
    "os.makedirs('raw/eth/blocks/date=2024-04-01/')"
   ]
  },
  {
   "cell_type": "code",
   "execution_count": 104,
   "id": "9ebd6a4d",
   "metadata": {},
   "outputs": [
    {
     "ename": "IsADirectoryError",
     "evalue": "[Errno 21] Is a directory: 'raw/eth/blocks/date=2024-04-01.84B51AB2' -> 'raw/eth/blocks/date=2024-04-01'",
     "output_type": "error",
     "traceback": [
      "\u001b[0;31m---------------------------------------------------------------------------\u001b[0m",
      "\u001b[0;31mIsADirectoryError\u001b[0m                         Traceback (most recent call last)",
      "Cell \u001b[0;32mIn[104], line 4\u001b[0m\n\u001b[1;32m      1\u001b[0m s3_client \u001b[38;5;241m=\u001b[39m boto3\u001b[38;5;241m.\u001b[39mclient(\u001b[38;5;124m\"\u001b[39m\u001b[38;5;124ms3\u001b[39m\u001b[38;5;124m\"\u001b[39m, config\u001b[38;5;241m=\u001b[39mConfig(signature_version\u001b[38;5;241m=\u001b[39mUNSIGNED))\n\u001b[0;32m----> 4\u001b[0m \u001b[43ms3_client\u001b[49m\u001b[38;5;241;43m.\u001b[39;49m\u001b[43mdownload_file\u001b[49m\u001b[43m(\u001b[49m\u001b[43mbucket_name\u001b[49m\u001b[43m,\u001b[49m\u001b[43m \u001b[49m\n\u001b[1;32m      5\u001b[0m \u001b[43m                        \u001b[49m\u001b[38;5;124;43m'\u001b[39;49m\u001b[38;5;124;43mv1.0/eth/blocks/date=2024-04-01/part-00000-8bafd3c2-1aab-4a3b-abd7-ae9a7d4010bf-c000.snappy.parquet\u001b[39;49m\u001b[38;5;124;43m'\u001b[39;49m\u001b[43m,\u001b[49m\n\u001b[1;32m      6\u001b[0m \u001b[43m                        \u001b[49m\u001b[38;5;124;43m'\u001b[39;49m\u001b[38;5;124;43mraw/eth/blocks/date=2024-04-01\u001b[39;49m\u001b[38;5;124;43m'\u001b[39;49m\u001b[43m)\u001b[49m\n",
      "File \u001b[0;32m~/anaconda3/lib/python3.10/site-packages/boto3/s3/inject.py:192\u001b[0m, in \u001b[0;36mdownload_file\u001b[0;34m(self, Bucket, Key, Filename, ExtraArgs, Callback, Config)\u001b[0m\n\u001b[1;32m    157\u001b[0m \u001b[38;5;124;03m\"\"\"Download an S3 object to a file.\u001b[39;00m\n\u001b[1;32m    158\u001b[0m \n\u001b[1;32m    159\u001b[0m \u001b[38;5;124;03mUsage::\u001b[39;00m\n\u001b[0;32m   (...)\u001b[0m\n\u001b[1;32m    189\u001b[0m \u001b[38;5;124;03m    transfer.\u001b[39;00m\n\u001b[1;32m    190\u001b[0m \u001b[38;5;124;03m\"\"\"\u001b[39;00m\n\u001b[1;32m    191\u001b[0m \u001b[38;5;28;01mwith\u001b[39;00m S3Transfer(\u001b[38;5;28mself\u001b[39m, Config) \u001b[38;5;28;01mas\u001b[39;00m transfer:\n\u001b[0;32m--> 192\u001b[0m     \u001b[38;5;28;01mreturn\u001b[39;00m \u001b[43mtransfer\u001b[49m\u001b[38;5;241;43m.\u001b[39;49m\u001b[43mdownload_file\u001b[49m\u001b[43m(\u001b[49m\n\u001b[1;32m    193\u001b[0m \u001b[43m        \u001b[49m\u001b[43mbucket\u001b[49m\u001b[38;5;241;43m=\u001b[39;49m\u001b[43mBucket\u001b[49m\u001b[43m,\u001b[49m\n\u001b[1;32m    194\u001b[0m \u001b[43m        \u001b[49m\u001b[43mkey\u001b[49m\u001b[38;5;241;43m=\u001b[39;49m\u001b[43mKey\u001b[49m\u001b[43m,\u001b[49m\n\u001b[1;32m    195\u001b[0m \u001b[43m        \u001b[49m\u001b[43mfilename\u001b[49m\u001b[38;5;241;43m=\u001b[39;49m\u001b[43mFilename\u001b[49m\u001b[43m,\u001b[49m\n\u001b[1;32m    196\u001b[0m \u001b[43m        \u001b[49m\u001b[43mextra_args\u001b[49m\u001b[38;5;241;43m=\u001b[39;49m\u001b[43mExtraArgs\u001b[49m\u001b[43m,\u001b[49m\n\u001b[1;32m    197\u001b[0m \u001b[43m        \u001b[49m\u001b[43mcallback\u001b[49m\u001b[38;5;241;43m=\u001b[39;49m\u001b[43mCallback\u001b[49m\u001b[43m,\u001b[49m\n\u001b[1;32m    198\u001b[0m \u001b[43m    \u001b[49m\u001b[43m)\u001b[49m\n",
      "File \u001b[0;32m~/anaconda3/lib/python3.10/site-packages/boto3/s3/transfer.py:405\u001b[0m, in \u001b[0;36mS3Transfer.download_file\u001b[0;34m(self, bucket, key, filename, extra_args, callback)\u001b[0m\n\u001b[1;32m    401\u001b[0m future \u001b[38;5;241m=\u001b[39m \u001b[38;5;28mself\u001b[39m\u001b[38;5;241m.\u001b[39m_manager\u001b[38;5;241m.\u001b[39mdownload(\n\u001b[1;32m    402\u001b[0m     bucket, key, filename, extra_args, subscribers\n\u001b[1;32m    403\u001b[0m )\n\u001b[1;32m    404\u001b[0m \u001b[38;5;28;01mtry\u001b[39;00m:\n\u001b[0;32m--> 405\u001b[0m     \u001b[43mfuture\u001b[49m\u001b[38;5;241;43m.\u001b[39;49m\u001b[43mresult\u001b[49m\u001b[43m(\u001b[49m\u001b[43m)\u001b[49m\n\u001b[1;32m    406\u001b[0m \u001b[38;5;66;03m# This is for backwards compatibility where when retries are\u001b[39;00m\n\u001b[1;32m    407\u001b[0m \u001b[38;5;66;03m# exceeded we need to throw the same error from boto3 instead of\u001b[39;00m\n\u001b[1;32m    408\u001b[0m \u001b[38;5;66;03m# s3transfer's built in RetriesExceededError as current users are\u001b[39;00m\n\u001b[1;32m    409\u001b[0m \u001b[38;5;66;03m# catching the boto3 one instead of the s3transfer exception to do\u001b[39;00m\n\u001b[1;32m    410\u001b[0m \u001b[38;5;66;03m# their own retries.\u001b[39;00m\n\u001b[1;32m    411\u001b[0m \u001b[38;5;28;01mexcept\u001b[39;00m S3TransferRetriesExceededError \u001b[38;5;28;01mas\u001b[39;00m e:\n",
      "File \u001b[0;32m~/anaconda3/lib/python3.10/site-packages/s3transfer/futures.py:103\u001b[0m, in \u001b[0;36mTransferFuture.result\u001b[0;34m(self)\u001b[0m\n\u001b[1;32m     98\u001b[0m \u001b[38;5;28;01mdef\u001b[39;00m \u001b[38;5;21mresult\u001b[39m(\u001b[38;5;28mself\u001b[39m):\n\u001b[1;32m     99\u001b[0m     \u001b[38;5;28;01mtry\u001b[39;00m:\n\u001b[1;32m    100\u001b[0m         \u001b[38;5;66;03m# Usually the result() method blocks until the transfer is done,\u001b[39;00m\n\u001b[1;32m    101\u001b[0m         \u001b[38;5;66;03m# however if a KeyboardInterrupt is raised we want want to exit\u001b[39;00m\n\u001b[1;32m    102\u001b[0m         \u001b[38;5;66;03m# out of this and propagate the exception.\u001b[39;00m\n\u001b[0;32m--> 103\u001b[0m         \u001b[38;5;28;01mreturn\u001b[39;00m \u001b[38;5;28;43mself\u001b[39;49m\u001b[38;5;241;43m.\u001b[39;49m\u001b[43m_coordinator\u001b[49m\u001b[38;5;241;43m.\u001b[39;49m\u001b[43mresult\u001b[49m\u001b[43m(\u001b[49m\u001b[43m)\u001b[49m\n\u001b[1;32m    104\u001b[0m     \u001b[38;5;28;01mexcept\u001b[39;00m \u001b[38;5;167;01mKeyboardInterrupt\u001b[39;00m \u001b[38;5;28;01mas\u001b[39;00m e:\n\u001b[1;32m    105\u001b[0m         \u001b[38;5;28mself\u001b[39m\u001b[38;5;241m.\u001b[39mcancel()\n",
      "File \u001b[0;32m~/anaconda3/lib/python3.10/site-packages/s3transfer/futures.py:266\u001b[0m, in \u001b[0;36mTransferCoordinator.result\u001b[0;34m(self)\u001b[0m\n\u001b[1;32m    263\u001b[0m \u001b[38;5;66;03m# Once done waiting, raise an exception if present or return the\u001b[39;00m\n\u001b[1;32m    264\u001b[0m \u001b[38;5;66;03m# final result.\u001b[39;00m\n\u001b[1;32m    265\u001b[0m \u001b[38;5;28;01mif\u001b[39;00m \u001b[38;5;28mself\u001b[39m\u001b[38;5;241m.\u001b[39m_exception:\n\u001b[0;32m--> 266\u001b[0m     \u001b[38;5;28;01mraise\u001b[39;00m \u001b[38;5;28mself\u001b[39m\u001b[38;5;241m.\u001b[39m_exception\n\u001b[1;32m    267\u001b[0m \u001b[38;5;28;01mreturn\u001b[39;00m \u001b[38;5;28mself\u001b[39m\u001b[38;5;241m.\u001b[39m_result\n",
      "File \u001b[0;32m~/anaconda3/lib/python3.10/site-packages/s3transfer/tasks.py:139\u001b[0m, in \u001b[0;36mTask.__call__\u001b[0;34m(self)\u001b[0m\n\u001b[1;32m    135\u001b[0m     \u001b[38;5;66;03m# If the task is not done (really only if some other related\u001b[39;00m\n\u001b[1;32m    136\u001b[0m     \u001b[38;5;66;03m# task to the TransferFuture had failed) then execute the task's\u001b[39;00m\n\u001b[1;32m    137\u001b[0m     \u001b[38;5;66;03m# main() method.\u001b[39;00m\n\u001b[1;32m    138\u001b[0m     \u001b[38;5;28;01mif\u001b[39;00m \u001b[38;5;129;01mnot\u001b[39;00m \u001b[38;5;28mself\u001b[39m\u001b[38;5;241m.\u001b[39m_transfer_coordinator\u001b[38;5;241m.\u001b[39mdone():\n\u001b[0;32m--> 139\u001b[0m         \u001b[38;5;28;01mreturn\u001b[39;00m \u001b[38;5;28;43mself\u001b[39;49m\u001b[38;5;241;43m.\u001b[39;49m\u001b[43m_execute_main\u001b[49m\u001b[43m(\u001b[49m\u001b[43mkwargs\u001b[49m\u001b[43m)\u001b[49m\n\u001b[1;32m    140\u001b[0m \u001b[38;5;28;01mexcept\u001b[39;00m \u001b[38;5;167;01mException\u001b[39;00m \u001b[38;5;28;01mas\u001b[39;00m e:\n\u001b[1;32m    141\u001b[0m     \u001b[38;5;28mself\u001b[39m\u001b[38;5;241m.\u001b[39m_log_and_set_exception(e)\n",
      "File \u001b[0;32m~/anaconda3/lib/python3.10/site-packages/s3transfer/tasks.py:162\u001b[0m, in \u001b[0;36mTask._execute_main\u001b[0;34m(self, kwargs)\u001b[0m\n\u001b[1;32m    159\u001b[0m \u001b[38;5;66;03m# Log what is about to be executed.\u001b[39;00m\n\u001b[1;32m    160\u001b[0m logger\u001b[38;5;241m.\u001b[39mdebug(\u001b[38;5;124mf\u001b[39m\u001b[38;5;124m\"\u001b[39m\u001b[38;5;124mExecuting task \u001b[39m\u001b[38;5;132;01m{\u001b[39;00m\u001b[38;5;28mself\u001b[39m\u001b[38;5;132;01m}\u001b[39;00m\u001b[38;5;124m with kwargs \u001b[39m\u001b[38;5;132;01m{\u001b[39;00mkwargs_to_display\u001b[38;5;132;01m}\u001b[39;00m\u001b[38;5;124m\"\u001b[39m)\n\u001b[0;32m--> 162\u001b[0m return_value \u001b[38;5;241m=\u001b[39m \u001b[38;5;28;43mself\u001b[39;49m\u001b[38;5;241;43m.\u001b[39;49m\u001b[43m_main\u001b[49m\u001b[43m(\u001b[49m\u001b[38;5;241;43m*\u001b[39;49m\u001b[38;5;241;43m*\u001b[39;49m\u001b[43mkwargs\u001b[49m\u001b[43m)\u001b[49m\n\u001b[1;32m    163\u001b[0m \u001b[38;5;66;03m# If the task is the final task, then set the TransferFuture's\u001b[39;00m\n\u001b[1;32m    164\u001b[0m \u001b[38;5;66;03m# value to the return value from main().\u001b[39;00m\n\u001b[1;32m    165\u001b[0m \u001b[38;5;28;01mif\u001b[39;00m \u001b[38;5;28mself\u001b[39m\u001b[38;5;241m.\u001b[39m_is_final:\n",
      "File \u001b[0;32m~/anaconda3/lib/python3.10/site-packages/s3transfer/download.py:673\u001b[0m, in \u001b[0;36mIORenameFileTask._main\u001b[0;34m(self, fileobj, final_filename, osutil)\u001b[0m\n\u001b[1;32m    671\u001b[0m \u001b[38;5;28;01mdef\u001b[39;00m \u001b[38;5;21m_main\u001b[39m(\u001b[38;5;28mself\u001b[39m, fileobj, final_filename, osutil):\n\u001b[1;32m    672\u001b[0m     fileobj\u001b[38;5;241m.\u001b[39mclose()\n\u001b[0;32m--> 673\u001b[0m     \u001b[43mosutil\u001b[49m\u001b[38;5;241;43m.\u001b[39;49m\u001b[43mrename_file\u001b[49m\u001b[43m(\u001b[49m\u001b[43mfileobj\u001b[49m\u001b[38;5;241;43m.\u001b[39;49m\u001b[43mname\u001b[49m\u001b[43m,\u001b[49m\u001b[43m \u001b[49m\u001b[43mfinal_filename\u001b[49m\u001b[43m)\u001b[49m\n",
      "File \u001b[0;32m~/anaconda3/lib/python3.10/site-packages/s3transfer/utils.py:293\u001b[0m, in \u001b[0;36mOSUtils.rename_file\u001b[0;34m(self, current_filename, new_filename)\u001b[0m\n\u001b[1;32m    292\u001b[0m \u001b[38;5;28;01mdef\u001b[39;00m \u001b[38;5;21mrename_file\u001b[39m(\u001b[38;5;28mself\u001b[39m, current_filename, new_filename):\n\u001b[0;32m--> 293\u001b[0m     \u001b[43mrename_file\u001b[49m\u001b[43m(\u001b[49m\u001b[43mcurrent_filename\u001b[49m\u001b[43m,\u001b[49m\u001b[43m \u001b[49m\u001b[43mnew_filename\u001b[49m\u001b[43m)\u001b[49m\n",
      "\u001b[0;31mIsADirectoryError\u001b[0m: [Errno 21] Is a directory: 'raw/eth/blocks/date=2024-04-01.84B51AB2' -> 'raw/eth/blocks/date=2024-04-01'"
     ]
    }
   ],
   "source": [
    "s3_client = boto3.client(\"s3\", config=Config(signature_version=UNSIGNED))\n",
    "\n",
    "\n",
    "s3_client.download_file(bucket_name, \n",
    "                        'v1.0/eth/blocks/date=2024-04-01/part-00000-8bafd3c2-1aab-4a3b-abd7-ae9a7d4010bf-c000.snappy.parquet',\n",
    "                        'raw/eth/blocks/date=2024-04-01')"
   ]
  },
  {
   "cell_type": "code",
   "execution_count": null,
   "id": "60fdbd3a",
   "metadata": {},
   "outputs": [],
   "source": []
  },
  {
   "cell_type": "code",
   "execution_count": 116,
   "id": "598027c3",
   "metadata": {},
   "outputs": [],
   "source": []
  },
  {
   "cell_type": "code",
   "execution_count": null,
   "id": "9cb14de5",
   "metadata": {},
   "outputs": [],
   "source": []
  },
  {
   "cell_type": "code",
   "execution_count": 117,
   "id": "75efc484",
   "metadata": {},
   "outputs": [
    {
     "name": "stdout",
     "output_type": "stream",
     "text": [
      "part-00000-8bafd3c2-1aab-4a3b-abd7-ae9a7d4010bf-c000.snappy.parquet\n",
      "part-00000-b1036678-bed9-474b-8eb0-172a66bcd7ca-c000.snappy.parquet\n",
      "part-00000-06521c92-f92d-4e6d-a0a9-7d733a5d27dd-c000.snappy.parquet\n",
      "part-00000-06fe4254-7de0-4c87-9da7-2e6c3496f97b-c000.snappy.parquet\n",
      "part-00000-756ef22d-c85d-4ffd-b5b3-efe5934e9952-c000.snappy.parquet\n",
      "part-00000-dc056455-05d6-461e-b724-cf92eec2e722-c000.snappy.parquet\n",
      "part-00000-7aba496b-f64a-4687-bc4b-c2586a213357-c000.snappy.parquet\n"
     ]
    }
   ],
   "source": [
    "abc = download_raw_data(block, transaction)"
   ]
  },
  {
   "cell_type": "code",
   "execution_count": 57,
   "id": "ef07dbc2",
   "metadata": {},
   "outputs": [],
   "source": [
    "block, transaction = prepare_object_prefix()"
   ]
  },
  {
   "cell_type": "code",
   "execution_count": 59,
   "id": "f8b93940",
   "metadata": {},
   "outputs": [
    {
     "data": {
      "text/plain": [
       "'date=2024-04-02'"
      ]
     },
     "execution_count": 59,
     "metadata": {},
     "output_type": "execute_result"
    }
   ],
   "source": [
    "block[1].split('/')[3]"
   ]
  },
  {
   "cell_type": "code",
   "execution_count": null,
   "id": "02a69d03",
   "metadata": {},
   "outputs": [],
   "source": [
    "\n",
    "        \n",
    "#         return(block_objs, transaction_objs)\n",
    "        \n",
    "        for item in block_obj:\n",
    "            print(item.key)\n",
    "            \n",
    "            \n",
    "        for item in transaction_objs:\n",
    "            print(item.key)"
   ]
  },
  {
   "cell_type": "code",
   "execution_count": null,
   "id": "bbf9287c",
   "metadata": {},
   "outputs": [],
   "source": [
    "def download_raw_data(block_files=[], transaction_files=[], output_path: str = raw_data_path):\n",
    "    \n",
    "    for file in block_files:\n",
    "        \n",
    "    \n",
    "    block_objs = bucket.objects.filter(Prefix=block_obj_prefix)\n",
    "    transaction_objs = bucket.objects.filter(Prefix=transaction_obj_prefix)"
   ]
  },
  {
   "cell_type": "code",
   "execution_count": 23,
   "id": "290585e5",
   "metadata": {},
   "outputs": [
    {
     "name": "stdout",
     "output_type": "stream",
     "text": [
      "v1.0/eth/blocks/date=2024-04-01/part-00000-8bafd3c2-1aab-4a3b-abd7-ae9a7d4010bf-c000.snappy.parquet\n",
      "v1.0/eth/transactions/date=2024-04-01/part-00000-ab6045f5-73dc-476f-ab31-ea3a94288b01-c000.snappy.parquet\n",
      "v1.0/eth/blocks/date=2024-04-01/part-00000-8bafd3c2-1aab-4a3b-abd7-ae9a7d4010bf-c000.snappy.parquet\n",
      "v1.0/eth/transactions/date=2024-04-02/part-00000-defc9525-01c3-4b9a-adcf-e2db5c87eeeb-c000.snappy.parquet\n",
      "v1.0/eth/blocks/date=2024-04-01/part-00000-8bafd3c2-1aab-4a3b-abd7-ae9a7d4010bf-c000.snappy.parquet\n",
      "v1.0/eth/transactions/date=2024-04-03/part-00000-0c13cc21-5b10-4567-8d33-1db75ecd1c85-c000.snappy.parquet\n",
      "v1.0/eth/blocks/date=2024-04-01/part-00000-8bafd3c2-1aab-4a3b-abd7-ae9a7d4010bf-c000.snappy.parquet\n",
      "v1.0/eth/transactions/date=2024-04-04/part-00000-73f3d0ec-20a4-4044-9015-ff6c7ffbdaa7-c000.snappy.parquet\n",
      "v1.0/eth/blocks/date=2024-04-01/part-00000-8bafd3c2-1aab-4a3b-abd7-ae9a7d4010bf-c000.snappy.parquet\n",
      "v1.0/eth/transactions/date=2024-04-05/part-00000-8fb25e18-b15b-49cb-8714-160e590bc366-c000.snappy.parquet\n",
      "v1.0/eth/blocks/date=2024-04-01/part-00000-8bafd3c2-1aab-4a3b-abd7-ae9a7d4010bf-c000.snappy.parquet\n",
      "v1.0/eth/transactions/date=2024-04-06/part-00000-367ebab5-a7f3-403e-90c4-24da646d0278-c000.snappy.parquet\n",
      "v1.0/eth/blocks/date=2024-04-01/part-00000-8bafd3c2-1aab-4a3b-abd7-ae9a7d4010bf-c000.snappy.parquet\n",
      "v1.0/eth/transactions/date=2024-04-07/part-00000-02f0b368-5fb4-4135-9d3e-1f524f3aa9c7-c000.snappy.parquet\n"
     ]
    }
   ],
   "source": [
    "prepare_object_prefix()"
   ]
  },
  {
   "cell_type": "code",
   "execution_count": null,
   "id": "955f3827",
   "metadata": {},
   "outputs": [],
   "source": [
    "def download_blocks_data(input_objs, output_path):\n",
    "    for item in obj:\n",
    "        print(item.key)\n",
    "    "
   ]
  },
  {
   "cell_type": "code",
   "execution_count": 20,
   "id": "83c31287",
   "metadata": {},
   "outputs": [],
   "source": [
    "block_obj, transaction_obj = prepare_object_prefix()"
   ]
  },
  {
   "cell_type": "code",
   "execution_count": 21,
   "id": "70284af7",
   "metadata": {},
   "outputs": [
    {
     "name": "stdout",
     "output_type": "stream",
     "text": [
      "v1.0/eth/blocks/date=2024-04-01/part-00000-8bafd3c2-1aab-4a3b-abd7-ae9a7d4010bf-c000.snappy.parquet\n"
     ]
    }
   ],
   "source": [
    "for item in block_obj:\n",
    "    print(item.key)"
   ]
  },
  {
   "cell_type": "code",
   "execution_count": 89,
   "id": "10a6efae",
   "metadata": {},
   "outputs": [],
   "source": []
  },
  {
   "cell_type": "code",
   "execution_count": 74,
   "id": "5c320cc7",
   "metadata": {},
   "outputs": [
    {
     "name": "stdout",
     "output_type": "stream",
     "text": [
      "v1.0/btc/blocks/date=2009-01-03/part-00000-f9fd9d1b-1965-4254-ac49-8d4ce1c34f62-c000.snappy.parquet\n",
      "v1.0/btc/blocks/date=2009-01-09/part-00000-84da44ab-ad47-4b7d-a15b-871b59015adc-c000.snappy.parquet\n",
      "v1.0/btc/blocks/date=2009-01-10/part-00000-0c6e3199-45fa-41b2-970f-325b4c4753eb-c000.snappy.parquet\n",
      "v1.0/btc/blocks/date=2009-01-11/part-00000-5343ae1e-506a-4753-a36d-88d2a7b47e03-c000.snappy.parquet\n",
      "v1.0/btc/blocks/date=2009-01-12/part-00000-7f03a38b-b958-4a06-b3a0-9f9e7c1358ed-c000.snappy.parquet\n",
      "v1.0/btc/blocks/date=2009-01-13/part-00000-a33f2e7b-e65f-40ac-9534-4690b0f099f7-c000.snappy.parquet\n",
      "v1.0/btc/blocks/date=2009-01-14/part-00000-225fcc76-5848-44e3-8337-9ac4b4114b0d-c000.snappy.parquet\n",
      "v1.0/btc/blocks/date=2009-01-15/part-00000-43ef8aef-d854-4694-8ee3-c1ae636afcfc-c000.snappy.parquet\n",
      "v1.0/btc/blocks/date=2009-01-16/part-00000-1722d00f-32a4-46fc-87a2-17152e27c12d-c000.snappy.parquet\n",
      "v1.0/btc/blocks/date=2009-01-17/part-00000-a9f9f87e-960d-4fac-af34-2bb893881dee-c000.snappy.parquet\n",
      "v1.0/btc/blocks/date=2009-01-18/part-00000-a98bfbc6-cf6d-4e76-b342-19a00b75a555-c000.snappy.parquet\n",
      "v1.0/btc/blocks/date=2009-01-19/part-00000-faa7cb67-6935-45b6-94e7-1d208165807f-c000.snappy.parquet\n",
      "v1.0/btc/blocks/date=2009-01-20/part-00000-0c208eb7-9236-48de-83e5-d7cf44959510-c000.snappy.parquet\n",
      "v1.0/btc/blocks/date=2009-01-21/part-00000-2719516a-264f-47f2-bf51-f0801f47b1d3-c000.snappy.parquet\n",
      "v1.0/btc/blocks/date=2009-01-22/part-00000-c72ae372-f3e8-490a-9cf6-c923d6ac371e-c000.snappy.parquet\n",
      "v1.0/btc/blocks/date=2009-01-23/part-00000-d6c14c04-6380-4596-9240-2f061ed87780-c000.snappy.parquet\n",
      "v1.0/btc/blocks/date=2009-01-24/part-00000-65d13f07-7d48-4e77-83b9-90493e7ac3c5-c000.snappy.parquet\n",
      "v1.0/btc/blocks/date=2009-01-25/part-00000-98aeb35c-ecfd-4d15-ac60-40994e668763-c000.snappy.parquet\n",
      "v1.0/btc/blocks/date=2009-01-26/part-00000-44f5b79d-5742-4266-be26-7422c32f873b-c000.snappy.parquet\n",
      "v1.0/btc/blocks/date=2009-01-27/part-00000-c8f5e885-4362-43b4-a9ca-4475e45d9089-c000.snappy.parquet\n",
      "v1.0/btc/blocks/date=2009-01-28/part-00000-f47c31e3-d8bb-49b1-aa5a-25537c2d43ed-c000.snappy.parquet\n",
      "v1.0/btc/blocks/date=2009-01-29/part-00000-ee39ab36-4ccd-4d8d-977b-29c53aed7ba5-c000.snappy.parquet\n",
      "v1.0/btc/blocks/date=2009-01-30/part-00000-ceec7b4f-23d4-4185-84f6-9a4ad5d08a3c-c000.snappy.parquet\n",
      "v1.0/btc/blocks/date=2009-01-31/part-00000-882dc77f-c71c-4d2f-97c5-ff5084390697-c000.snappy.parquet\n",
      "v1.0/btc/blocks/date=2009-02-01/part-00000-d6a2a2ac-8d73-4c77-a056-e165255b7618-c000.snappy.parquet\n",
      "v1.0/btc/blocks/date=2009-02-02/part-00000-50d9f645-374c-4dd2-8f2f-89dcdfd12ac5-c000.snappy.parquet\n",
      "v1.0/btc/blocks/date=2009-02-03/part-00000-2942d547-6ece-4cb8-809b-e10d16c690dc-c000.snappy.parquet\n",
      "v1.0/btc/blocks/date=2009-02-04/part-00000-07a29aa9-6019-42b7-a6e2-2c08f0ef355f-c000.snappy.parquet\n",
      "v1.0/btc/blocks/date=2009-02-05/part-00000-f9aa7ffc-7360-46c2-92b8-3c757980a258-c000.snappy.parquet\n",
      "v1.0/btc/blocks/date=2009-02-06/part-00000-cfc98dc1-f05a-4877-9fa6-983e0af07f59-c000.snappy.parquet\n",
      "v1.0/btc/blocks/date=2009-02-07/part-00000-e87ad3bd-c432-4afb-b146-d0cf07c51edf-c000.snappy.parquet\n",
      "v1.0/btc/blocks/date=2009-02-08/part-00000-3c9d0e62-4feb-496f-b097-e0f1fe559844-c000.snappy.parquet\n",
      "v1.0/btc/blocks/date=2009-02-09/part-00000-11a345de-bb3b-48e0-b86c-d8853e29cbf8-c000.snappy.parquet\n",
      "v1.0/btc/blocks/date=2009-02-10/part-00000-1dedd640-18ca-4656-9907-27cad5e52bdc-c000.snappy.parquet\n",
      "v1.0/btc/blocks/date=2009-02-11/part-00000-305593ab-5968-490b-af93-02bda61048ec-c000.snappy.parquet\n",
      "v1.0/btc/blocks/date=2009-02-12/part-00000-49135ad8-26f4-4925-9208-91eb9b2555dd-c000.snappy.parquet\n",
      "v1.0/btc/blocks/date=2009-02-13/part-00000-e967bb7d-a642-450b-837a-1f6bc873f54e-c000.snappy.parquet\n",
      "v1.0/btc/blocks/date=2009-02-14/part-00000-0d729111-e21a-4e1b-8f1e-10e6ccb7c771-c000.snappy.parquet\n",
      "v1.0/btc/blocks/date=2009-02-15/part-00000-8ad1ed4b-9c79-4f8a-9fc8-9b49f5258f8b-c000.snappy.parquet\n",
      "v1.0/btc/blocks/date=2009-02-16/part-00000-b79cb6d6-60c1-4df2-a667-fc58ad1e330a-c000.snappy.parquet\n",
      "v1.0/btc/blocks/date=2009-02-17/part-00000-ed12df28-f762-4ba6-8570-9ac499d2ff6f-c000.snappy.parquet\n",
      "v1.0/btc/blocks/date=2009-02-18/part-00000-6ba7e02e-901a-4402-9e21-f28328206b6b-c000.snappy.parquet\n",
      "v1.0/btc/blocks/date=2009-02-19/part-00000-2678f992-9e1c-4ac3-bd7d-b98e93b94d73-c000.snappy.parquet\n",
      "v1.0/btc/blocks/date=2009-02-20/part-00000-27225bf5-8c16-48f0-be05-07e52c493b60-c000.snappy.parquet\n",
      "v1.0/btc/blocks/date=2009-02-21/part-00000-2c5ea027-94dc-4a56-ad0b-669b31444c60-c000.snappy.parquet\n",
      "v1.0/btc/blocks/date=2009-02-22/part-00000-9e96ab11-ad68-4931-8f53-6d8544b34505-c000.snappy.parquet\n",
      "v1.0/btc/blocks/date=2009-02-23/part-00000-a0d8e784-1b49-4726-8ac3-ff9b962b3b80-c000.snappy.parquet\n",
      "v1.0/btc/blocks/date=2009-02-24/part-00000-b1a05a52-e911-4b34-bd5f-70b1185d4e3e-c000.snappy.parquet\n",
      "v1.0/btc/blocks/date=2009-02-25/part-00000-862b97cd-3199-4a10-ab3a-4d319b36c9f2-c000.snappy.parquet\n",
      "v1.0/btc/blocks/date=2009-02-26/part-00000-2e7b2505-8295-408d-9887-bdf4a6d82bdd-c000.snappy.parquet\n",
      "v1.0/btc/blocks/date=2009-02-27/part-00000-e2a61e3b-2100-42e1-933c-036c9550f97c-c000.snappy.parquet\n",
      "v1.0/btc/blocks/date=2009-02-28/part-00000-eda54821-f836-4d7a-94fe-b95bd3837900-c000.snappy.parquet\n",
      "v1.0/btc/blocks/date=2009-03-01/part-00000-ade8f34e-52b4-4c4f-9c5b-87410de19ee3-c000.snappy.parquet\n",
      "v1.0/btc/blocks/date=2009-03-02/part-00000-b78aa9bc-6ab4-4ab1-8a20-ffca807ae344-c000.snappy.parquet\n",
      "v1.0/btc/blocks/date=2009-03-03/part-00000-352e255c-d21c-43c1-ac94-118a393822fa-c000.snappy.parquet\n",
      "v1.0/btc/blocks/date=2009-03-04/part-00000-e891bd7e-9c13-43da-bd90-eb27ca4cfb94-c000.snappy.parquet\n",
      "v1.0/btc/blocks/date=2009-03-05/part-00000-4b9f23c7-c2c9-4ec5-ab6e-33bea230e010-c000.snappy.parquet\n",
      "v1.0/btc/blocks/date=2009-03-06/part-00000-f56853cd-b94f-4aec-8b52-2136a7d8e795-c000.snappy.parquet\n",
      "v1.0/btc/blocks/date=2009-03-07/part-00000-73c4cacb-4cc9-410b-b748-a11c721942f8-c000.snappy.parquet\n",
      "v1.0/btc/blocks/date=2009-03-08/part-00000-83e08a6c-93ee-40b3-bbd1-f8a5e09f3e37-c000.snappy.parquet\n",
      "v1.0/btc/blocks/date=2009-03-09/part-00000-dc878a18-e4aa-4045-985f-b7fb37bca57e-c000.snappy.parquet\n",
      "v1.0/btc/blocks/date=2009-03-10/part-00000-64eaa836-46fd-4ce9-bbcd-06d4cb014b06-c000.snappy.parquet\n",
      "v1.0/btc/blocks/date=2009-03-11/part-00000-2f5a3daf-e957-4a54-a8b9-c0b14c48b4bf-c000.snappy.parquet\n",
      "v1.0/btc/blocks/date=2009-03-12/part-00000-14e5aa88-511a-4e5b-9680-f29bdbe6ed49-c000.snappy.parquet\n",
      "v1.0/btc/blocks/date=2009-03-13/part-00000-96294238-7191-4f02-ad9c-f24b33137d06-c000.snappy.parquet\n",
      "v1.0/btc/blocks/date=2009-03-14/part-00000-0f5b2221-ac43-4dd2-af5c-38a8b120b5a5-c000.snappy.parquet\n",
      "v1.0/btc/blocks/date=2009-03-15/part-00000-6be8757c-8664-4557-9d06-fdec55f3c225-c000.snappy.parquet\n",
      "v1.0/btc/blocks/date=2009-03-16/part-00000-5485f928-d4ff-41bd-a421-7d1b77124d0c-c000.snappy.parquet\n",
      "v1.0/btc/blocks/date=2009-03-17/part-00000-5d88cdab-e42f-48d8-a406-26c9cc373ffa-c000.snappy.parquet\n",
      "v1.0/btc/blocks/date=2009-03-18/part-00000-c0007c57-87cc-41db-b62e-650868736c56-c000.snappy.parquet\n",
      "v1.0/btc/blocks/date=2009-03-19/part-00000-e413af3f-861c-4598-9bc3-0b8e52e7f9ba-c000.snappy.parquet\n",
      "v1.0/btc/blocks/date=2009-03-20/part-00000-fe93f393-1086-4862-b63d-6d896dc0354c-c000.snappy.parquet\n",
      "v1.0/btc/blocks/date=2009-03-21/part-00000-c1a44985-7e5e-4713-bcc4-4cf8fc64fd83-c000.snappy.parquet\n",
      "v1.0/btc/blocks/date=2009-03-22/part-00000-fd5d405d-3aa0-47a5-ac4b-72ea65985e57-c000.snappy.parquet\n",
      "v1.0/btc/blocks/date=2009-03-23/part-00000-0ebad8b7-e423-4951-9f0a-7ec75f764ac6-c000.snappy.parquet\n",
      "v1.0/btc/blocks/date=2009-03-24/part-00000-c8beb5c0-0062-4036-9c05-45f2814ba27e-c000.snappy.parquet\n",
      "v1.0/btc/blocks/date=2009-03-25/part-00000-b309bc24-b30a-40b5-864e-094302691702-c000.snappy.parquet\n",
      "v1.0/btc/blocks/date=2009-03-26/part-00000-28c9f84d-e5d9-4000-89af-d0f428d0ec50-c000.snappy.parquet\n",
      "v1.0/btc/blocks/date=2009-03-27/part-00000-6cd38cf4-c0f2-4e1c-9ff1-53c2ea671f47-c000.snappy.parquet\n",
      "v1.0/btc/blocks/date=2009-03-28/part-00000-fbd1d122-9dfb-4151-a5f4-740104346080-c000.snappy.parquet\n",
      "v1.0/btc/blocks/date=2009-03-29/part-00000-89deb383-b1b5-43ea-82e2-2a122ffaf224-c000.snappy.parquet\n",
      "v1.0/btc/blocks/date=2009-03-30/part-00000-cd027bff-13de-496b-93dd-35f0812176ff-c000.snappy.parquet\n",
      "v1.0/btc/blocks/date=2009-03-31/part-00000-43c141e7-7dc1-4dbc-acb9-eb86fdaf9e04-c000.snappy.parquet\n",
      "v1.0/btc/blocks/date=2009-04-01/part-00000-1be4af20-274b-4435-adab-669032e50ba9-c000.snappy.parquet\n",
      "v1.0/btc/blocks/date=2009-04-02/part-00000-e678b4fb-2aa9-4fbb-8020-01ab5a79f5d5-c000.snappy.parquet\n",
      "v1.0/btc/blocks/date=2009-04-03/part-00000-a2042de4-0b2d-45aa-949a-59b7408e31da-c000.snappy.parquet\n",
      "v1.0/btc/blocks/date=2009-04-04/part-00000-c45258b9-f378-4096-9062-5a565730869d-c000.snappy.parquet\n",
      "v1.0/btc/blocks/date=2009-04-05/part-00000-f5393559-9fec-4b84-9d16-278d3d89cf00-c000.snappy.parquet\n",
      "v1.0/btc/blocks/date=2009-04-06/part-00000-a65ecd1a-95f7-459d-8f19-ad013c94b199-c000.snappy.parquet\n",
      "v1.0/btc/blocks/date=2009-04-07/part-00000-73ca31b9-c368-4a2a-bed2-bb39f78c8779-c000.snappy.parquet\n",
      "v1.0/btc/blocks/date=2009-04-08/part-00000-7959a287-22f0-4243-b187-1e14354beedf-c000.snappy.parquet\n",
      "v1.0/btc/blocks/date=2009-04-09/part-00000-3f3366e9-59d9-4e29-8c86-32d476f7599e-c000.snappy.parquet\n",
      "v1.0/btc/blocks/date=2009-04-10/part-00000-d79cbbed-80e2-4665-94a2-fcfccde66b49-c000.snappy.parquet\n",
      "v1.0/btc/blocks/date=2009-04-11/part-00000-2eb5a16c-8741-4998-9216-d2982ca8d0c4-c000.snappy.parquet\n",
      "v1.0/btc/blocks/date=2009-04-12/part-00000-39b8035b-253c-4664-949f-7ea63e031f63-c000.snappy.parquet\n",
      "v1.0/btc/blocks/date=2009-04-13/part-00000-c15df408-b5dd-46bb-ac75-c9bc2475cf45-c000.snappy.parquet\n",
      "v1.0/btc/blocks/date=2009-04-14/part-00000-81af4e99-9fb0-4b2c-9ccc-92b360100d13-c000.snappy.parquet\n",
      "v1.0/btc/blocks/date=2009-04-15/part-00000-3e3a1c3c-3408-4434-ad78-c349ce17e1b4-c000.snappy.parquet\n",
      "v1.0/btc/blocks/date=2009-04-16/part-00000-ddb8d03f-d783-474f-8c5a-53f3c74f62f6-c000.snappy.parquet\n",
      "v1.0/btc/blocks/date=2009-04-17/part-00000-c4f6c713-a9f2-4fee-9049-d32d33a25cac-c000.snappy.parquet\n",
      "v1.0/btc/blocks/date=2009-04-18/part-00000-054e6e9a-147c-4406-9587-8ff1e9c4973a-c000.snappy.parquet\n",
      "v1.0/btc/blocks/date=2009-04-19/part-00000-15bdc3ab-19fe-4e2d-8455-b76ff7ac3190-c000.snappy.parquet\n",
      "v1.0/btc/blocks/date=2009-04-20/part-00000-1f78e05d-ba08-4c45-bf11-67cb7242d4a1-c000.snappy.parquet\n",
      "v1.0/btc/blocks/date=2009-04-21/part-00000-f9c53ba6-193d-4187-8fed-69c88e948c42-c000.snappy.parquet\n",
      "v1.0/btc/blocks/date=2009-04-22/part-00000-e3c8b5df-efad-4554-86b7-f3029c7a052f-c000.snappy.parquet\n",
      "v1.0/btc/blocks/date=2009-04-23/part-00000-fd03d5c3-bf2e-46fd-9ccd-1c9330cddf7c-c000.snappy.parquet\n",
      "v1.0/btc/blocks/date=2009-04-24/part-00000-513c948d-558f-46be-8e73-d3a6a5e02632-c000.snappy.parquet\n",
      "v1.0/btc/blocks/date=2009-04-25/part-00000-32c2c67b-e7a5-4a8a-9ec8-b74464d08013-c000.snappy.parquet\n",
      "v1.0/btc/blocks/date=2009-04-26/part-00000-c5cc38a8-7c6d-4063-8409-b2e51ee47ed9-c000.snappy.parquet\n",
      "v1.0/btc/blocks/date=2009-04-27/part-00000-6da4b1b1-c33c-4440-812a-ba3e450d8af1-c000.snappy.parquet\n",
      "v1.0/btc/blocks/date=2009-04-28/part-00000-bc6b120e-1752-4c18-880d-ac4c6d825209-c000.snappy.parquet\n",
      "v1.0/btc/blocks/date=2009-04-29/part-00000-e96ce286-f226-4826-94b3-98254b9b22c2-c000.snappy.parquet\n",
      "v1.0/btc/blocks/date=2009-04-30/part-00000-a9ee2171-a497-4fd9-a35f-885cb8008bc5-c000.snappy.parquet\n",
      "v1.0/btc/blocks/date=2009-05-01/part-00000-ff793872-cde8-4191-81c9-d73b8448b1ba-c000.snappy.parquet\n",
      "v1.0/btc/blocks/date=2009-05-02/part-00000-15d54602-eb99-4dfa-bfa4-1a62d098d3b9-c000.snappy.parquet\n",
      "v1.0/btc/blocks/date=2009-05-03/part-00000-faf9c152-9706-4faa-a0c8-38080d522e02-c000.snappy.parquet\n",
      "v1.0/btc/blocks/date=2009-05-04/part-00000-41bd84a7-6557-4c86-b903-b3802b985d23-c000.snappy.parquet\n",
      "v1.0/btc/blocks/date=2009-05-05/part-00000-72508ffa-21fd-4771-84f3-df16956afb6c-c000.snappy.parquet\n",
      "v1.0/btc/blocks/date=2009-05-06/part-00000-b8fb643f-e71e-4859-b232-113818e7f66d-c000.snappy.parquet\n",
      "v1.0/btc/blocks/date=2009-05-07/part-00000-461a72f9-ffd5-4327-a471-8cfff2664cfc-c000.snappy.parquet\n",
      "v1.0/btc/blocks/date=2009-05-08/part-00000-e37c616a-aa3f-4f09-bf7e-df1e61194f7f-c000.snappy.parquet\n",
      "v1.0/btc/blocks/date=2009-05-09/part-00000-0cf7e4a0-8561-460e-b93e-bfd1a2888e2a-c000.snappy.parquet\n",
      "v1.0/btc/blocks/date=2009-05-10/part-00000-e1df3575-b49b-42a1-a4ab-b85340734bf3-c000.snappy.parquet\n",
      "v1.0/btc/blocks/date=2009-05-11/part-00000-fcf44024-810f-4bd7-abf9-411fbc684e70-c000.snappy.parquet\n",
      "v1.0/btc/blocks/date=2009-05-12/part-00000-ef8db6d2-2057-48ab-a318-2973574fcb85-c000.snappy.parquet\n",
      "v1.0/btc/blocks/date=2009-05-13/part-00000-db4812ff-94a7-4132-b8a1-7feab05431d6-c000.snappy.parquet\n",
      "v1.0/btc/blocks/date=2009-05-14/part-00000-c8617070-ec19-4698-aa3f-71b382417b51-c000.snappy.parquet\n",
      "v1.0/btc/blocks/date=2009-05-15/part-00000-b6c8ca4d-a956-4b7e-a477-8353d9f38978-c000.snappy.parquet\n",
      "v1.0/btc/blocks/date=2009-05-16/part-00000-6ddd139f-2902-41af-b887-407e1b869341-c000.snappy.parquet\n",
      "v1.0/btc/blocks/date=2009-05-17/part-00000-d9dbd60f-593d-45a6-9959-81385bf580b5-c000.snappy.parquet\n",
      "v1.0/btc/blocks/date=2009-05-18/part-00000-50736a98-b510-41a1-975b-1f3799b61da9-c000.snappy.parquet\n",
      "v1.0/btc/blocks/date=2009-05-19/part-00000-82fd998a-49d1-4da6-9935-27045f628e3b-c000.snappy.parquet\n",
      "v1.0/btc/blocks/date=2009-05-20/part-00000-da1aab80-b8ce-420a-b676-a9877d66b10c-c000.snappy.parquet\n",
      "v1.0/btc/blocks/date=2009-05-21/part-00000-f50f9e3c-6015-48b4-b76c-cd3dd90ddc91-c000.snappy.parquet\n",
      "v1.0/btc/blocks/date=2009-05-22/part-00000-98f92090-4561-45f7-bc9b-c15e8b0261e0-c000.snappy.parquet\n",
      "v1.0/btc/blocks/date=2009-05-23/part-00000-9261ddf3-faf4-4e8e-9661-98d66542e083-c000.snappy.parquet\n",
      "v1.0/btc/blocks/date=2009-05-24/part-00000-beeda82a-0515-43cb-8763-9cedf6d81794-c000.snappy.parquet\n",
      "v1.0/btc/blocks/date=2009-05-25/part-00000-c47d55a9-b908-42e9-a236-dd15f63f33b6-c000.snappy.parquet\n",
      "v1.0/btc/blocks/date=2009-05-26/part-00000-6bed3702-fd23-4831-9549-dc2e433f10ec-c000.snappy.parquet\n",
      "v1.0/btc/blocks/date=2009-05-27/part-00000-c85564f0-1e22-4757-ac27-fafdb2fbe480-c000.snappy.parquet\n",
      "v1.0/btc/blocks/date=2009-05-28/part-00000-508fc97c-989c-4031-bdb5-faa3e459e01b-c000.snappy.parquet\n",
      "v1.0/btc/blocks/date=2009-05-29/part-00000-bbeeb188-e568-49b9-8ddc-ac2be27498a9-c000.snappy.parquet\n",
      "v1.0/btc/blocks/date=2009-05-30/part-00000-34b7bbbb-f271-4176-8f9b-45020490bcdc-c000.snappy.parquet\n",
      "v1.0/btc/blocks/date=2009-05-31/part-00000-0d542160-ad8e-411b-bc90-870fa613b7b5-c000.snappy.parquet\n",
      "v1.0/btc/blocks/date=2009-06-01/part-00000-f7d36992-afa9-4057-aaf5-636f6be5530f-c000.snappy.parquet\n",
      "v1.0/btc/blocks/date=2009-06-02/part-00000-ec88c676-fd8b-429d-a75c-080060e3b521-c000.snappy.parquet\n",
      "v1.0/btc/blocks/date=2009-06-03/part-00000-0e388d65-b6e1-41dd-995d-b0af1b334ef9-c000.snappy.parquet\n",
      "v1.0/btc/blocks/date=2009-06-04/part-00000-a8b97026-b591-4a5c-b657-a5f34f94d0a6-c000.snappy.parquet\n",
      "v1.0/btc/blocks/date=2009-06-05/part-00000-6cf090bf-1e3d-4fa3-a36c-5186c4a09691-c000.snappy.parquet\n",
      "v1.0/btc/blocks/date=2009-06-06/part-00000-03e7a8b8-4e57-42c1-bfc1-bcfcd364a2f7-c000.snappy.parquet\n",
      "v1.0/btc/blocks/date=2009-06-07/part-00000-99282bcf-594c-4cda-88dc-3490b790835f-c000.snappy.parquet\n",
      "v1.0/btc/blocks/date=2009-06-08/part-00000-61ac0378-b15c-4d86-bef2-1e9ec37e0af8-c000.snappy.parquet\n",
      "v1.0/btc/blocks/date=2009-06-09/part-00000-37bda8d7-419c-4c23-894a-dc4cef1aaa72-c000.snappy.parquet\n",
      "v1.0/btc/blocks/date=2009-06-10/part-00000-c98a87b6-99f0-4f40-98cb-03cad753ad59-c000.snappy.parquet\n",
      "v1.0/btc/blocks/date=2009-06-11/part-00000-265f0e0e-b541-417d-9e42-fb90ad8c0403-c000.snappy.parquet\n",
      "v1.0/btc/blocks/date=2009-06-12/part-00000-2216cab3-28e6-45a3-83c1-794b8ecd97a8-c000.snappy.parquet\n",
      "v1.0/btc/blocks/date=2009-06-13/part-00000-5ee3984a-03ef-4b0e-a168-81612d7ba76e-c000.snappy.parquet\n",
      "v1.0/btc/blocks/date=2009-06-14/part-00000-528ce19d-4b59-489b-8c71-d4e1a493242a-c000.snappy.parquet\n",
      "v1.0/btc/blocks/date=2009-06-15/part-00000-012ce549-a01d-4d4b-adba-549b3a829e55-c000.snappy.parquet\n",
      "v1.0/btc/blocks/date=2009-06-16/part-00000-c075549c-176e-43a3-9c03-b0e6e353b5a5-c000.snappy.parquet\n",
      "v1.0/btc/blocks/date=2009-06-17/part-00000-2530207a-134d-4a65-9901-6df4b9474ed8-c000.snappy.parquet\n",
      "v1.0/btc/blocks/date=2009-06-18/part-00000-a5e2aa09-78cc-4233-97b1-a088f2448c45-c000.snappy.parquet\n",
      "v1.0/btc/blocks/date=2009-06-19/part-00000-42fc6a36-dad5-4441-910a-bae24744d01e-c000.snappy.parquet\n",
      "v1.0/btc/blocks/date=2009-06-20/part-00000-44cc2328-0f42-49ff-ad14-5bcac96bfdb4-c000.snappy.parquet\n",
      "v1.0/btc/blocks/date=2009-06-21/part-00000-fe4d6985-ed4e-4b02-9f85-36fdb684a719-c000.snappy.parquet\n",
      "v1.0/btc/blocks/date=2009-06-22/part-00000-5ba26744-fbac-4a2b-a19c-1393b1ed80ac-c000.snappy.parquet\n",
      "v1.0/btc/blocks/date=2009-06-23/part-00000-3bd4d61b-05d2-4860-a94d-8c17dd856363-c000.snappy.parquet\n",
      "v1.0/btc/blocks/date=2009-06-24/part-00000-13e35ee7-22da-4e48-b966-79170a5c4c6e-c000.snappy.parquet\n",
      "v1.0/btc/blocks/date=2009-06-25/part-00000-33f15d28-2ad3-461a-8e10-a6e1e0cdc649-c000.snappy.parquet\n",
      "v1.0/btc/blocks/date=2009-06-26/part-00000-ddf2d81e-7f17-4ab0-b392-9c55fc802828-c000.snappy.parquet\n",
      "v1.0/btc/blocks/date=2009-06-27/part-00000-87ec6e38-bf3d-4a65-b103-a1f57a0dda70-c000.snappy.parquet\n",
      "v1.0/btc/blocks/date=2009-06-28/part-00000-f09bf229-1446-49a7-8631-ab2a68d3de95-c000.snappy.parquet\n",
      "v1.0/btc/blocks/date=2009-06-29/part-00000-0ebc60dd-cbca-4172-8c6d-749407c1125d-c000.snappy.parquet\n",
      "v1.0/btc/blocks/date=2009-06-30/part-00000-6a635d6e-1529-4841-acf3-2ddd493a5eb6-c000.snappy.parquet\n",
      "v1.0/btc/blocks/date=2009-07-01/part-00000-0b246f0a-fd06-429a-bf86-9ba19f240f1e-c000.snappy.parquet\n",
      "v1.0/btc/blocks/date=2009-07-02/part-00000-8974592f-affa-45c4-b628-dabcfe6626e7-c000.snappy.parquet\n",
      "v1.0/btc/blocks/date=2009-07-03/part-00000-3084b32e-9afd-46fc-aa04-7f592d77cf21-c000.snappy.parquet\n",
      "v1.0/btc/blocks/date=2009-07-04/part-00000-76586d83-81e1-4673-98df-6ae95cf738d8-c000.snappy.parquet\n",
      "v1.0/btc/blocks/date=2009-07-05/part-00000-ce0c7063-360f-49ab-864d-13ee2f85a511-c000.snappy.parquet\n",
      "v1.0/btc/blocks/date=2009-07-06/part-00000-8564920c-19b3-4278-ac4e-eae6d48ebab1-c000.snappy.parquet\n",
      "v1.0/btc/blocks/date=2009-07-07/part-00000-4d6ce0a2-6db6-4d04-a1ce-323276dcc779-c000.snappy.parquet\n",
      "v1.0/btc/blocks/date=2009-07-08/part-00000-851dc718-4a03-4b67-bd94-9b59d0be1b95-c000.snappy.parquet\n",
      "v1.0/btc/blocks/date=2009-07-09/part-00000-07d9b7c8-51fd-4c60-b04e-af4a64011742-c000.snappy.parquet\n",
      "v1.0/btc/blocks/date=2009-07-10/part-00000-4868cd85-7a0d-4bea-9282-78bd0d0d8f1c-c000.snappy.parquet\n",
      "v1.0/btc/blocks/date=2009-07-11/part-00000-8ccff495-7c33-4099-9ed4-56e6b2009418-c000.snappy.parquet\n",
      "v1.0/btc/blocks/date=2009-07-12/part-00000-919891fd-2607-47cc-b3ab-6a9cee08d3cf-c000.snappy.parquet\n",
      "v1.0/btc/blocks/date=2009-07-13/part-00000-5dd4e23b-9e65-40a1-af61-41681e22a165-c000.snappy.parquet\n",
      "v1.0/btc/blocks/date=2009-07-14/part-00000-189d4f92-68c3-4f38-b11e-dba933473bfb-c000.snappy.parquet\n",
      "v1.0/btc/blocks/date=2009-07-15/part-00000-a81ef83d-33d8-4cd6-9bc3-46e64892a30f-c000.snappy.parquet\n",
      "v1.0/btc/blocks/date=2009-07-16/part-00000-0b3c4ba8-6428-4fcb-8538-7c14d2f0ab2e-c000.snappy.parquet\n",
      "v1.0/btc/blocks/date=2009-07-17/part-00000-4b9fab9e-2055-420e-b518-431932048c50-c000.snappy.parquet\n",
      "v1.0/btc/blocks/date=2009-07-18/part-00000-a9308230-b4dc-4c38-8e53-d1a21906262e-c000.snappy.parquet\n",
      "v1.0/btc/blocks/date=2009-07-19/part-00000-671c863e-5c4b-48b9-9a09-db0266b38c6a-c000.snappy.parquet\n",
      "v1.0/btc/blocks/date=2009-07-20/part-00000-fd9c70b7-cb4e-4e77-84e8-d11eb96b75a4-c000.snappy.parquet\n",
      "v1.0/btc/blocks/date=2009-07-21/part-00000-e69ac181-5c81-4132-8c86-ec43c033160a-c000.snappy.parquet\n",
      "v1.0/btc/blocks/date=2009-07-22/part-00000-f6cab5e9-20fa-45e9-bacf-cd223e6f3ad1-c000.snappy.parquet\n",
      "v1.0/btc/blocks/date=2009-07-23/part-00000-c61c517a-ef95-495f-a73d-ab6ca7bf57a2-c000.snappy.parquet\n",
      "v1.0/btc/blocks/date=2009-07-24/part-00000-83d0a633-9f3f-4139-8ae7-39c80fc44e27-c000.snappy.parquet\n",
      "v1.0/btc/blocks/date=2009-07-25/part-00000-cebcd174-597e-4a62-ac86-03771c948cb6-c000.snappy.parquet\n",
      "v1.0/btc/blocks/date=2009-07-26/part-00000-2c80dc87-9aeb-4f7c-9869-d4d717bc6727-c000.snappy.parquet\n",
      "v1.0/btc/blocks/date=2009-07-27/part-00000-ced20d41-2ee0-4629-9441-d30cc4c1c161-c000.snappy.parquet\n",
      "v1.0/btc/blocks/date=2009-07-28/part-00000-12f2fc23-d13c-4e4c-97e7-c77e1e3b1f96-c000.snappy.parquet\n",
      "v1.0/btc/blocks/date=2009-07-29/part-00000-72126dc4-9384-4960-8085-402119f51be3-c000.snappy.parquet\n",
      "v1.0/btc/blocks/date=2009-07-30/part-00000-ca81dfab-a72f-4ade-9589-6f76807d41f9-c000.snappy.parquet\n",
      "v1.0/btc/blocks/date=2009-07-31/part-00000-7cdc2644-00dd-4c47-a7d9-ab40b06d3304-c000.snappy.parquet\n",
      "v1.0/btc/blocks/date=2009-08-01/part-00000-0fd89e19-2b41-4f50-a1a2-00d12fd6bf0e-c000.snappy.parquet\n",
      "v1.0/btc/blocks/date=2009-08-02/part-00000-b689c114-e9a0-42a0-91d0-afb6b008a196-c000.snappy.parquet\n",
      "v1.0/btc/blocks/date=2009-08-03/part-00000-352c2c79-407c-4fb3-a969-1a315985004e-c000.snappy.parquet\n",
      "v1.0/btc/blocks/date=2009-08-04/part-00000-1a579bb1-b6ab-4994-ab68-4f1d6069febe-c000.snappy.parquet\n",
      "v1.0/btc/blocks/date=2009-08-05/part-00000-f5b5c5b5-ce46-46a4-b138-28df4dd10e7a-c000.snappy.parquet\n",
      "v1.0/btc/blocks/date=2009-08-06/part-00000-8cf4844c-135e-4958-979c-19c1aec6a71a-c000.snappy.parquet\n",
      "v1.0/btc/blocks/date=2009-08-07/part-00000-1dfdcbe1-27b5-407a-8c56-d622b8162acb-c000.snappy.parquet\n",
      "v1.0/btc/blocks/date=2009-08-08/part-00000-f51c4d99-0592-4f1d-abbf-4af86b10e171-c000.snappy.parquet\n",
      "v1.0/btc/blocks/date=2009-08-09/part-00000-950cb70c-a998-4b94-9831-2784e4d1a628-c000.snappy.parquet\n",
      "v1.0/btc/blocks/date=2009-08-10/part-00000-04a728ad-5154-4ac3-9833-c23b3229738a-c000.snappy.parquet\n",
      "v1.0/btc/blocks/date=2009-08-11/part-00000-8df87998-9933-4752-978b-43968b653f61-c000.snappy.parquet\n",
      "v1.0/btc/blocks/date=2009-08-12/part-00000-a1360ee6-dceb-4213-a380-cc86f8a840c8-c000.snappy.parquet\n",
      "v1.0/btc/blocks/date=2009-08-13/part-00000-16c956d1-3cad-45c5-8e2d-18f34407cd26-c000.snappy.parquet\n",
      "v1.0/btc/blocks/date=2009-08-14/part-00000-1fe6f57e-e2c4-4baf-86ae-b23000d4f9a6-c000.snappy.parquet\n",
      "v1.0/btc/blocks/date=2009-08-15/part-00000-486a94b3-50cb-449b-8930-dde7e5969e78-c000.snappy.parquet\n",
      "v1.0/btc/blocks/date=2009-08-16/part-00000-0c01eedd-edb2-4986-ae38-cd4ab4792623-c000.snappy.parquet\n",
      "v1.0/btc/blocks/date=2009-08-17/part-00000-e0e3b4f8-bd2c-4257-b173-c0e4735f465a-c000.snappy.parquet\n",
      "v1.0/btc/blocks/date=2009-08-18/part-00000-ed5ec3d6-189d-4d9c-8f53-97c30c38361a-c000.snappy.parquet\n",
      "v1.0/btc/blocks/date=2009-08-19/part-00000-a95019e1-ed4f-4910-b336-29148936f367-c000.snappy.parquet\n",
      "v1.0/btc/blocks/date=2009-08-20/part-00000-4356e455-a936-400c-be45-7af45e799da8-c000.snappy.parquet\n",
      "v1.0/btc/blocks/date=2009-08-21/part-00000-a35fd873-a6dc-4c8d-980b-f3d8c981dc2e-c000.snappy.parquet\n",
      "v1.0/btc/blocks/date=2009-08-22/part-00000-66496e37-3961-4687-b6d6-7fea8e52631e-c000.snappy.parquet\n",
      "v1.0/btc/blocks/date=2009-08-23/part-00000-4d531678-e064-48c9-8a83-eea5c1c16613-c000.snappy.parquet\n",
      "v1.0/btc/blocks/date=2009-08-24/part-00000-833085fb-eaeb-49cc-9750-568eaee93211-c000.snappy.parquet\n",
      "v1.0/btc/blocks/date=2009-08-25/part-00000-d479d91f-8ce4-4127-8239-5a39e6d49230-c000.snappy.parquet\n",
      "v1.0/btc/blocks/date=2009-08-26/part-00000-7b935691-33be-4de0-a211-eba56c4e5b1c-c000.snappy.parquet\n",
      "v1.0/btc/blocks/date=2009-08-27/part-00000-803ce7e3-5b77-49c2-8290-7e386a1d9c19-c000.snappy.parquet\n",
      "v1.0/btc/blocks/date=2009-08-28/part-00000-03619bae-7fd7-462e-9693-464f5212c73e-c000.snappy.parquet\n",
      "v1.0/btc/blocks/date=2009-08-29/part-00000-63c46c68-af5b-44cb-b5e6-8d675f9366de-c000.snappy.parquet\n",
      "v1.0/btc/blocks/date=2009-08-30/part-00000-9b680ca6-daa5-49b9-947d-67c1c3519779-c000.snappy.parquet\n",
      "v1.0/btc/blocks/date=2009-08-31/part-00000-9f383107-8364-48a8-8d96-966a681dda81-c000.snappy.parquet\n",
      "v1.0/btc/blocks/date=2009-09-01/part-00000-9ed84f03-07df-4b1e-b06e-2f7bd5b296e4-c000.snappy.parquet\n",
      "v1.0/btc/blocks/date=2009-09-02/part-00000-25904fe9-2cff-4889-9c7f-4a66856fc7d9-c000.snappy.parquet\n",
      "v1.0/btc/blocks/date=2009-09-03/part-00000-22613dbf-00b0-4da3-ae55-136c9c8ff7fe-c000.snappy.parquet\n",
      "v1.0/btc/blocks/date=2009-09-04/part-00000-ceb93e03-01b2-462f-a96d-63068091fdbd-c000.snappy.parquet\n",
      "v1.0/btc/blocks/date=2009-09-05/part-00000-6ff9b75d-ce26-4e60-84a0-89af65007cf9-c000.snappy.parquet\n",
      "v1.0/btc/blocks/date=2009-09-06/part-00000-25677b48-a645-4a67-9c2b-5bf711400a37-c000.snappy.parquet\n",
      "v1.0/btc/blocks/date=2009-09-07/part-00000-49d0b9b4-7be3-4f63-b811-9ea084b5f467-c000.snappy.parquet\n",
      "v1.0/btc/blocks/date=2009-09-08/part-00000-322de23f-f885-43ad-8699-9ceea57d0653-c000.snappy.parquet\n",
      "v1.0/btc/blocks/date=2009-09-09/part-00000-40db56e8-6061-409e-8f98-ba930950e7d2-c000.snappy.parquet\n",
      "v1.0/btc/blocks/date=2009-09-10/part-00000-cae7d692-2da3-4d75-b208-a5f0092f92fe-c000.snappy.parquet\n",
      "v1.0/btc/blocks/date=2009-09-11/part-00000-36dfe936-4f8d-4549-89e9-f1548c45186a-c000.snappy.parquet\n",
      "v1.0/btc/blocks/date=2009-09-12/part-00000-580af414-2464-4583-8abd-a2a38d3082aa-c000.snappy.parquet\n",
      "v1.0/btc/blocks/date=2009-09-13/part-00000-f6feaffd-5190-4e6b-be3f-5fe3bc21fb4e-c000.snappy.parquet\n",
      "v1.0/btc/blocks/date=2009-09-14/part-00000-d2f095f8-08e4-4c2e-be21-ecd4637e1917-c000.snappy.parquet\n",
      "v1.0/btc/blocks/date=2009-09-15/part-00000-bee7b0ac-cc68-4dfb-890e-f76673634e90-c000.snappy.parquet\n",
      "v1.0/btc/blocks/date=2009-09-16/part-00000-21019730-a599-475e-a1a1-c741da962c1a-c000.snappy.parquet\n",
      "v1.0/btc/blocks/date=2009-09-17/part-00000-6bdbe2dd-62df-444a-abcf-38da013e7625-c000.snappy.parquet\n",
      "v1.0/btc/blocks/date=2009-09-18/part-00000-c3c1fafe-3919-4ae1-bccb-5f72c694db33-c000.snappy.parquet\n",
      "v1.0/btc/blocks/date=2009-09-19/part-00000-fbb0c84a-8f28-4f0a-82fa-2596800e47e6-c000.snappy.parquet\n",
      "v1.0/btc/blocks/date=2009-09-20/part-00000-b3e0f08e-5da8-4e2b-a9ce-d2532de9fc7c-c000.snappy.parquet\n",
      "v1.0/btc/blocks/date=2009-09-21/part-00000-b40fd67a-544f-4277-b3b4-ee71ed00ded7-c000.snappy.parquet\n",
      "v1.0/btc/blocks/date=2009-09-22/part-00000-e649e929-f090-40f8-8b5f-1cab252d3a02-c000.snappy.parquet\n",
      "v1.0/btc/blocks/date=2009-09-23/part-00000-7dd696c3-b2ae-41af-9b98-b84950ed4b44-c000.snappy.parquet\n",
      "v1.0/btc/blocks/date=2009-09-24/part-00000-ddfd8be3-571c-40c7-8664-3ba96a423311-c000.snappy.parquet\n",
      "v1.0/btc/blocks/date=2009-09-25/part-00000-3cac4e1f-8572-42c9-bf5f-6a1cb7ba2c66-c000.snappy.parquet\n",
      "v1.0/btc/blocks/date=2009-09-26/part-00000-8d886516-0fa4-4559-97ab-b5ad505546a5-c000.snappy.parquet\n",
      "v1.0/btc/blocks/date=2009-09-27/part-00000-e21ba31b-092b-46c3-8cc4-56336d1bb9bd-c000.snappy.parquet\n",
      "v1.0/btc/blocks/date=2009-09-28/part-00000-4e73705e-154f-4316-83e9-83de1d30c290-c000.snappy.parquet\n",
      "v1.0/btc/blocks/date=2009-09-29/part-00000-ce7fa433-cab4-48d3-af4d-9a345ee99d23-c000.snappy.parquet\n",
      "v1.0/btc/blocks/date=2009-09-30/part-00000-257f372e-b070-4603-836c-e477b847a8bb-c000.snappy.parquet\n",
      "v1.0/btc/blocks/date=2009-10-01/part-00000-b1f57b8b-d94f-440c-85d3-8c70e647dff9-c000.snappy.parquet\n",
      "v1.0/btc/blocks/date=2009-10-02/part-00000-fec26b04-24b9-4d56-8266-6cafd65c74fa-c000.snappy.parquet\n",
      "v1.0/btc/blocks/date=2009-10-03/part-00000-b4393c68-14d8-47f7-bf80-c97beda1bfbf-c000.snappy.parquet\n",
      "v1.0/btc/blocks/date=2009-10-04/part-00000-4d51f629-e091-49c6-9e69-be425189b032-c000.snappy.parquet\n",
      "v1.0/btc/blocks/date=2009-10-05/part-00000-c538d544-2b22-4ff1-90fa-52233f5d155b-c000.snappy.parquet\n",
      "v1.0/btc/blocks/date=2009-10-06/part-00000-3882e6dc-95e7-4dd5-91b6-4ff3e3cf20fa-c000.snappy.parquet\n",
      "v1.0/btc/blocks/date=2009-10-07/part-00000-809311b5-cff2-48cf-9813-4adae071603b-c000.snappy.parquet\n",
      "v1.0/btc/blocks/date=2009-10-08/part-00000-33b74279-6133-41a3-8bbb-38dd97ea1524-c000.snappy.parquet\n",
      "v1.0/btc/blocks/date=2009-10-09/part-00000-16b75343-c1f5-48ce-a95f-fc9a9067bf0f-c000.snappy.parquet\n",
      "v1.0/btc/blocks/date=2009-10-10/part-00000-1789d69c-a367-48a4-8ee1-6586dede0ca7-c000.snappy.parquet\n",
      "v1.0/btc/blocks/date=2009-10-11/part-00000-fdfcfb3e-fe4b-46b7-9be1-4b3945b9ffc1-c000.snappy.parquet\n",
      "v1.0/btc/blocks/date=2009-10-12/part-00000-cc9889b9-8744-4197-9aea-beca4796d475-c000.snappy.parquet\n",
      "v1.0/btc/blocks/date=2009-10-13/part-00000-43fb0fbd-796a-4345-8e8f-261dc38f611c-c000.snappy.parquet\n",
      "v1.0/btc/blocks/date=2009-10-14/part-00000-14c5e679-59f3-4931-9912-b105d2400cc6-c000.snappy.parquet\n",
      "v1.0/btc/blocks/date=2009-10-15/part-00000-a5fcbc90-056f-4af8-89d1-78c5ec8711c4-c000.snappy.parquet\n",
      "v1.0/btc/blocks/date=2009-10-16/part-00000-237c6021-58d8-4170-a555-67f07a3c536b-c000.snappy.parquet\n",
      "v1.0/btc/blocks/date=2009-10-17/part-00000-34c7ca52-87cf-43dd-ba36-b6efe7bbb862-c000.snappy.parquet\n",
      "v1.0/btc/blocks/date=2009-10-18/part-00000-38d448cd-899b-4201-ba69-3a82819258ac-c000.snappy.parquet\n",
      "v1.0/btc/blocks/date=2009-10-19/part-00000-be18d243-66a9-4a26-94ed-74f9652cbf47-c000.snappy.parquet\n",
      "v1.0/btc/blocks/date=2009-10-20/part-00000-a555450a-66d6-4ed7-98bb-4a77419a0efb-c000.snappy.parquet\n",
      "v1.0/btc/blocks/date=2009-10-21/part-00000-a154df50-e981-4bf6-bdb8-8cf909e840e3-c000.snappy.parquet\n",
      "v1.0/btc/blocks/date=2009-10-22/part-00000-7ad395b8-002f-4647-a5e2-36a815d15107-c000.snappy.parquet\n",
      "v1.0/btc/blocks/date=2009-10-23/part-00000-fadd9c64-352c-4b0e-add3-f15e6b0535d7-c000.snappy.parquet\n",
      "v1.0/btc/blocks/date=2009-10-24/part-00000-b2182195-32ec-4d2d-bbfd-a5911d4c9431-c000.snappy.parquet\n",
      "v1.0/btc/blocks/date=2009-10-25/part-00000-28ca4e09-519f-41a7-875f-922fac2f2666-c000.snappy.parquet\n",
      "v1.0/btc/blocks/date=2009-10-26/part-00000-e58a38fe-726b-4e49-adc1-e33c7a72a37b-c000.snappy.parquet\n",
      "v1.0/btc/blocks/date=2009-10-27/part-00000-4e20e62c-39e7-4d4a-8912-105c3858fb5d-c000.snappy.parquet\n",
      "v1.0/btc/blocks/date=2009-10-28/part-00000-b56e0073-2b03-497e-ac9e-fc14bae8c8f1-c000.snappy.parquet\n",
      "v1.0/btc/blocks/date=2009-10-29/part-00000-861b01ee-98eb-4583-be98-67e973d8156f-c000.snappy.parquet\n",
      "v1.0/btc/blocks/date=2009-10-30/part-00000-602fda49-6ff1-4f8d-8c78-f552f18151b4-c000.snappy.parquet\n",
      "v1.0/btc/blocks/date=2009-10-31/part-00000-f7366638-55eb-4218-8268-2b69c631c8a7-c000.snappy.parquet\n",
      "v1.0/btc/blocks/date=2009-11-01/part-00000-ebb64e15-902b-4032-a65f-d4d14345f0af-c000.snappy.parquet\n",
      "v1.0/btc/blocks/date=2009-11-02/part-00000-617b2235-eea9-4ae0-a55f-7b886829913e-c000.snappy.parquet\n",
      "v1.0/btc/blocks/date=2009-11-03/part-00000-74d79426-298a-405f-bf08-856e13dac572-c000.snappy.parquet\n",
      "v1.0/btc/blocks/date=2009-11-04/part-00000-29376a1b-2259-4783-aa3d-c873e8432f6e-c000.snappy.parquet\n",
      "v1.0/btc/blocks/date=2009-11-05/part-00000-11646b71-f01d-4176-94d4-a1bcb7a6baaa-c000.snappy.parquet\n",
      "v1.0/btc/blocks/date=2009-11-06/part-00000-ca4fe5c9-49a7-4951-a136-cf84ef1306f3-c000.snappy.parquet\n",
      "v1.0/btc/blocks/date=2009-11-07/part-00000-35ca37d2-f5d7-4565-a864-648be71ae3d0-c000.snappy.parquet\n",
      "v1.0/btc/blocks/date=2009-11-08/part-00000-1af97701-9bea-444f-acba-b2adf57b51d1-c000.snappy.parquet\n",
      "v1.0/btc/blocks/date=2009-11-09/part-00000-d089eaf1-6786-4b78-920f-047a7d8dc497-c000.snappy.parquet\n",
      "v1.0/btc/blocks/date=2009-11-10/part-00000-9c97539c-6d1c-414b-b10f-6c10d3d84c6c-c000.snappy.parquet\n",
      "v1.0/btc/blocks/date=2009-11-11/part-00000-8c03bf84-12a5-4766-9846-579f4920418f-c000.snappy.parquet\n",
      "v1.0/btc/blocks/date=2009-11-12/part-00000-1040b16b-08a7-4a5a-a308-7de3ed837ca3-c000.snappy.parquet\n",
      "v1.0/btc/blocks/date=2009-11-13/part-00000-8d63c97e-d598-4c17-b9be-b37a196e7c6f-c000.snappy.parquet\n",
      "v1.0/btc/blocks/date=2009-11-14/part-00000-87ef6dcb-fb84-4360-b885-7e35fd838e23-c000.snappy.parquet\n",
      "v1.0/btc/blocks/date=2009-11-15/part-00000-db004a93-be2b-4e61-8e60-55e91f2262ca-c000.snappy.parquet\n",
      "v1.0/btc/blocks/date=2009-11-16/part-00000-6fde6abe-27c7-400d-9d17-e9a029a86ab5-c000.snappy.parquet\n",
      "v1.0/btc/blocks/date=2009-11-17/part-00000-86a102a9-531a-4029-8561-3e7d7795b1fa-c000.snappy.parquet\n",
      "v1.0/btc/blocks/date=2009-11-18/part-00000-b4623d71-aef3-40ca-b321-8b4bab912139-c000.snappy.parquet\n",
      "v1.0/btc/blocks/date=2009-11-19/part-00000-5d7bd2ea-6da5-4b9e-abf8-b1985bbbdd9d-c000.snappy.parquet\n",
      "v1.0/btc/blocks/date=2009-11-20/part-00000-6c32315a-8e4a-4d4f-9fff-169c14b44af0-c000.snappy.parquet\n",
      "v1.0/btc/blocks/date=2009-11-21/part-00000-fe306b61-ed04-4063-bc85-9091b84ee45f-c000.snappy.parquet\n",
      "v1.0/btc/blocks/date=2009-11-22/part-00000-e1bc355b-21da-4f55-b9c0-c0c4d7f6bb4e-c000.snappy.parquet\n",
      "v1.0/btc/blocks/date=2009-11-23/part-00000-3710667e-42c3-4ced-a74e-8f293306dfeb-c000.snappy.parquet\n",
      "v1.0/btc/blocks/date=2009-11-24/part-00000-524c9a16-c76d-497d-9ddc-87a277e38af4-c000.snappy.parquet\n",
      "v1.0/btc/blocks/date=2009-11-25/part-00000-607cfb3a-13a1-4fd8-bc0d-a41ef2a5bdd7-c000.snappy.parquet\n",
      "v1.0/btc/blocks/date=2009-11-26/part-00000-3da416e8-5241-46f2-9602-49f3d25d3909-c000.snappy.parquet\n",
      "v1.0/btc/blocks/date=2009-11-27/part-00000-0d34f2b7-365d-4b68-a8e7-d26200e392ac-c000.snappy.parquet\n",
      "v1.0/btc/blocks/date=2009-11-28/part-00000-4a00c732-1deb-4563-b75a-338228a5c005-c000.snappy.parquet\n",
      "v1.0/btc/blocks/date=2009-11-29/part-00000-894ddcaa-ce70-4291-ab0c-fb95795baa77-c000.snappy.parquet\n",
      "v1.0/btc/blocks/date=2009-11-30/part-00000-a0b72652-e4cc-4d86-94b0-6733017763cd-c000.snappy.parquet\n",
      "v1.0/btc/blocks/date=2009-12-01/part-00000-38ecfe8c-9c12-4fdc-94ff-616b0632f2f3-c000.snappy.parquet\n",
      "v1.0/btc/blocks/date=2009-12-02/part-00000-52b41a3f-7a20-48b9-a4ca-f59584fbed1f-c000.snappy.parquet\n",
      "v1.0/btc/blocks/date=2009-12-03/part-00000-4ea3523d-660e-42f7-9562-d59255ed4977-c000.snappy.parquet\n",
      "v1.0/btc/blocks/date=2009-12-04/part-00000-ffc4c9f8-0bcf-48fe-9389-0ea2e13426ed-c000.snappy.parquet\n",
      "v1.0/btc/blocks/date=2009-12-05/part-00000-fc7f78ff-4b9e-496c-a702-1298f398eed4-c000.snappy.parquet\n",
      "v1.0/btc/blocks/date=2009-12-06/part-00000-16bcede1-5dee-49f7-88a6-5628e9c36ed6-c000.snappy.parquet\n",
      "v1.0/btc/blocks/date=2009-12-07/part-00000-57b37204-5d91-4f6d-9916-1b8913e83e5c-c000.snappy.parquet\n",
      "v1.0/btc/blocks/date=2009-12-08/part-00000-d2e9d0c5-f2f6-45d2-9cf7-ed18d5b5d227-c000.snappy.parquet\n",
      "v1.0/btc/blocks/date=2009-12-09/part-00000-98538893-37ad-4b83-9bbe-2369ae2375aa-c000.snappy.parquet\n",
      "v1.0/btc/blocks/date=2009-12-10/part-00000-224db58e-78db-4e1b-87a1-b80c5405b2a6-c000.snappy.parquet\n",
      "v1.0/btc/blocks/date=2009-12-11/part-00000-4a9c76f0-70b5-4b80-8a29-e61906e0199f-c000.snappy.parquet\n",
      "v1.0/btc/blocks/date=2009-12-12/part-00000-9bc602b4-cb83-4365-b0d1-cf58ec298b0e-c000.snappy.parquet\n",
      "v1.0/btc/blocks/date=2009-12-13/part-00000-a7a0ef2b-5212-442c-9d10-cc3ad187b4c0-c000.snappy.parquet\n",
      "v1.0/btc/blocks/date=2009-12-14/part-00000-6a398457-75ae-48e5-aba0-c23544e36b31-c000.snappy.parquet\n",
      "v1.0/btc/blocks/date=2009-12-15/part-00000-9eda9c13-249d-44a1-b3a8-d3333d3ac4a9-c000.snappy.parquet\n",
      "v1.0/btc/blocks/date=2009-12-16/part-00000-41b082ed-36a5-4527-b61b-d052bed819fe-c000.snappy.parquet\n",
      "v1.0/btc/blocks/date=2009-12-17/part-00000-42641187-5338-4548-b908-e09fbb675bef-c000.snappy.parquet\n",
      "v1.0/btc/blocks/date=2009-12-18/part-00000-7ff781db-3e2d-4b0a-ac98-638b248f7e9b-c000.snappy.parquet\n",
      "v1.0/btc/blocks/date=2009-12-19/part-00000-c7ee821b-3c97-442f-9028-b38dcfd16976-c000.snappy.parquet\n",
      "v1.0/btc/blocks/date=2009-12-20/part-00000-02ed3038-0002-46d4-a993-e84e9c1343ed-c000.snappy.parquet\n",
      "v1.0/btc/blocks/date=2009-12-21/part-00000-4cf0cc6c-2922-4148-bccf-2de54125c531-c000.snappy.parquet\n",
      "v1.0/btc/blocks/date=2009-12-22/part-00000-b95ade3f-fc0a-4ca9-a482-b6b352534a43-c000.snappy.parquet\n",
      "v1.0/btc/blocks/date=2009-12-23/part-00000-48af1239-7a45-4055-8e1d-166c06d7bc97-c000.snappy.parquet\n",
      "v1.0/btc/blocks/date=2009-12-24/part-00000-f52ab3fc-0334-491c-b7fd-31ee542cd9f3-c000.snappy.parquet\n",
      "v1.0/btc/blocks/date=2009-12-25/part-00000-968bf242-5e75-417a-8927-3566ad78e9ca-c000.snappy.parquet\n",
      "v1.0/btc/blocks/date=2009-12-26/part-00000-aaeb8c34-d674-475e-8ed8-4164eee6ff37-c000.snappy.parquet\n",
      "v1.0/btc/blocks/date=2009-12-27/part-00000-26edaaed-244f-4176-943a-10a9e59cc1fd-c000.snappy.parquet\n",
      "v1.0/btc/blocks/date=2009-12-28/part-00000-1fd65e5b-fb0f-4e84-894c-1b98b50e5afa-c000.snappy.parquet\n",
      "v1.0/btc/blocks/date=2009-12-29/part-00000-a5f9a9d7-21d6-472e-9ca1-f2081e14444d-c000.snappy.parquet\n",
      "v1.0/btc/blocks/date=2009-12-30/part-00000-246cddbc-d01f-4a8a-a9b3-3b90c0e075e4-c000.snappy.parquet\n",
      "v1.0/btc/blocks/date=2009-12-31/part-00000-30d4f291-6b02-4d73-9af1-1f4d841c0d45-c000.snappy.parquet\n",
      "v1.0/btc/blocks/date=2010-01-01/part-00000-8ff9018f-c19e-484d-b24a-b38f52c302cf-c000.snappy.parquet\n",
      "v1.0/btc/blocks/date=2010-01-02/part-00000-04ee845b-12cf-44d6-962b-25c429d570b7-c000.snappy.parquet\n",
      "v1.0/btc/blocks/date=2010-01-03/part-00000-cf693d7a-e39c-43ad-81b7-50621d928bab-c000.snappy.parquet\n",
      "v1.0/btc/blocks/date=2010-01-04/part-00000-2ee27a29-53b9-4602-b300-dfcb021c278b-c000.snappy.parquet\n",
      "v1.0/btc/blocks/date=2010-01-05/part-00000-3459de58-0041-42b1-b0f0-da159d6bd410-c000.snappy.parquet\n",
      "v1.0/btc/blocks/date=2010-01-06/part-00000-9b25f06b-c306-4503-81b9-59ac9e342f86-c000.snappy.parquet\n",
      "v1.0/btc/blocks/date=2010-01-07/part-00000-a7424009-5b3d-490f-bff0-9bda20a0b390-c000.snappy.parquet\n",
      "v1.0/btc/blocks/date=2010-01-08/part-00000-018be6b3-99aa-47c5-a43d-17fc1e5335c9-c000.snappy.parquet\n",
      "v1.0/btc/blocks/date=2010-01-09/part-00000-a3161623-1246-42df-903d-5c9f95f845c1-c000.snappy.parquet\n",
      "v1.0/btc/blocks/date=2010-01-10/part-00000-0a2fbbf3-c606-4f0f-a516-4c745cd63aa8-c000.snappy.parquet\n",
      "v1.0/btc/blocks/date=2010-01-11/part-00000-074b5aae-096c-4fdd-8cbd-1f81592beaa2-c000.snappy.parquet\n",
      "v1.0/btc/blocks/date=2010-01-12/part-00000-3fa3854e-27c1-44f3-8dce-9c293ee630ff-c000.snappy.parquet\n",
      "v1.0/btc/blocks/date=2010-01-13/part-00000-4def3815-e504-43e4-8124-cd225ba5e8f4-c000.snappy.parquet\n",
      "v1.0/btc/blocks/date=2010-01-14/part-00000-1ce87284-f480-40c8-8495-43b30e9a55b7-c000.snappy.parquet\n",
      "v1.0/btc/blocks/date=2010-01-15/part-00000-c9603de6-e7d2-4a08-934d-d69927a2acff-c000.snappy.parquet\n",
      "v1.0/btc/blocks/date=2010-01-16/part-00000-68b6ee2c-fa9d-4c3e-a7ba-8c1619a9c878-c000.snappy.parquet\n",
      "v1.0/btc/blocks/date=2010-01-17/part-00000-b12f95cf-e084-433a-b9df-a71dca5a1825-c000.snappy.parquet\n",
      "v1.0/btc/blocks/date=2010-01-18/part-00000-ff2e16a6-55bd-46cd-9938-140319883d1d-c000.snappy.parquet\n",
      "v1.0/btc/blocks/date=2010-01-19/part-00000-8f340997-405b-4d7f-a03b-551d1cb3ca4e-c000.snappy.parquet\n",
      "v1.0/btc/blocks/date=2010-01-20/part-00000-8fd0268b-529f-4d29-b505-0d9102b4cba2-c000.snappy.parquet\n",
      "v1.0/btc/blocks/date=2010-01-21/part-00000-9a134a92-4f02-422e-9c33-67cb68c3d9a3-c000.snappy.parquet\n",
      "v1.0/btc/blocks/date=2010-01-22/part-00000-199fa5f6-9286-4eb1-a99f-a0dac451e366-c000.snappy.parquet\n",
      "v1.0/btc/blocks/date=2010-01-23/part-00000-9f8376c1-e4df-409e-af06-3a61692ba58b-c000.snappy.parquet\n",
      "v1.0/btc/blocks/date=2010-01-24/part-00000-2728a792-9266-4747-af83-004d2c936236-c000.snappy.parquet\n",
      "v1.0/btc/blocks/date=2010-01-25/part-00000-3374f931-6101-4f84-aeeb-e41f2223e399-c000.snappy.parquet\n",
      "v1.0/btc/blocks/date=2010-01-26/part-00000-e10ed0c9-c04b-4523-bd32-75fec3c4d21f-c000.snappy.parquet\n",
      "v1.0/btc/blocks/date=2010-01-27/part-00000-f4985b9c-6bc5-48cc-90b5-307a7f5b4bd4-c000.snappy.parquet\n",
      "v1.0/btc/blocks/date=2010-01-28/part-00000-1194aaaf-06f7-4ee3-abd2-d5a410dfd41b-c000.snappy.parquet\n",
      "v1.0/btc/blocks/date=2010-01-29/part-00000-1dc26bbc-22a4-4f53-b30a-60750cf7b232-c000.snappy.parquet\n",
      "v1.0/btc/blocks/date=2010-01-30/part-00000-6985e975-a936-4a3b-83de-4b802b2f7149-c000.snappy.parquet\n",
      "v1.0/btc/blocks/date=2010-01-31/part-00000-b4f15014-7797-42a9-82f7-01b7fd92773b-c000.snappy.parquet\n",
      "v1.0/btc/blocks/date=2010-02-01/part-00000-0b8e9e5d-8df8-4791-821c-090fdd4be5af-c000.snappy.parquet\n",
      "v1.0/btc/blocks/date=2010-02-02/part-00000-9c8030c3-5c4a-4c54-ae93-eb1bbaca13a1-c000.snappy.parquet\n",
      "v1.0/btc/blocks/date=2010-02-03/part-00000-86c48017-5f95-414e-91a9-bcbf2aea0b5d-c000.snappy.parquet\n",
      "v1.0/btc/blocks/date=2010-02-04/part-00000-762a2ac6-6ad1-491a-87c3-c0e8b01489a9-c000.snappy.parquet\n",
      "v1.0/btc/blocks/date=2010-02-05/part-00000-00de6ff9-a6f7-4fb4-a1c4-a82d380558f3-c000.snappy.parquet\n",
      "v1.0/btc/blocks/date=2010-02-06/part-00000-b44e70f1-8ee9-4e24-8fbe-674f72644e0f-c000.snappy.parquet\n",
      "v1.0/btc/blocks/date=2010-02-07/part-00000-80946518-ace9-4a57-bcb5-49ed1cf7444c-c000.snappy.parquet\n",
      "v1.0/btc/blocks/date=2010-02-08/part-00000-8636c581-705f-4e80-8889-46817cd72848-c000.snappy.parquet\n",
      "v1.0/btc/blocks/date=2010-02-09/part-00000-b762acc7-bf69-4e23-ae42-4f27cbebf5a9-c000.snappy.parquet\n",
      "v1.0/btc/blocks/date=2010-02-10/part-00000-43485237-a603-49a8-ae93-fb7baed48a08-c000.snappy.parquet\n",
      "v1.0/btc/blocks/date=2010-02-11/part-00000-852eb9be-a797-4f36-a026-4878c91bef0e-c000.snappy.parquet\n",
      "v1.0/btc/blocks/date=2010-02-12/part-00000-642584b8-8dd6-4f11-8c46-bd9d634972f6-c000.snappy.parquet\n",
      "v1.0/btc/blocks/date=2010-02-13/part-00000-acd3ddfe-0844-4314-8d20-13308ae0a1b9-c000.snappy.parquet\n",
      "v1.0/btc/blocks/date=2010-02-14/part-00000-9fdeb67a-fb81-4de2-afaf-1ca755cd4cb7-c000.snappy.parquet\n",
      "v1.0/btc/blocks/date=2010-02-15/part-00000-9ebacea3-ffd4-48aa-96fe-7d9c67bfecfd-c000.snappy.parquet\n",
      "v1.0/btc/blocks/date=2010-02-16/part-00000-729c4cf8-6e52-475b-8ee5-2385eb1650b2-c000.snappy.parquet\n",
      "v1.0/btc/blocks/date=2010-02-17/part-00000-dbab3f44-0400-4ed0-a623-2bb7ccbb91e0-c000.snappy.parquet\n",
      "v1.0/btc/blocks/date=2010-02-18/part-00000-0812517d-dff8-4bb4-9c12-241bb04a5b54-c000.snappy.parquet\n",
      "v1.0/btc/blocks/date=2010-02-19/part-00000-5d4d734a-0387-48fe-8171-1ce821a4fee0-c000.snappy.parquet\n",
      "v1.0/btc/blocks/date=2010-02-20/part-00000-a62048f7-e0f5-4466-b58e-e9323d74cce2-c000.snappy.parquet\n",
      "v1.0/btc/blocks/date=2010-02-21/part-00000-93a34eca-70b0-4c2e-870d-dcd08255a327-c000.snappy.parquet\n",
      "v1.0/btc/blocks/date=2010-02-22/part-00000-9539ad80-d23e-4200-9242-81a17d7c55a2-c000.snappy.parquet\n",
      "v1.0/btc/blocks/date=2010-02-23/part-00000-d08e216f-f856-4aea-bf95-39e6cb9a0280-c000.snappy.parquet\n",
      "v1.0/btc/blocks/date=2010-02-24/part-00000-fcccecfc-b499-4da1-a295-876f559aff97-c000.snappy.parquet\n",
      "v1.0/btc/blocks/date=2010-02-25/part-00000-2b5ca5f1-4cef-476b-96b8-2749614e860d-c000.snappy.parquet\n",
      "v1.0/btc/blocks/date=2010-02-26/part-00000-89782fae-c7c9-4bc6-b959-019b321721c6-c000.snappy.parquet\n",
      "v1.0/btc/blocks/date=2010-02-27/part-00000-aeb569f5-4af6-48f2-a2b4-2c2a72ff87df-c000.snappy.parquet\n",
      "v1.0/btc/blocks/date=2010-02-28/part-00000-bc904eb3-4f8f-46c2-967c-66eaa25b1998-c000.snappy.parquet\n",
      "v1.0/btc/blocks/date=2010-03-01/part-00000-ac4dfe3c-3d80-4ce4-aa06-ca27e6286530-c000.snappy.parquet\n",
      "v1.0/btc/blocks/date=2010-03-02/part-00000-ef8f487e-67a2-4194-a83a-a2ab4e1819e7-c000.snappy.parquet\n",
      "v1.0/btc/blocks/date=2010-03-03/part-00000-c0ce79cd-5c5f-4e19-a6df-26be675ef8bb-c000.snappy.parquet\n",
      "v1.0/btc/blocks/date=2010-03-04/part-00000-eeb9576a-2bfe-4af3-8dc0-995af88d0a9b-c000.snappy.parquet\n",
      "v1.0/btc/blocks/date=2010-03-05/part-00000-2e13f57a-1cd0-4efd-ace8-65ccf54d3d0c-c000.snappy.parquet\n",
      "v1.0/btc/blocks/date=2010-03-06/part-00000-4ffaf456-4d60-4035-a79a-f2c5cf20fe56-c000.snappy.parquet\n",
      "v1.0/btc/blocks/date=2010-03-07/part-00000-fb12dbcd-b7de-4946-903d-88158e54eb6d-c000.snappy.parquet\n",
      "v1.0/btc/blocks/date=2010-03-08/part-00000-fac96983-9eb1-4412-bba4-ec604500a6c9-c000.snappy.parquet\n",
      "v1.0/btc/blocks/date=2010-03-09/part-00000-980d84bf-705b-483f-92f8-c16f9140b8a8-c000.snappy.parquet\n",
      "v1.0/btc/blocks/date=2010-03-10/part-00000-ffb7d600-da16-49e4-90cd-bae559e0b6bb-c000.snappy.parquet\n",
      "v1.0/btc/blocks/date=2010-03-11/part-00000-c23c449b-f993-41e7-bfdf-ee8b54f2606e-c000.snappy.parquet\n",
      "v1.0/btc/blocks/date=2010-03-12/part-00000-d4645ab9-6b85-4d88-81e2-2fd5323ee9b7-c000.snappy.parquet\n",
      "v1.0/btc/blocks/date=2010-03-13/part-00000-4c34e878-bf8a-4c69-a4cd-b8b7892f9c2c-c000.snappy.parquet\n",
      "v1.0/btc/blocks/date=2010-03-14/part-00000-a012180c-0fc8-479e-ab02-347ee8773e11-c000.snappy.parquet\n",
      "v1.0/btc/blocks/date=2010-03-15/part-00000-bb407e49-8886-4359-a0a0-68faa0664e1d-c000.snappy.parquet\n",
      "v1.0/btc/blocks/date=2010-03-16/part-00000-88185851-59e6-44e5-a895-09c91b121daf-c000.snappy.parquet\n",
      "v1.0/btc/blocks/date=2010-03-17/part-00000-4071ce84-10d0-4051-a7d8-6fbf2da1dfb6-c000.snappy.parquet\n",
      "v1.0/btc/blocks/date=2010-03-18/part-00000-d7c3a414-1c7a-45ad-9c18-36b06dfb7c3d-c000.snappy.parquet\n",
      "v1.0/btc/blocks/date=2010-03-19/part-00000-565b8b66-b65d-462b-a618-6e7d9f13b619-c000.snappy.parquet\n",
      "v1.0/btc/blocks/date=2010-03-20/part-00000-edb6dc6d-9910-487d-aa3f-9426a6bd4288-c000.snappy.parquet\n",
      "v1.0/btc/blocks/date=2010-03-21/part-00000-fafbc0ef-e547-4402-8f5b-ddcd4b37dbf3-c000.snappy.parquet\n",
      "v1.0/btc/blocks/date=2010-03-22/part-00000-b42e35b6-b9c9-472d-ad6c-9a890de5049d-c000.snappy.parquet\n",
      "v1.0/btc/blocks/date=2010-03-23/part-00000-7b011bee-cdc2-43d6-9164-d46725764e77-c000.snappy.parquet\n",
      "v1.0/btc/blocks/date=2010-03-24/part-00000-6f1a25e4-90ee-4805-bb0d-1c2ccb075ca9-c000.snappy.parquet\n",
      "v1.0/btc/blocks/date=2010-03-25/part-00000-b17997c0-1046-49ca-a641-89306bb9bdde-c000.snappy.parquet\n",
      "v1.0/btc/blocks/date=2010-03-26/part-00000-b6eea2d1-8b13-4e51-a68f-daba09c1a417-c000.snappy.parquet\n",
      "v1.0/btc/blocks/date=2010-03-27/part-00000-f8ac2ad2-3116-4af2-8533-823523fe529d-c000.snappy.parquet\n",
      "v1.0/btc/blocks/date=2010-03-28/part-00000-4123a0de-4c1f-47f6-a6d6-a09f79e0dd65-c000.snappy.parquet\n",
      "v1.0/btc/blocks/date=2010-03-29/part-00000-2c0b3237-a732-4046-8753-a3ea15c756b5-c000.snappy.parquet\n",
      "v1.0/btc/blocks/date=2010-03-30/part-00000-8bd3825c-c968-464d-b85e-a39042699af0-c000.snappy.parquet\n",
      "v1.0/btc/blocks/date=2010-03-31/part-00000-01d15ca4-f7e6-47ff-9217-62270e8aa72f-c000.snappy.parquet\n",
      "v1.0/btc/blocks/date=2010-04-01/part-00000-ccb2252c-9322-4a6c-b7fe-798c524a391c-c000.snappy.parquet\n",
      "v1.0/btc/blocks/date=2010-04-02/part-00000-a9489855-939e-4812-8ecc-077f4539e3d1-c000.snappy.parquet\n",
      "v1.0/btc/blocks/date=2010-04-03/part-00000-a238f736-a980-488a-8828-6bfd725e0df1-c000.snappy.parquet\n",
      "v1.0/btc/blocks/date=2010-04-04/part-00000-67ddc698-3081-4665-a4ee-1bc5ad3a38ae-c000.snappy.parquet\n",
      "v1.0/btc/blocks/date=2010-04-05/part-00000-e103e1c3-e431-43c4-962a-e291a3d75111-c000.snappy.parquet\n",
      "v1.0/btc/blocks/date=2010-04-06/part-00000-9373bc49-a752-425d-b121-7aacd51ee953-c000.snappy.parquet\n",
      "v1.0/btc/blocks/date=2010-04-07/part-00000-2cf45171-a72e-4b90-b827-cc5f4c36bfea-c000.snappy.parquet\n",
      "v1.0/btc/blocks/date=2010-04-08/part-00000-cb16afab-c73d-478e-b6c9-0c6daf9ab9a4-c000.snappy.parquet\n",
      "v1.0/btc/blocks/date=2010-04-09/part-00000-048933a0-a981-4532-9e7f-0b5b1bcc0ee9-c000.snappy.parquet\n",
      "v1.0/btc/blocks/date=2010-04-10/part-00000-cc320f11-891c-49cc-a84a-6d4501cbe8af-c000.snappy.parquet\n",
      "v1.0/btc/blocks/date=2010-04-11/part-00000-b701b498-1d2f-41c0-8051-0b336e91e778-c000.snappy.parquet\n",
      "v1.0/btc/blocks/date=2010-04-12/part-00000-819b3b4d-af66-46e6-8c3f-a90627198acb-c000.snappy.parquet\n",
      "v1.0/btc/blocks/date=2010-04-13/part-00000-31355406-1a7b-49b8-bc99-af3178982126-c000.snappy.parquet\n",
      "v1.0/btc/blocks/date=2010-04-14/part-00000-872aaa9c-3d3c-4a37-81d3-b0b87894e956-c000.snappy.parquet\n",
      "v1.0/btc/blocks/date=2010-04-15/part-00000-8adaabe0-a704-4bd4-8122-3d10956b3ecf-c000.snappy.parquet\n",
      "v1.0/btc/blocks/date=2010-04-16/part-00000-7a8552b3-149f-4bab-8574-8f0002fe89ad-c000.snappy.parquet\n",
      "v1.0/btc/blocks/date=2010-04-17/part-00000-0f3468b0-b5b6-43d4-8527-4facd261b4a8-c000.snappy.parquet\n",
      "v1.0/btc/blocks/date=2010-04-18/part-00000-60215520-2cf8-4331-8f9c-fd1de6fe3162-c000.snappy.parquet\n",
      "v1.0/btc/blocks/date=2010-04-19/part-00000-add1ef65-ab51-46a9-abf0-4940b4783248-c000.snappy.parquet\n",
      "v1.0/btc/blocks/date=2010-04-20/part-00000-188b1af0-cb53-4639-9920-2f4aed454b03-c000.snappy.parquet\n",
      "v1.0/btc/blocks/date=2010-04-21/part-00000-ad1540a2-7eed-4c23-a4bd-9218fbef8327-c000.snappy.parquet\n",
      "v1.0/btc/blocks/date=2010-04-22/part-00000-138b7c33-2f18-4aa8-99d9-fd4a41c72a0c-c000.snappy.parquet\n",
      "v1.0/btc/blocks/date=2010-04-23/part-00000-be50c137-8692-4b28-9377-a122795b6b0b-c000.snappy.parquet\n",
      "v1.0/btc/blocks/date=2010-04-24/part-00000-9ab6cf17-ee01-4783-9556-5dc72524945c-c000.snappy.parquet\n",
      "v1.0/btc/blocks/date=2010-04-25/part-00000-f90e23e2-66f0-49de-bed9-98b651a237d8-c000.snappy.parquet\n",
      "v1.0/btc/blocks/date=2010-04-26/part-00000-bf7cceae-df56-457a-8b96-6c6bdde2bd2b-c000.snappy.parquet\n",
      "v1.0/btc/blocks/date=2010-04-27/part-00000-a3bb696e-581e-4ad8-94e5-c41a7751e719-c000.snappy.parquet\n",
      "v1.0/btc/blocks/date=2010-04-28/part-00000-ef7a532b-eb39-46eb-b21e-68c33ef5a3e5-c000.snappy.parquet\n",
      "v1.0/btc/blocks/date=2010-04-29/part-00000-b0bef37b-0000-46de-9911-bbacb3ab39dc-c000.snappy.parquet\n",
      "v1.0/btc/blocks/date=2010-04-30/part-00000-455f75a8-20a8-4827-9b6b-6fc2068ab1aa-c000.snappy.parquet\n",
      "v1.0/btc/blocks/date=2010-05-01/part-00000-fe7bcb61-6478-42fa-a372-a2d0637c4f66-c000.snappy.parquet\n",
      "v1.0/btc/blocks/date=2010-05-02/part-00000-05c84dad-2b61-4afb-8569-4096a0dcfbcb-c000.snappy.parquet\n",
      "v1.0/btc/blocks/date=2010-05-03/part-00000-620afbd5-9a6a-4303-a047-795055d08178-c000.snappy.parquet\n",
      "v1.0/btc/blocks/date=2010-05-04/part-00000-38d71b59-097c-4177-af12-88ce0a6c594a-c000.snappy.parquet\n",
      "v1.0/btc/blocks/date=2010-05-05/part-00000-4ecd08a5-4c08-49c9-ab3b-cabd49cddcfd-c000.snappy.parquet\n",
      "v1.0/btc/blocks/date=2010-05-06/part-00000-bc3bacdd-81bd-4225-baf4-a9fa38914c67-c000.snappy.parquet\n",
      "v1.0/btc/blocks/date=2010-05-07/part-00000-b24cc5ed-3520-4f08-94d8-bb24c0ae1ee0-c000.snappy.parquet\n",
      "v1.0/btc/blocks/date=2010-05-08/part-00000-9bf90f7b-1fe4-4972-9b7d-c1c29b08b383-c000.snappy.parquet\n",
      "v1.0/btc/blocks/date=2010-05-09/part-00000-94408958-7fa3-4438-8958-219859ccf327-c000.snappy.parquet\n",
      "v1.0/btc/blocks/date=2010-05-10/part-00000-c50ea497-eef9-4222-bfce-95c361d87102-c000.snappy.parquet\n",
      "v1.0/btc/blocks/date=2010-05-11/part-00000-a28d8f4f-7691-4e7a-88d2-4cee2e951953-c000.snappy.parquet\n",
      "v1.0/btc/blocks/date=2010-05-12/part-00000-78a7c19b-e19c-4c65-8a9f-cb786dc28629-c000.snappy.parquet\n",
      "v1.0/btc/blocks/date=2010-05-13/part-00000-0311519e-6bfc-4142-a775-65a5f6b1dca5-c000.snappy.parquet\n",
      "v1.0/btc/blocks/date=2010-05-14/part-00000-e0f04e0d-7c77-4860-a477-691da52c5963-c000.snappy.parquet\n",
      "v1.0/btc/blocks/date=2010-05-15/part-00000-dc4d5dea-a3be-41b4-b77d-c3db9b7eb9b9-c000.snappy.parquet\n",
      "v1.0/btc/blocks/date=2010-05-16/part-00000-6311a434-0fdb-4567-a0b7-f302186c85c4-c000.snappy.parquet\n",
      "v1.0/btc/blocks/date=2010-05-17/part-00000-a961de93-f286-49b4-8fc9-e81bd7262b66-c000.snappy.parquet\n",
      "v1.0/btc/blocks/date=2010-05-18/part-00000-7f4c3f74-6c83-495b-9b1a-0fa4698b361f-c000.snappy.parquet\n",
      "v1.0/btc/blocks/date=2010-05-19/part-00000-f456727a-1b0d-40fd-b223-e2146d1f0521-c000.snappy.parquet\n",
      "v1.0/btc/blocks/date=2010-05-20/part-00000-9a86194e-090d-4898-91e0-11b3a9b1baf2-c000.snappy.parquet\n",
      "v1.0/btc/blocks/date=2010-05-21/part-00000-0c70e3fd-1c02-4944-847e-653179b5f9b7-c000.snappy.parquet\n",
      "v1.0/btc/blocks/date=2010-05-22/part-00000-87949dca-d758-48b0-8a8e-84bf2e903bbb-c000.snappy.parquet\n",
      "v1.0/btc/blocks/date=2010-05-23/part-00000-877f16db-a962-424a-b88f-80d6107bc8d5-c000.snappy.parquet\n",
      "v1.0/btc/blocks/date=2010-05-24/part-00000-925b048d-d8ea-4e41-a134-961d888dfd1e-c000.snappy.parquet\n",
      "v1.0/btc/blocks/date=2010-05-25/part-00000-69aae99b-3a76-4a35-a374-d0d1b4236edc-c000.snappy.parquet\n",
      "v1.0/btc/blocks/date=2010-05-26/part-00000-e3c6e60c-040f-4c99-b6fe-874a9db15ad5-c000.snappy.parquet\n",
      "v1.0/btc/blocks/date=2010-05-27/part-00000-20e799e3-5586-4a4e-8c5d-6b56c2cefd30-c000.snappy.parquet\n",
      "v1.0/btc/blocks/date=2010-05-28/part-00000-96c237bd-c242-481f-a8f7-c36bce5db834-c000.snappy.parquet\n",
      "v1.0/btc/blocks/date=2010-05-29/part-00000-da1b8a83-51d3-481c-9eed-75cbca564ecc-c000.snappy.parquet\n",
      "v1.0/btc/blocks/date=2010-05-30/part-00000-270fcf69-1f8b-4ef5-a3d9-74329f0a5868-c000.snappy.parquet\n",
      "v1.0/btc/blocks/date=2010-05-31/part-00000-defe8c51-caac-4f4b-88f3-07b03ec02535-c000.snappy.parquet\n",
      "v1.0/btc/blocks/date=2010-06-01/part-00000-39beec9d-3e30-4e5b-9f4f-f0657cf0813d-c000.snappy.parquet\n",
      "v1.0/btc/blocks/date=2010-06-02/part-00000-25a38f76-a07b-469e-be2d-81f8293527a0-c000.snappy.parquet\n",
      "v1.0/btc/blocks/date=2010-06-03/part-00000-49341f24-b440-4f18-9c13-7399dd9e6748-c000.snappy.parquet\n",
      "v1.0/btc/blocks/date=2010-06-04/part-00000-5bf4f8ea-19f9-4559-91c6-915e8a107c64-c000.snappy.parquet\n",
      "v1.0/btc/blocks/date=2010-06-05/part-00000-4626c820-4f62-4874-9d70-95660fe5aedb-c000.snappy.parquet\n",
      "v1.0/btc/blocks/date=2010-06-06/part-00000-3cb95833-6660-4347-8306-f4ef507078f3-c000.snappy.parquet\n",
      "v1.0/btc/blocks/date=2010-06-07/part-00000-8d2710e7-d56f-493e-929c-77d47029cc49-c000.snappy.parquet\n",
      "v1.0/btc/blocks/date=2010-06-08/part-00000-0d8bea73-5ba3-4098-8282-e472d0d7854f-c000.snappy.parquet\n",
      "v1.0/btc/blocks/date=2010-06-09/part-00000-ed1e9c57-6a29-4087-b6eb-3ebd493d4bcf-c000.snappy.parquet\n",
      "v1.0/btc/blocks/date=2010-06-10/part-00000-d31c8a48-a186-4efc-9fa6-9b0a03eeef91-c000.snappy.parquet\n",
      "v1.0/btc/blocks/date=2010-06-11/part-00000-f95694e3-364b-4cd9-b651-3f88b9114663-c000.snappy.parquet\n",
      "v1.0/btc/blocks/date=2010-06-12/part-00000-8e564cfd-5911-46b9-8503-bbd82966904a-c000.snappy.parquet\n",
      "v1.0/btc/blocks/date=2010-06-13/part-00000-1f80e4a2-a93f-4413-9edd-4d4d5ffcaed4-c000.snappy.parquet\n",
      "v1.0/btc/blocks/date=2010-06-14/part-00000-9b739db9-2d94-4729-8480-8eec8e80625a-c000.snappy.parquet\n",
      "v1.0/btc/blocks/date=2010-06-15/part-00000-bec1f523-5d0f-41b2-ad36-912e2c598c19-c000.snappy.parquet\n",
      "v1.0/btc/blocks/date=2010-06-16/part-00000-baca41e8-80f0-48f7-b79b-1b955f997323-c000.snappy.parquet\n",
      "v1.0/btc/blocks/date=2010-06-17/part-00000-28f620b5-8624-4744-a87a-e6f10344e596-c000.snappy.parquet\n",
      "v1.0/btc/blocks/date=2010-06-18/part-00000-cb7331d0-38c0-4baf-a27b-c2daa91043ab-c000.snappy.parquet\n",
      "v1.0/btc/blocks/date=2010-06-19/part-00000-0aed984e-5e2d-452a-8c69-ab5a049bd24c-c000.snappy.parquet\n",
      "v1.0/btc/blocks/date=2010-06-20/part-00000-63af4fee-e4c0-4132-812c-8f55337f6acc-c000.snappy.parquet\n",
      "v1.0/btc/blocks/date=2010-06-21/part-00000-64ddbb8d-e7d7-4495-ac2c-7990dbf4f5b5-c000.snappy.parquet\n",
      "v1.0/btc/blocks/date=2010-06-22/part-00000-2cd65acc-4e37-445b-85cc-d2f358a7d867-c000.snappy.parquet\n",
      "v1.0/btc/blocks/date=2010-06-23/part-00000-76a2452c-bcb8-40ef-a0b0-7c3631f093cc-c000.snappy.parquet\n",
      "v1.0/btc/blocks/date=2010-06-24/part-00000-5d7e04b5-ddc5-41ae-98ac-29c17bdc0290-c000.snappy.parquet\n",
      "v1.0/btc/blocks/date=2010-06-25/part-00000-652b24ff-317f-436c-bc4a-2213ec1d900f-c000.snappy.parquet\n",
      "v1.0/btc/blocks/date=2010-06-26/part-00000-f0fe44a8-a911-4150-bd68-ffc956401e42-c000.snappy.parquet\n",
      "v1.0/btc/blocks/date=2010-06-27/part-00000-1f9c3ed5-5cc1-43c6-a4f6-f1d1c21ae1ab-c000.snappy.parquet\n",
      "v1.0/btc/blocks/date=2010-06-28/part-00000-6ddd1e4d-9ce2-427f-8c53-3198655c9e9c-c000.snappy.parquet\n",
      "v1.0/btc/blocks/date=2010-06-29/part-00000-c71148db-bf3f-4543-a778-6b9bcc3a13e3-c000.snappy.parquet\n",
      "v1.0/btc/blocks/date=2010-06-30/part-00000-db52f563-b8fd-419a-ba05-a187ea37e21b-c000.snappy.parquet\n",
      "v1.0/btc/blocks/date=2010-07-01/part-00000-e720c994-5b6e-4dd1-aefa-ece348ff81c2-c000.snappy.parquet\n",
      "v1.0/btc/blocks/date=2010-07-02/part-00000-f9aa32ad-a443-4e77-9be9-b43849962008-c000.snappy.parquet\n",
      "v1.0/btc/blocks/date=2010-07-03/part-00000-ddc1bd8a-95d7-44e4-9759-1fe0d8a79d07-c000.snappy.parquet\n",
      "v1.0/btc/blocks/date=2010-07-04/part-00000-ec156fb8-bca5-4006-b40c-9fcd3eccdb49-c000.snappy.parquet\n",
      "v1.0/btc/blocks/date=2010-07-05/part-00000-98d17067-5089-46f8-b5fc-6c8308b401cb-c000.snappy.parquet\n",
      "v1.0/btc/blocks/date=2010-07-06/part-00000-5bacf212-28e0-4082-a7e0-06167c946c04-c000.snappy.parquet\n",
      "v1.0/btc/blocks/date=2010-07-07/part-00000-6d3451e1-9095-4645-8b25-6b920912541b-c000.snappy.parquet\n",
      "v1.0/btc/blocks/date=2010-07-08/part-00000-3ef2db4d-0ea6-4f04-a7d0-e536ff798adb-c000.snappy.parquet\n",
      "v1.0/btc/blocks/date=2010-07-09/part-00000-ab0b8f61-e5f4-4c3b-b3fb-af03878fc0ad-c000.snappy.parquet\n",
      "v1.0/btc/blocks/date=2010-07-10/part-00000-fdda78b4-139c-4a86-805f-ee2d50e1faae-c000.snappy.parquet\n",
      "v1.0/btc/blocks/date=2010-07-11/part-00000-91dc4905-6443-4d18-819c-720dca48a727-c000.snappy.parquet\n",
      "v1.0/btc/blocks/date=2010-07-12/part-00000-cf19ca8b-51a2-420f-b95a-c9d0a7a8fee2-c000.snappy.parquet\n",
      "v1.0/btc/blocks/date=2010-07-13/part-00000-4b1a8b91-8756-4be7-a8aa-21d5ebadcd45-c000.snappy.parquet\n",
      "v1.0/btc/blocks/date=2010-07-14/part-00000-24b6fc84-a6d0-43bb-8d12-2a7a0e502279-c000.snappy.parquet\n",
      "v1.0/btc/blocks/date=2010-07-15/part-00000-782208dc-cdc8-4d59-afef-6ed5b671b611-c000.snappy.parquet\n",
      "v1.0/btc/blocks/date=2010-07-16/part-00000-30f2c278-17f4-49d0-b7e5-151599470d86-c000.snappy.parquet\n",
      "v1.0/btc/blocks/date=2010-07-17/part-00000-1ad31f21-6f59-41ff-aafd-63203f6f0263-c000.snappy.parquet\n",
      "v1.0/btc/blocks/date=2010-07-18/part-00000-6cc9aea0-4fad-4384-b2cf-a97eff43e276-c000.snappy.parquet\n",
      "v1.0/btc/blocks/date=2010-07-19/part-00000-8e6fb5a2-b7cf-470c-b30b-ab84aecb9576-c000.snappy.parquet\n",
      "v1.0/btc/blocks/date=2010-07-20/part-00000-78a78ac9-46c8-4007-b966-0fb2e6f1639a-c000.snappy.parquet\n",
      "v1.0/btc/blocks/date=2010-07-21/part-00000-a8ab2342-da32-42e7-bf04-f4ef96b945cd-c000.snappy.parquet\n",
      "v1.0/btc/blocks/date=2010-07-22/part-00000-3fb82768-805d-4401-8924-01257a00cb51-c000.snappy.parquet\n",
      "v1.0/btc/blocks/date=2010-07-23/part-00000-130a1d6f-39c1-4ec3-998f-59a07deb63ea-c000.snappy.parquet\n",
      "v1.0/btc/blocks/date=2010-07-24/part-00000-0ef5bb66-f5a6-48fc-b939-c51715424497-c000.snappy.parquet\n",
      "v1.0/btc/blocks/date=2010-07-25/part-00000-82622723-15ab-4f5c-9d42-ef83bc70f95e-c000.snappy.parquet\n",
      "v1.0/btc/blocks/date=2010-07-26/part-00000-ffcef6d5-a02b-428c-be77-a3a45204848a-c000.snappy.parquet\n",
      "v1.0/btc/blocks/date=2010-07-27/part-00000-025dfdc1-3b2d-4242-b252-5d282bfccee8-c000.snappy.parquet\n",
      "v1.0/btc/blocks/date=2010-07-28/part-00000-78bbb8b3-3dc0-4634-8d77-779c11a52936-c000.snappy.parquet\n",
      "v1.0/btc/blocks/date=2010-07-29/part-00000-7959bbc8-675f-4125-a782-5b4184d1e653-c000.snappy.parquet\n",
      "v1.0/btc/blocks/date=2010-07-30/part-00000-10f1e6b1-0b37-4c4a-9d15-afdb393e07c3-c000.snappy.parquet\n",
      "v1.0/btc/blocks/date=2010-07-31/part-00000-13b9ba4e-84fb-4774-abfc-0ce37f62bc5a-c000.snappy.parquet\n",
      "v1.0/btc/blocks/date=2010-08-01/part-00000-d0867180-ab2f-4941-b233-a4835e12820a-c000.snappy.parquet\n",
      "v1.0/btc/blocks/date=2010-08-02/part-00000-d85cdc68-7731-4dad-a68b-73c977621562-c000.snappy.parquet\n",
      "v1.0/btc/blocks/date=2010-08-03/part-00000-4fe757ac-7d6f-4fd0-9ed8-f889c6f318bf-c000.snappy.parquet\n",
      "v1.0/btc/blocks/date=2010-08-04/part-00000-4872a022-13c9-49e3-ba12-43964e5c1722-c000.snappy.parquet\n",
      "v1.0/btc/blocks/date=2010-08-05/part-00000-76450000-cfec-4c6c-a4a9-020ba53de970-c000.snappy.parquet\n",
      "v1.0/btc/blocks/date=2010-08-06/part-00000-2b0d0b98-9c69-46fa-a5dc-1d0208e6048a-c000.snappy.parquet\n",
      "v1.0/btc/blocks/date=2010-08-07/part-00000-185b0e66-2524-44f1-8661-af2c14158837-c000.snappy.parquet\n",
      "v1.0/btc/blocks/date=2010-08-08/part-00000-b2ae82d4-1832-4324-82e9-d5983a9619d2-c000.snappy.parquet\n",
      "v1.0/btc/blocks/date=2010-08-09/part-00000-c6add527-8908-44b8-81ec-7778dd942b60-c000.snappy.parquet\n",
      "v1.0/btc/blocks/date=2010-08-10/part-00000-7c6cf08b-c693-4bc2-914a-90fdd3186e86-c000.snappy.parquet\n",
      "v1.0/btc/blocks/date=2010-08-11/part-00000-7df26080-24ed-45e7-b095-9283a725e815-c000.snappy.parquet\n",
      "v1.0/btc/blocks/date=2010-08-12/part-00000-c2043c95-18c0-462c-bdd5-c02ff5c3025b-c000.snappy.parquet\n",
      "v1.0/btc/blocks/date=2010-08-13/part-00000-972b00c2-bbb9-4af7-8bdb-6a771f78da7d-c000.snappy.parquet\n",
      "v1.0/btc/blocks/date=2010-08-14/part-00000-f18134c4-ba41-4756-9727-83d0e44c832c-c000.snappy.parquet\n",
      "v1.0/btc/blocks/date=2010-08-15/part-00000-05157caa-0100-4ac9-a0e4-afec8ef82361-c000.snappy.parquet\n",
      "v1.0/btc/blocks/date=2010-08-16/part-00000-2bc93c43-2f00-439b-a6d9-f7393c9c0fe3-c000.snappy.parquet\n",
      "v1.0/btc/blocks/date=2010-08-17/part-00000-4f0db62e-d054-4049-a47c-ae8a4d6a9a1f-c000.snappy.parquet\n",
      "v1.0/btc/blocks/date=2010-08-18/part-00000-dcb60f72-da2d-424a-a245-b106a3e9a38d-c000.snappy.parquet\n",
      "v1.0/btc/blocks/date=2010-08-19/part-00000-cea992cf-f6b6-4afc-81a7-2406a2073ed2-c000.snappy.parquet\n",
      "v1.0/btc/blocks/date=2010-08-20/part-00000-e1f16029-cc6d-4e21-93f7-120611a66c02-c000.snappy.parquet\n",
      "v1.0/btc/blocks/date=2010-08-21/part-00000-3b8d6016-f272-46a7-9de1-df535ab5fd40-c000.snappy.parquet\n",
      "v1.0/btc/blocks/date=2010-08-22/part-00000-81adf33e-3ae4-4c0c-aed2-a17d99d1dd63-c000.snappy.parquet\n",
      "v1.0/btc/blocks/date=2010-08-23/part-00000-fd06f8ac-5c5c-4494-b4f4-6e5b77c22ecf-c000.snappy.parquet\n",
      "v1.0/btc/blocks/date=2010-08-24/part-00000-15566819-60a2-4eba-ab4d-31343ecf6b66-c000.snappy.parquet\n",
      "v1.0/btc/blocks/date=2010-08-25/part-00000-c36cab96-1441-4221-8b9e-6554ce8bef94-c000.snappy.parquet\n",
      "v1.0/btc/blocks/date=2010-08-26/part-00000-22a74df2-cb8f-4276-8ef4-f5c0959e359c-c000.snappy.parquet\n",
      "v1.0/btc/blocks/date=2010-08-27/part-00000-2bc4b83c-19db-42af-a759-cd9a14449827-c000.snappy.parquet\n",
      "v1.0/btc/blocks/date=2010-08-28/part-00000-3df95fac-b4ad-4866-821e-79ccfbc15f85-c000.snappy.parquet\n",
      "v1.0/btc/blocks/date=2010-08-29/part-00000-2749a4df-ce9a-4d63-ac09-a9cf59c6cee3-c000.snappy.parquet\n",
      "v1.0/btc/blocks/date=2010-08-30/part-00000-d89f006b-58a7-483d-8168-a6f9393dfd20-c000.snappy.parquet\n",
      "v1.0/btc/blocks/date=2010-08-31/part-00000-83b6d92d-60cf-43d7-a18f-bc650ed5f6a4-c000.snappy.parquet\n",
      "v1.0/btc/blocks/date=2010-09-01/part-00000-84f0aebd-4947-429b-8ca3-0531f0b57055-c000.snappy.parquet\n",
      "v1.0/btc/blocks/date=2010-09-02/part-00000-0e68866b-7abc-47f5-b44b-dee94b91d8d0-c000.snappy.parquet\n",
      "v1.0/btc/blocks/date=2010-09-03/part-00000-aeb0c9fb-8f11-44f1-a198-2cfe7697af8c-c000.snappy.parquet\n",
      "v1.0/btc/blocks/date=2010-09-04/part-00000-bf69b2cd-9e6d-4b8c-82c0-c1610e8c4ac9-c000.snappy.parquet\n",
      "v1.0/btc/blocks/date=2010-09-05/part-00000-bf92e55f-f3d2-494c-8d45-46fd3aa8c683-c000.snappy.parquet\n",
      "v1.0/btc/blocks/date=2010-09-06/part-00000-47a39447-488a-4b7b-ab07-af6b2304137b-c000.snappy.parquet\n",
      "v1.0/btc/blocks/date=2010-09-07/part-00000-c2315b30-a3c0-4170-8de3-48980e5608a6-c000.snappy.parquet\n",
      "v1.0/btc/blocks/date=2010-09-08/part-00000-8fff5c74-4f96-42e8-8c9b-0c869aa7a442-c000.snappy.parquet\n",
      "v1.0/btc/blocks/date=2010-09-09/part-00000-f5cde4d5-b064-4b4d-9929-f1beae524286-c000.snappy.parquet\n",
      "v1.0/btc/blocks/date=2010-09-10/part-00000-231928f5-9ab2-4502-b698-207818a34ff2-c000.snappy.parquet\n",
      "v1.0/btc/blocks/date=2010-09-11/part-00000-8e197639-0883-4f6a-91d3-d2076a37157e-c000.snappy.parquet\n",
      "v1.0/btc/blocks/date=2010-09-12/part-00000-59459fcb-6493-4501-8f3d-beed76656f15-c000.snappy.parquet\n",
      "v1.0/btc/blocks/date=2010-09-13/part-00000-f681431d-be2a-403a-88a8-eedf735019a2-c000.snappy.parquet\n",
      "v1.0/btc/blocks/date=2010-09-14/part-00000-fb8fdbc1-1f58-4cff-8d63-19f900e55dbd-c000.snappy.parquet\n",
      "v1.0/btc/blocks/date=2010-09-15/part-00000-bb803bff-e50e-4683-a3b5-504f88d4b8a9-c000.snappy.parquet\n",
      "v1.0/btc/blocks/date=2010-09-16/part-00000-bd00d9f9-9151-45e1-918b-3973851671bc-c000.snappy.parquet\n",
      "v1.0/btc/blocks/date=2010-09-17/part-00000-0dbfb209-4220-412c-b393-094823e2a802-c000.snappy.parquet\n",
      "v1.0/btc/blocks/date=2010-09-18/part-00000-da68660b-fef2-474c-be1f-4423b5c8aae9-c000.snappy.parquet\n",
      "v1.0/btc/blocks/date=2010-09-19/part-00000-acad1b40-a7e3-4966-ba9e-2c04423b1c88-c000.snappy.parquet\n",
      "v1.0/btc/blocks/date=2010-09-20/part-00000-4f93908f-e7eb-4d6d-a601-63d1271741c1-c000.snappy.parquet\n",
      "v1.0/btc/blocks/date=2010-09-21/part-00000-ec0ad740-ba41-4f72-964a-2cdd43b2961a-c000.snappy.parquet\n",
      "v1.0/btc/blocks/date=2010-09-22/part-00000-bda55c3a-2ada-4beb-b51c-5517227e1f98-c000.snappy.parquet\n",
      "v1.0/btc/blocks/date=2010-09-23/part-00000-15da0e38-7bdb-4531-a59c-67fa0056aa86-c000.snappy.parquet\n",
      "v1.0/btc/blocks/date=2010-09-24/part-00000-c6ecee4d-40a9-41ec-b484-d473103b4830-c000.snappy.parquet\n",
      "v1.0/btc/blocks/date=2010-09-25/part-00000-5de7a40d-ec61-46e5-91af-ee24126c139f-c000.snappy.parquet\n",
      "v1.0/btc/blocks/date=2010-09-26/part-00000-9b931687-186f-4330-8ffa-063249bc52fb-c000.snappy.parquet\n",
      "v1.0/btc/blocks/date=2010-09-27/part-00000-1a7c264b-ea28-40bf-9c98-e0affdeb29ce-c000.snappy.parquet\n",
      "v1.0/btc/blocks/date=2010-09-28/part-00000-18193683-1027-407c-82f5-89caca243568-c000.snappy.parquet\n",
      "v1.0/btc/blocks/date=2010-09-29/part-00000-5254a495-f227-4e88-95e2-70a0d64dad66-c000.snappy.parquet\n",
      "v1.0/btc/blocks/date=2010-09-30/part-00000-ae7cbd08-77d5-4696-940a-e5a195afa303-c000.snappy.parquet\n",
      "v1.0/btc/blocks/date=2010-10-01/part-00000-a43fa82f-6d4d-4dac-a26b-d11a89335f6a-c000.snappy.parquet\n",
      "v1.0/btc/blocks/date=2010-10-02/part-00000-6f155620-207a-40a6-b060-a65e6b858fb8-c000.snappy.parquet\n",
      "v1.0/btc/blocks/date=2010-10-03/part-00000-5b058a75-fbd4-4431-94dd-438e8ed49cae-c000.snappy.parquet\n",
      "v1.0/btc/blocks/date=2010-10-04/part-00000-97bd8f89-69f7-4316-bf4b-35751d8ad37c-c000.snappy.parquet\n",
      "v1.0/btc/blocks/date=2010-10-05/part-00000-2bd1bcc4-feaa-488e-9e53-2b6a71107b12-c000.snappy.parquet\n",
      "v1.0/btc/blocks/date=2010-10-06/part-00000-e3751bb1-acd1-4449-aa9b-30730ba8c291-c000.snappy.parquet\n",
      "v1.0/btc/blocks/date=2010-10-07/part-00000-73081943-8e9b-4064-9a3a-2224c4df6073-c000.snappy.parquet\n",
      "v1.0/btc/blocks/date=2010-10-08/part-00000-438e3fec-a2c8-4354-82cf-8bd9c2fa213d-c000.snappy.parquet\n",
      "v1.0/btc/blocks/date=2010-10-09/part-00000-fee2dbf9-4ce4-4dc2-903e-79e08c111ced-c000.snappy.parquet\n",
      "v1.0/btc/blocks/date=2010-10-10/part-00000-372d83c6-d6f0-4092-b196-a2ab091a8b5f-c000.snappy.parquet\n",
      "v1.0/btc/blocks/date=2010-10-11/part-00000-53a4f44b-7735-49b5-81af-563eee7cafdd-c000.snappy.parquet\n",
      "v1.0/btc/blocks/date=2010-10-12/part-00000-f80cc609-1a7e-4812-b932-a5d53acaeac9-c000.snappy.parquet\n",
      "v1.0/btc/blocks/date=2010-10-13/part-00000-8b5be811-629a-4521-ac37-8a225d25739a-c000.snappy.parquet\n",
      "v1.0/btc/blocks/date=2010-10-14/part-00000-e569a6f0-3c3d-4865-b056-f1cfa60a632d-c000.snappy.parquet\n",
      "v1.0/btc/blocks/date=2010-10-15/part-00000-734537c3-60c9-4d2b-881c-91469ae682f9-c000.snappy.parquet\n",
      "v1.0/btc/blocks/date=2010-10-16/part-00000-cd7d31b2-e7bc-4ca5-8567-a625295f1c41-c000.snappy.parquet\n",
      "v1.0/btc/blocks/date=2010-10-17/part-00000-11f40c10-b77d-478b-84b4-a2ef33555cdb-c000.snappy.parquet\n",
      "v1.0/btc/blocks/date=2010-10-18/part-00000-431af404-6a70-4129-a6a5-6a606c07784c-c000.snappy.parquet\n",
      "v1.0/btc/blocks/date=2010-10-19/part-00000-3ae2b84d-0fb4-4307-90dd-7565c4baace4-c000.snappy.parquet\n",
      "v1.0/btc/blocks/date=2010-10-20/part-00000-2ee862a5-412b-46a6-9f79-dda53b52ac49-c000.snappy.parquet\n",
      "v1.0/btc/blocks/date=2010-10-21/part-00000-45c43c45-855a-4b7c-a113-4150503f9e3e-c000.snappy.parquet\n",
      "v1.0/btc/blocks/date=2010-10-22/part-00000-9f09b78f-a1de-4ca5-9559-0f8de9668776-c000.snappy.parquet\n",
      "v1.0/btc/blocks/date=2010-10-23/part-00000-40b2c569-1db5-4eed-90b3-c7c3e59dbe20-c000.snappy.parquet\n",
      "v1.0/btc/blocks/date=2010-10-24/part-00000-d8d5c9de-5b44-4eef-b2c6-a45b80f97f71-c000.snappy.parquet\n",
      "v1.0/btc/blocks/date=2010-10-25/part-00000-647d57b0-8ad7-451c-a66c-1e2a5012dee9-c000.snappy.parquet\n",
      "v1.0/btc/blocks/date=2010-10-26/part-00000-059c1b32-8c88-4315-b6e1-9af2e972dec9-c000.snappy.parquet\n",
      "v1.0/btc/blocks/date=2010-10-27/part-00000-4a565d54-4cab-45df-8019-17c5eaa56595-c000.snappy.parquet\n",
      "v1.0/btc/blocks/date=2010-10-28/part-00000-1d30f79a-f95b-49bb-817b-774c8a9f9583-c000.snappy.parquet\n",
      "v1.0/btc/blocks/date=2010-10-29/part-00000-ad884cf9-59a2-41de-ad4c-fdb3dafbb17e-c000.snappy.parquet\n",
      "v1.0/btc/blocks/date=2010-10-30/part-00000-cc1ee18f-ee1c-4a4b-8474-084727eed357-c000.snappy.parquet\n",
      "v1.0/btc/blocks/date=2010-10-31/part-00000-f77ce3c1-3881-4490-a9b9-1df56976f24e-c000.snappy.parquet\n",
      "v1.0/btc/blocks/date=2010-11-01/part-00000-05a7c906-f6a0-4e37-a758-0b90cd88f2fe-c000.snappy.parquet\n",
      "v1.0/btc/blocks/date=2010-11-02/part-00000-f1ff5291-840f-43be-b635-bd9e0ff792a6-c000.snappy.parquet\n",
      "v1.0/btc/blocks/date=2010-11-03/part-00000-587b4f24-b9df-4849-8b86-1ab94a34b9e4-c000.snappy.parquet\n",
      "v1.0/btc/blocks/date=2010-11-04/part-00000-a44fc08c-6859-437c-b778-6645fe081f24-c000.snappy.parquet\n",
      "v1.0/btc/blocks/date=2010-11-05/part-00000-6e61da8e-f95b-4f4a-8037-6aa6e5361db9-c000.snappy.parquet\n",
      "v1.0/btc/blocks/date=2010-11-06/part-00000-438116fc-e060-4fae-8d02-2fcde54321ef-c000.snappy.parquet\n",
      "v1.0/btc/blocks/date=2010-11-07/part-00000-196747bd-48f3-437c-a409-d1a97722367d-c000.snappy.parquet\n",
      "v1.0/btc/blocks/date=2010-11-08/part-00000-c9899fae-2be0-4a03-86b7-f8953d7e740b-c000.snappy.parquet\n",
      "v1.0/btc/blocks/date=2010-11-09/part-00000-48a090a6-fcab-4bbb-b65f-0c901d345d55-c000.snappy.parquet\n",
      "v1.0/btc/blocks/date=2010-11-10/part-00000-e74b18a1-2bbf-4e20-b036-01d16eb52610-c000.snappy.parquet\n",
      "v1.0/btc/blocks/date=2010-11-11/part-00000-4d9ee492-709f-4776-9d8d-58302550bbbd-c000.snappy.parquet\n",
      "v1.0/btc/blocks/date=2010-11-12/part-00000-a10e5f14-514b-40e2-bdaa-8f598a795d8a-c000.snappy.parquet\n",
      "v1.0/btc/blocks/date=2010-11-13/part-00000-d4f9e4b9-1df4-483c-ae0c-1c64dd7fa246-c000.snappy.parquet\n",
      "v1.0/btc/blocks/date=2010-11-14/part-00000-b77b4ba5-7856-4ac1-82b4-d27991e9ff3e-c000.snappy.parquet\n",
      "v1.0/btc/blocks/date=2010-11-15/part-00000-bb2bbae3-a44a-49c0-a788-8f3bdcbdbe4b-c000.snappy.parquet\n",
      "v1.0/btc/blocks/date=2010-11-16/part-00000-fc493d75-97da-4756-86f6-7553bb561192-c000.snappy.parquet\n",
      "v1.0/btc/blocks/date=2010-11-17/part-00000-c2949260-15ff-43aa-a704-90166579d34b-c000.snappy.parquet\n",
      "v1.0/btc/blocks/date=2010-11-18/part-00000-596df1a8-62e7-414b-b0d1-8821245ff468-c000.snappy.parquet\n",
      "v1.0/btc/blocks/date=2010-11-19/part-00000-57a84682-37fb-4866-8b53-7cba38ff1d9a-c000.snappy.parquet\n",
      "v1.0/btc/blocks/date=2010-11-20/part-00000-be255b61-e707-4948-a346-2f5bd6da2a5f-c000.snappy.parquet\n",
      "v1.0/btc/blocks/date=2010-11-21/part-00000-81ba8d2a-ad8f-491c-b732-8450a34a4608-c000.snappy.parquet\n",
      "v1.0/btc/blocks/date=2010-11-22/part-00000-1eb10349-5591-4bae-994b-a8b696adf4dd-c000.snappy.parquet\n",
      "v1.0/btc/blocks/date=2010-11-23/part-00000-0c8e206f-d4cb-441a-905c-2eff229c4411-c000.snappy.parquet\n",
      "v1.0/btc/blocks/date=2010-11-24/part-00000-5096d2c5-2963-41e1-8a7d-76c1d9265f6d-c000.snappy.parquet\n",
      "v1.0/btc/blocks/date=2010-11-25/part-00000-3cc777c7-9b05-41eb-a87c-85923429f417-c000.snappy.parquet\n",
      "v1.0/btc/blocks/date=2010-11-26/part-00000-773db6ee-fd5c-44d0-b4fa-827f8238c411-c000.snappy.parquet\n",
      "v1.0/btc/blocks/date=2010-11-27/part-00000-8be49a38-091b-45e0-8535-126be7ce1263-c000.snappy.parquet\n",
      "v1.0/btc/blocks/date=2010-11-28/part-00000-3257421a-7ac0-454e-a57a-b71000c2c734-c000.snappy.parquet\n",
      "v1.0/btc/blocks/date=2010-11-29/part-00000-e62d1c1c-7518-46c6-a172-d68a01b8e834-c000.snappy.parquet\n",
      "v1.0/btc/blocks/date=2010-11-30/part-00000-a7bd1e88-f8d0-47e9-a58b-2f031e352df9-c000.snappy.parquet\n",
      "v1.0/btc/blocks/date=2010-12-01/part-00000-8cfc61e7-7725-43ce-a73b-4bbc7e513693-c000.snappy.parquet\n",
      "v1.0/btc/blocks/date=2010-12-02/part-00000-b65503ce-5a8e-4d63-b353-50b27f1fc94e-c000.snappy.parquet\n",
      "v1.0/btc/blocks/date=2010-12-03/part-00000-3095eb5e-f910-4a9a-8d86-9d253745f5e4-c000.snappy.parquet\n",
      "v1.0/btc/blocks/date=2010-12-04/part-00000-8fe25dda-35c5-4889-9d8f-c5bcebfa6c40-c000.snappy.parquet\n",
      "v1.0/btc/blocks/date=2010-12-05/part-00000-f7e44af5-b161-4d28-a774-dbc8708d75e7-c000.snappy.parquet\n",
      "v1.0/btc/blocks/date=2010-12-06/part-00000-82c739df-407c-42e2-8efc-a168068f75c2-c000.snappy.parquet\n",
      "v1.0/btc/blocks/date=2010-12-07/part-00000-1d63ad3f-0485-41eb-a563-8dcdb8d5f061-c000.snappy.parquet\n",
      "v1.0/btc/blocks/date=2010-12-08/part-00000-8c35938a-17fb-42bc-a5d6-514bacc168d0-c000.snappy.parquet\n",
      "v1.0/btc/blocks/date=2010-12-09/part-00000-b143c1ab-ed8e-4e2f-95f3-04a1f18c18a5-c000.snappy.parquet\n",
      "v1.0/btc/blocks/date=2010-12-10/part-00000-e943a7ee-36cd-4ee7-9d03-edb323668b4b-c000.snappy.parquet\n",
      "v1.0/btc/blocks/date=2010-12-11/part-00000-92441421-fa37-416f-b37e-1188502c8afc-c000.snappy.parquet\n",
      "v1.0/btc/blocks/date=2010-12-12/part-00000-8d27569e-10c0-4f85-95f1-df5cc5d23a0f-c000.snappy.parquet\n",
      "v1.0/btc/blocks/date=2010-12-13/part-00000-4ff3b643-66dd-4341-904c-1dfec805908c-c000.snappy.parquet\n",
      "v1.0/btc/blocks/date=2010-12-14/part-00000-1a5eae4e-000a-4a7e-9aba-997d19ff31cc-c000.snappy.parquet\n",
      "v1.0/btc/blocks/date=2010-12-15/part-00000-4266f795-937b-43f4-9bdb-b2d22e628293-c000.snappy.parquet\n",
      "v1.0/btc/blocks/date=2010-12-16/part-00000-791a46e9-557f-45f3-9159-cdb9affded9f-c000.snappy.parquet\n",
      "v1.0/btc/blocks/date=2010-12-17/part-00000-1604f4c0-d7c1-4f13-bbc0-b2b6829033d5-c000.snappy.parquet\n",
      "v1.0/btc/blocks/date=2010-12-18/part-00000-45180904-6717-4427-b908-26451ae03e2b-c000.snappy.parquet\n",
      "v1.0/btc/blocks/date=2010-12-19/part-00000-84f7e4e2-864d-475b-99f0-8ca246914866-c000.snappy.parquet\n",
      "v1.0/btc/blocks/date=2010-12-20/part-00000-875442ef-bcfb-430a-a60a-563410c3fa3b-c000.snappy.parquet\n",
      "v1.0/btc/blocks/date=2010-12-21/part-00000-1734da42-a81c-4664-82f9-4bfbb8e3037d-c000.snappy.parquet\n",
      "v1.0/btc/blocks/date=2010-12-22/part-00000-77cbb67f-f92a-4f9a-aa27-99ced4215f69-c000.snappy.parquet\n",
      "v1.0/btc/blocks/date=2010-12-23/part-00000-e44c6396-9827-4196-b431-75260bf2647a-c000.snappy.parquet\n",
      "v1.0/btc/blocks/date=2010-12-24/part-00000-cc733b45-0d49-456e-86b5-44ef29ba542b-c000.snappy.parquet\n",
      "v1.0/btc/blocks/date=2010-12-25/part-00000-170ed38d-6bcf-4c62-a585-489aa495258a-c000.snappy.parquet\n",
      "v1.0/btc/blocks/date=2010-12-26/part-00000-c91458f6-8d3e-4066-92ef-b93805d53895-c000.snappy.parquet\n",
      "v1.0/btc/blocks/date=2010-12-27/part-00000-2d40d99b-2216-44b7-ab2c-f61791c8b180-c000.snappy.parquet\n",
      "v1.0/btc/blocks/date=2010-12-28/part-00000-36536e6a-e76c-4a6f-b89d-617f28c8c545-c000.snappy.parquet\n",
      "v1.0/btc/blocks/date=2010-12-29/part-00000-90ee3729-d8ec-4595-9320-f0998c18c2db-c000.snappy.parquet\n",
      "v1.0/btc/blocks/date=2010-12-30/part-00000-655867fe-9f32-4567-8c0a-66f0db2443eb-c000.snappy.parquet\n",
      "v1.0/btc/blocks/date=2010-12-31/part-00000-d770dceb-1302-476d-a0e9-641886c577dd-c000.snappy.parquet\n",
      "v1.0/btc/blocks/date=2011-01-01/part-00000-9e6beafe-5b47-4f5c-ac14-72e58e5f6f7f-c000.snappy.parquet\n",
      "v1.0/btc/blocks/date=2011-01-02/part-00000-75e9fdf1-a41f-4d3f-aed6-2a1df15f7faa-c000.snappy.parquet\n",
      "v1.0/btc/blocks/date=2011-01-03/part-00000-0bb393d1-c1fd-4da0-8ce0-6c90c612ee49-c000.snappy.parquet\n",
      "v1.0/btc/blocks/date=2011-01-04/part-00000-f2bbde03-18a8-4c9e-8e60-7aecb7524380-c000.snappy.parquet\n",
      "v1.0/btc/blocks/date=2011-01-05/part-00000-09658c05-9202-441f-8150-c33b593bb398-c000.snappy.parquet\n",
      "v1.0/btc/blocks/date=2011-01-06/part-00000-dc7fa47c-aa2d-4f18-a7bc-d30451af8fc7-c000.snappy.parquet\n",
      "v1.0/btc/blocks/date=2011-01-07/part-00000-149ee357-ba72-4e63-a878-faa0d4d32ff6-c000.snappy.parquet\n",
      "v1.0/btc/blocks/date=2011-01-08/part-00000-195f71e5-58df-415c-b4af-025f6e2d6fc4-c000.snappy.parquet\n",
      "v1.0/btc/blocks/date=2011-01-09/part-00000-d5c6e680-f105-43d4-b502-d25df538151e-c000.snappy.parquet\n",
      "v1.0/btc/blocks/date=2011-01-10/part-00000-2fba5131-62a7-4463-bf77-7f73202b6714-c000.snappy.parquet\n",
      "v1.0/btc/blocks/date=2011-01-11/part-00000-76146d7d-74d9-42fd-a408-3b0d600674f2-c000.snappy.parquet\n",
      "v1.0/btc/blocks/date=2011-01-12/part-00000-d551aedf-7359-4e03-b4f1-d49ce30e979a-c000.snappy.parquet\n",
      "v1.0/btc/blocks/date=2011-01-13/part-00000-07c1c91c-0e75-4a8b-8e57-fd8de4c18b4b-c000.snappy.parquet\n",
      "v1.0/btc/blocks/date=2011-01-14/part-00000-a5d6ac05-8f18-4a9b-b24d-0505c9f86937-c000.snappy.parquet\n",
      "v1.0/btc/blocks/date=2011-01-15/part-00000-0a719f6b-cf95-4361-b0e9-e027f5d76940-c000.snappy.parquet\n",
      "v1.0/btc/blocks/date=2011-01-16/part-00000-89d413f1-a239-4f11-abbf-e7e33d314586-c000.snappy.parquet\n",
      "v1.0/btc/blocks/date=2011-01-17/part-00000-81034726-4fb4-4551-a4ea-35d78f90a0d8-c000.snappy.parquet\n",
      "v1.0/btc/blocks/date=2011-01-18/part-00000-bd616244-d26a-489c-bb1f-ed3a669fc2db-c000.snappy.parquet\n",
      "v1.0/btc/blocks/date=2011-01-19/part-00000-a29b9e05-ae42-49ef-81cd-86a46be032fd-c000.snappy.parquet\n",
      "v1.0/btc/blocks/date=2011-01-20/part-00000-5d8b546d-6043-4c9f-b8d6-d62638753549-c000.snappy.parquet\n",
      "v1.0/btc/blocks/date=2011-01-21/part-00000-654a8e9e-f585-4e01-98c0-7f987de8f7db-c000.snappy.parquet\n",
      "v1.0/btc/blocks/date=2011-01-22/part-00000-22b855ab-3ead-4e68-91fe-137de15886b0-c000.snappy.parquet\n",
      "v1.0/btc/blocks/date=2011-01-23/part-00000-2514eb1c-fcbd-4a03-a702-40983ca27eff-c000.snappy.parquet\n",
      "v1.0/btc/blocks/date=2011-01-24/part-00000-537e2d34-332a-43fe-be3c-7076bb985744-c000.snappy.parquet\n",
      "v1.0/btc/blocks/date=2011-01-25/part-00000-ee6a9b14-3b4e-4a25-9b83-51a49bad7888-c000.snappy.parquet\n",
      "v1.0/btc/blocks/date=2011-01-26/part-00000-03f73e39-1404-403d-a4bf-94ccb9d65f41-c000.snappy.parquet\n",
      "v1.0/btc/blocks/date=2011-01-27/part-00000-31e1d730-99b3-43b9-9eb8-09f88cc70b4b-c000.snappy.parquet\n",
      "v1.0/btc/blocks/date=2011-01-28/part-00000-39daba2b-bd02-428b-9b45-3c1465e5e27a-c000.snappy.parquet\n",
      "v1.0/btc/blocks/date=2011-01-29/part-00000-cab3d0cb-4d34-4983-bf76-3095950e3f03-c000.snappy.parquet\n",
      "v1.0/btc/blocks/date=2011-01-30/part-00000-1d825156-796c-43fe-9709-284de2c7f81e-c000.snappy.parquet\n",
      "v1.0/btc/blocks/date=2011-01-31/part-00000-a6971d01-8db5-481c-9a3d-7dfe905479e1-c000.snappy.parquet\n",
      "v1.0/btc/blocks/date=2011-02-01/part-00000-847a9247-f499-4832-9f73-a5b5fd48fdc5-c000.snappy.parquet\n",
      "v1.0/btc/blocks/date=2011-02-02/part-00000-7b9c7f49-e1aa-44b8-983b-0fab77efc3fe-c000.snappy.parquet\n",
      "v1.0/btc/blocks/date=2011-02-03/part-00000-7db188a8-e763-4ef3-a73b-7c47748ba758-c000.snappy.parquet\n",
      "v1.0/btc/blocks/date=2011-02-04/part-00000-c76155f1-eff2-4da1-8c9f-af82b96d0a41-c000.snappy.parquet\n",
      "v1.0/btc/blocks/date=2011-02-05/part-00000-09b9a8cb-6750-4076-b149-218e974b7036-c000.snappy.parquet\n",
      "v1.0/btc/blocks/date=2011-02-06/part-00000-d1c8733b-3d3e-4859-b4a5-91590e4015dd-c000.snappy.parquet\n",
      "v1.0/btc/blocks/date=2011-02-07/part-00000-bd9a1e29-52eb-4784-87ee-2a7573967721-c000.snappy.parquet\n",
      "v1.0/btc/blocks/date=2011-02-08/part-00000-5508ebc9-1173-474b-9906-2974203f8db7-c000.snappy.parquet\n",
      "v1.0/btc/blocks/date=2011-02-09/part-00000-5a9ecc53-1e33-4b25-ae2d-20a741c2e19c-c000.snappy.parquet\n",
      "v1.0/btc/blocks/date=2011-02-10/part-00000-7263ee3c-d831-4d21-adc7-d68adf18ab89-c000.snappy.parquet\n",
      "v1.0/btc/blocks/date=2011-02-11/part-00000-49c07409-f6a6-449f-8496-74afd16633f4-c000.snappy.parquet\n",
      "v1.0/btc/blocks/date=2011-02-12/part-00000-adfffe22-a63f-4377-b17d-f1020e7d3080-c000.snappy.parquet\n",
      "v1.0/btc/blocks/date=2011-02-13/part-00000-33750d6e-e5e3-4369-a3ec-cbab1ae51126-c000.snappy.parquet\n",
      "v1.0/btc/blocks/date=2011-02-14/part-00000-678959ef-9306-48ae-aae7-cb6fa0fe263f-c000.snappy.parquet\n",
      "v1.0/btc/blocks/date=2011-02-15/part-00000-13b26cff-06f9-413f-98dc-176edf562071-c000.snappy.parquet\n",
      "v1.0/btc/blocks/date=2011-02-16/part-00000-003ebf4c-40e5-450d-ae1f-63a276236607-c000.snappy.parquet\n",
      "v1.0/btc/blocks/date=2011-02-17/part-00000-04973666-71ac-4ab4-a471-faa04e05087b-c000.snappy.parquet\n",
      "v1.0/btc/blocks/date=2011-02-18/part-00000-3156789b-15cf-4c15-ba2b-043cbe430bc1-c000.snappy.parquet\n",
      "v1.0/btc/blocks/date=2011-02-19/part-00000-09731ef6-6191-49ed-9ebb-6fe206a6cd6a-c000.snappy.parquet\n",
      "v1.0/btc/blocks/date=2011-02-20/part-00000-c05fadc1-6e5c-4070-9b14-e73f6e0506af-c000.snappy.parquet\n",
      "v1.0/btc/blocks/date=2011-02-21/part-00000-ce392daf-b547-4e94-b8bf-2d140f2f8ff3-c000.snappy.parquet\n",
      "v1.0/btc/blocks/date=2011-02-22/part-00000-82a09cd7-343e-42fb-998d-4ae65b1b46a4-c000.snappy.parquet\n",
      "v1.0/btc/blocks/date=2011-02-23/part-00000-dfaa7f45-1c88-42aa-94bd-58062cee1def-c000.snappy.parquet\n",
      "v1.0/btc/blocks/date=2011-02-24/part-00000-ed3f3327-3b5b-4e4a-b2aa-2999f73f6f50-c000.snappy.parquet\n",
      "v1.0/btc/blocks/date=2011-02-25/part-00000-d0722de8-44ee-4328-ae08-45fa75a73a83-c000.snappy.parquet\n",
      "v1.0/btc/blocks/date=2011-02-26/part-00000-fa26ddfc-fca6-4f92-9ac2-9283dc876ba6-c000.snappy.parquet\n",
      "v1.0/btc/blocks/date=2011-02-27/part-00000-648d3989-d780-4ead-8620-d117df01813c-c000.snappy.parquet\n",
      "v1.0/btc/blocks/date=2011-02-28/part-00000-1ed5a0e8-6222-4ee4-a118-97459fe10abb-c000.snappy.parquet\n",
      "v1.0/btc/blocks/date=2011-03-01/part-00000-3d4db23b-8cc8-4602-b2e9-14371d2b66df-c000.snappy.parquet\n",
      "v1.0/btc/blocks/date=2011-03-02/part-00000-df5fb79a-c4bb-4b34-aea9-3348400006e1-c000.snappy.parquet\n",
      "v1.0/btc/blocks/date=2011-03-03/part-00000-257c070d-1aab-4659-a530-38d230e9c81d-c000.snappy.parquet\n",
      "v1.0/btc/blocks/date=2011-03-04/part-00000-c3bf41a7-d45c-4316-98a3-a1e457a52df6-c000.snappy.parquet\n",
      "v1.0/btc/blocks/date=2011-03-05/part-00000-0eff7876-4eda-4a3e-94cd-13430d31d310-c000.snappy.parquet\n",
      "v1.0/btc/blocks/date=2011-03-06/part-00000-d248b795-0cf4-43e7-95dc-f1e1468a1841-c000.snappy.parquet\n",
      "v1.0/btc/blocks/date=2011-03-07/part-00000-c3ec18f0-c88a-4f4c-836b-347643d17739-c000.snappy.parquet\n",
      "v1.0/btc/blocks/date=2011-03-08/part-00000-e0121c11-5db3-4478-a517-4cb05473e986-c000.snappy.parquet\n",
      "v1.0/btc/blocks/date=2011-03-09/part-00000-bf8e6a00-e4ae-4866-9fbd-35d61b0b6371-c000.snappy.parquet\n",
      "v1.0/btc/blocks/date=2011-03-10/part-00000-20b48c58-3b68-411a-8d4c-bbe2f8dee497-c000.snappy.parquet\n",
      "v1.0/btc/blocks/date=2011-03-11/part-00000-24b2e39a-6bff-452b-995c-3a21a707149f-c000.snappy.parquet\n",
      "v1.0/btc/blocks/date=2011-03-12/part-00000-2c72de6b-b122-47fd-954f-5a8f9f9b3109-c000.snappy.parquet\n",
      "v1.0/btc/blocks/date=2011-03-13/part-00000-6c0a9a96-997e-412a-8512-5b20c3fa8e23-c000.snappy.parquet\n",
      "v1.0/btc/blocks/date=2011-03-14/part-00000-48a41c30-f92c-4752-9ed8-6d2e261aedfb-c000.snappy.parquet\n",
      "v1.0/btc/blocks/date=2011-03-15/part-00000-9c8f57af-7fcd-4b5d-a9bb-2e76ee5ad580-c000.snappy.parquet\n",
      "v1.0/btc/blocks/date=2011-03-16/part-00000-1b065e3c-546f-412e-9e07-5fc68e23d705-c000.snappy.parquet\n",
      "v1.0/btc/blocks/date=2011-03-17/part-00000-f6385d26-f704-45ca-8ab9-aa1e67ab9a16-c000.snappy.parquet\n",
      "v1.0/btc/blocks/date=2011-03-18/part-00000-76c01980-f94e-48d7-a674-e4af07263181-c000.snappy.parquet\n",
      "v1.0/btc/blocks/date=2011-03-19/part-00000-b95671f2-655c-445d-aff4-f3fca62b2d4e-c000.snappy.parquet\n",
      "v1.0/btc/blocks/date=2011-03-20/part-00000-0970526f-0ac5-4d96-9f04-45fabaf03d1b-c000.snappy.parquet\n",
      "v1.0/btc/blocks/date=2011-03-21/part-00000-a9636247-4016-4058-8e50-d2af568c0af4-c000.snappy.parquet\n",
      "v1.0/btc/blocks/date=2011-03-22/part-00000-21e47053-1813-481c-aea3-eafc9351776a-c000.snappy.parquet\n",
      "v1.0/btc/blocks/date=2011-03-23/part-00000-e9a4b8af-2554-48fc-b3a3-e276e39dcbfd-c000.snappy.parquet\n",
      "v1.0/btc/blocks/date=2011-03-24/part-00000-4e426df7-dd9d-4385-9d09-566017fdd10e-c000.snappy.parquet\n",
      "v1.0/btc/blocks/date=2011-03-25/part-00000-80e83bf3-aeb6-4ce5-96c2-a1cc77217e86-c000.snappy.parquet\n",
      "v1.0/btc/blocks/date=2011-03-26/part-00000-d456ef74-e47f-420a-9524-1de4a14a9831-c000.snappy.parquet\n",
      "v1.0/btc/blocks/date=2011-03-27/part-00000-f6d57a46-b8a7-4168-887f-c3fbd565be43-c000.snappy.parquet\n",
      "v1.0/btc/blocks/date=2011-03-28/part-00000-c7e8e0b0-254a-41e6-8a0b-ea9c489250aa-c000.snappy.parquet\n",
      "v1.0/btc/blocks/date=2011-03-29/part-00000-700d1f5f-4370-437d-9f8d-52f809fc1391-c000.snappy.parquet\n",
      "v1.0/btc/blocks/date=2011-03-30/part-00000-1f7b005c-743c-4ad2-aaa6-6d3e76114724-c000.snappy.parquet\n",
      "v1.0/btc/blocks/date=2011-03-31/part-00000-aaa5e7d9-de8a-4fcd-8922-28ec7415b652-c000.snappy.parquet\n",
      "v1.0/btc/blocks/date=2011-04-01/part-00000-e3aa5d65-8f79-4b0f-b226-3b7406627fab-c000.snappy.parquet\n",
      "v1.0/btc/blocks/date=2011-04-02/part-00000-e2455565-fdc4-4935-b594-bbce851d77ef-c000.snappy.parquet\n",
      "v1.0/btc/blocks/date=2011-04-03/part-00000-bae120a1-9c36-4804-b85d-234b86343523-c000.snappy.parquet\n",
      "v1.0/btc/blocks/date=2011-04-04/part-00000-cb0097e9-1318-40dd-a2a0-ef6d59247d11-c000.snappy.parquet\n",
      "v1.0/btc/blocks/date=2011-04-05/part-00000-e014b430-a454-4f6d-9ecd-d24e069e0ccc-c000.snappy.parquet\n",
      "v1.0/btc/blocks/date=2011-04-06/part-00000-88b098c7-cc99-439f-9292-c82a4f860a6b-c000.snappy.parquet\n",
      "v1.0/btc/blocks/date=2011-04-07/part-00000-e215c91e-cc0f-49c5-b23b-869928ac8379-c000.snappy.parquet\n",
      "v1.0/btc/blocks/date=2011-04-08/part-00000-710915f5-4794-4a3b-9f54-c39b97ca45f5-c000.snappy.parquet\n",
      "v1.0/btc/blocks/date=2011-04-09/part-00000-7cf0d6da-4db5-4244-a7f9-d1563154852d-c000.snappy.parquet\n",
      "v1.0/btc/blocks/date=2011-04-10/part-00000-7fa0cb0c-4a72-41bc-9575-7bdc4affb428-c000.snappy.parquet\n",
      "v1.0/btc/blocks/date=2011-04-11/part-00000-7890ce3a-39c0-4de8-81d5-45be46938b9e-c000.snappy.parquet\n",
      "v1.0/btc/blocks/date=2011-04-12/part-00000-46947bcb-0948-4d5c-bdda-0bc92516640f-c000.snappy.parquet\n",
      "v1.0/btc/blocks/date=2011-04-13/part-00000-676a027c-a898-40df-9b6b-f86a93aae743-c000.snappy.parquet\n",
      "v1.0/btc/blocks/date=2011-04-14/part-00000-8fad1a4a-8a55-4ea6-90a4-fe045d0447c1-c000.snappy.parquet\n",
      "v1.0/btc/blocks/date=2011-04-15/part-00000-f3516565-4d8c-41a8-ba70-18f2af795f6c-c000.snappy.parquet\n",
      "v1.0/btc/blocks/date=2011-04-16/part-00000-985a6243-8b47-4f5a-a761-2ce47a78e43e-c000.snappy.parquet\n",
      "v1.0/btc/blocks/date=2011-04-17/part-00000-3494783b-465a-477b-9479-32a9df2e3a29-c000.snappy.parquet\n",
      "v1.0/btc/blocks/date=2011-04-18/part-00000-8a9e0589-3fac-4929-ae9e-e875d709af89-c000.snappy.parquet\n",
      "v1.0/btc/blocks/date=2011-04-19/part-00000-da8c9a0a-e1d2-4d90-9a50-7926e3a14c42-c000.snappy.parquet\n",
      "v1.0/btc/blocks/date=2011-04-20/part-00000-7e76698c-bf0a-4c46-9989-ff75654ab36f-c000.snappy.parquet\n",
      "v1.0/btc/blocks/date=2011-04-21/part-00000-b0259b0e-27b4-448d-bfc6-8cf36fcf84d9-c000.snappy.parquet\n",
      "v1.0/btc/blocks/date=2011-04-22/part-00000-d901adcf-1b20-43d5-a67e-1fbefd70078a-c000.snappy.parquet\n",
      "v1.0/btc/blocks/date=2011-04-23/part-00000-3bfa1a9e-9a11-4b72-8bf2-35d679d25e64-c000.snappy.parquet\n",
      "v1.0/btc/blocks/date=2011-04-24/part-00000-8bd9a676-5403-4434-b11f-06a9b624ac44-c000.snappy.parquet\n",
      "v1.0/btc/blocks/date=2011-04-25/part-00000-832bcd54-c9ad-4fc7-9cb8-b25cbb966783-c000.snappy.parquet\n",
      "v1.0/btc/blocks/date=2011-04-26/part-00000-b2962602-c044-41e2-9447-bd3958bbb6c2-c000.snappy.parquet\n",
      "v1.0/btc/blocks/date=2011-04-27/part-00000-5d89a121-3347-441a-a849-859d28017d36-c000.snappy.parquet\n",
      "v1.0/btc/blocks/date=2011-04-28/part-00000-835a5eee-042c-4ca8-b931-805721c09117-c000.snappy.parquet\n",
      "v1.0/btc/blocks/date=2011-04-29/part-00000-fd0f335a-fafe-4f6b-8b1f-ba447a36850f-c000.snappy.parquet\n",
      "v1.0/btc/blocks/date=2011-04-30/part-00000-292410aa-bca6-4cc8-ad53-ad2b6fd1fcb7-c000.snappy.parquet\n",
      "v1.0/btc/blocks/date=2011-05-01/part-00000-e1f9521b-d0fc-43f0-95ef-6e051b1a3101-c000.snappy.parquet\n",
      "v1.0/btc/blocks/date=2011-05-02/part-00000-7a2b10df-8e02-4317-9c4d-a0929b61f274-c000.snappy.parquet\n",
      "v1.0/btc/blocks/date=2011-05-03/part-00000-3e290699-630e-4c14-91a1-994920c70591-c000.snappy.parquet\n",
      "v1.0/btc/blocks/date=2011-05-04/part-00000-44dd49c8-0c77-4efd-97f8-20ef478e5075-c000.snappy.parquet\n",
      "v1.0/btc/blocks/date=2011-05-05/part-00000-b48a8aa2-ea67-4671-aa82-3aaffb2b5e5e-c000.snappy.parquet\n",
      "v1.0/btc/blocks/date=2011-05-06/part-00000-b0a2fb0d-2bd2-4697-96d6-e16dfed15594-c000.snappy.parquet\n",
      "v1.0/btc/blocks/date=2011-05-07/part-00000-5265b49a-82df-452c-af4b-cc1795092b93-c000.snappy.parquet\n",
      "v1.0/btc/blocks/date=2011-05-08/part-00000-c97312a6-6769-43ae-bbad-6a18875fe7fc-c000.snappy.parquet\n",
      "v1.0/btc/blocks/date=2011-05-09/part-00000-3aaae0c8-419b-4816-bff4-b4ba3f1e682a-c000.snappy.parquet\n",
      "v1.0/btc/blocks/date=2011-05-10/part-00000-a51a45df-1433-4603-b2e5-0b05bb5652c6-c000.snappy.parquet\n",
      "v1.0/btc/blocks/date=2011-05-11/part-00000-3f70ed6c-8c6c-42a8-b61c-7b391f5bc6b8-c000.snappy.parquet\n",
      "v1.0/btc/blocks/date=2011-05-12/part-00000-f4db2ae2-b0e0-44dc-b42a-9c01f653d1c6-c000.snappy.parquet\n",
      "v1.0/btc/blocks/date=2011-05-13/part-00000-7aa01cf6-5db5-4b05-a7f1-e022c8557d26-c000.snappy.parquet\n",
      "v1.0/btc/blocks/date=2011-05-14/part-00000-f2479936-f099-4863-b6ff-a024cc3081c3-c000.snappy.parquet\n",
      "v1.0/btc/blocks/date=2011-05-15/part-00000-abc2a67f-069c-4471-b319-dccdb82aa8dc-c000.snappy.parquet\n",
      "v1.0/btc/blocks/date=2011-05-16/part-00000-5a8e8729-2c83-4068-a7d8-41de26968bbb-c000.snappy.parquet\n",
      "v1.0/btc/blocks/date=2011-05-17/part-00000-1941007e-4c1d-4fe6-846e-71a10ff3c3a5-c000.snappy.parquet\n",
      "v1.0/btc/blocks/date=2011-05-18/part-00000-45af03de-a824-4158-ad62-08481f62764d-c000.snappy.parquet\n",
      "v1.0/btc/blocks/date=2011-05-19/part-00000-c4c5944d-0479-460d-a9b8-cd2d7a3f3af1-c000.snappy.parquet\n",
      "v1.0/btc/blocks/date=2011-05-20/part-00000-5bdd4c27-989e-4198-90af-c1851eb93f1e-c000.snappy.parquet\n",
      "v1.0/btc/blocks/date=2011-05-21/part-00000-1ba39796-4495-4877-9360-92a2efd9735f-c000.snappy.parquet\n",
      "v1.0/btc/blocks/date=2011-05-22/part-00000-fcf12c47-b0e7-4e09-9c2b-dd9591d2276f-c000.snappy.parquet\n",
      "v1.0/btc/blocks/date=2011-05-23/part-00000-bd8f05c8-ad0d-4fd8-992f-6e8f9668d519-c000.snappy.parquet\n",
      "v1.0/btc/blocks/date=2011-05-24/part-00000-a3ec7bdc-1175-4566-b4df-e62a3eed46e6-c000.snappy.parquet\n",
      "v1.0/btc/blocks/date=2011-05-25/part-00000-7017e4fc-1638-42a6-92f2-b8b47c8ad91a-c000.snappy.parquet\n",
      "v1.0/btc/blocks/date=2011-05-26/part-00000-51df21ee-e036-487a-9ae8-13089f4bdfcc-c000.snappy.parquet\n",
      "v1.0/btc/blocks/date=2011-05-27/part-00000-362da35b-f5c7-4f55-929a-8301d8f6b68c-c000.snappy.parquet\n",
      "v1.0/btc/blocks/date=2011-05-28/part-00000-c81aa9a2-0470-4718-b757-76f0ad155275-c000.snappy.parquet\n",
      "v1.0/btc/blocks/date=2011-05-29/part-00000-f559a600-ea09-4c5f-a844-fdcd841c128e-c000.snappy.parquet\n",
      "v1.0/btc/blocks/date=2011-05-30/part-00000-c4cd4a03-fd8d-42de-8f34-bb8ef03eac8b-c000.snappy.parquet\n",
      "v1.0/btc/blocks/date=2011-05-31/part-00000-984333d0-0ae0-452d-a144-b5674b03ac1f-c000.snappy.parquet\n",
      "v1.0/btc/blocks/date=2011-06-01/part-00000-55e9fca2-70eb-4a8b-b69f-aef455d20a2e-c000.snappy.parquet\n",
      "v1.0/btc/blocks/date=2011-06-02/part-00000-dc4a8c5b-f076-44a6-8acf-e10655b4d5b4-c000.snappy.parquet\n",
      "v1.0/btc/blocks/date=2011-06-03/part-00000-3209f87e-f908-41ae-9e6d-47ed3519630b-c000.snappy.parquet\n",
      "v1.0/btc/blocks/date=2011-06-04/part-00000-600215ae-4bb4-4762-9d34-24146cf614a9-c000.snappy.parquet\n",
      "v1.0/btc/blocks/date=2011-06-05/part-00000-ef224dca-5c9c-460c-8779-3fe13e25e469-c000.snappy.parquet\n",
      "v1.0/btc/blocks/date=2011-06-06/part-00000-34ca3686-6e5b-4876-b081-fb7c6c8a85bf-c000.snappy.parquet\n",
      "v1.0/btc/blocks/date=2011-06-07/part-00000-def7e55c-c179-4e82-b468-421c12b23c5f-c000.snappy.parquet\n",
      "v1.0/btc/blocks/date=2011-06-08/part-00000-f63d2135-14c0-472e-a219-341ad8acc546-c000.snappy.parquet\n",
      "v1.0/btc/blocks/date=2011-06-09/part-00000-6bcb2bd2-757f-43eb-94d8-db5d8051c660-c000.snappy.parquet\n",
      "v1.0/btc/blocks/date=2011-06-10/part-00000-7939daa5-b0d7-492b-af6d-61bc1e9bcd05-c000.snappy.parquet\n",
      "v1.0/btc/blocks/date=2011-06-11/part-00000-bd269471-8eb8-4aa5-9184-544ac9dc4457-c000.snappy.parquet\n",
      "v1.0/btc/blocks/date=2011-06-12/part-00000-1d0519a0-abfa-4385-b8bf-b0359b56b76f-c000.snappy.parquet\n",
      "v1.0/btc/blocks/date=2011-06-13/part-00000-b8a3e83c-e5be-449b-afd4-69e0f53f6ff4-c000.snappy.parquet\n",
      "v1.0/btc/blocks/date=2011-06-14/part-00000-d2ec922c-f61f-42dc-967e-614d4d1dbd96-c000.snappy.parquet\n",
      "v1.0/btc/blocks/date=2011-06-15/part-00000-bd96ddb7-31df-4cf3-aeee-a7e7393e5579-c000.snappy.parquet\n",
      "v1.0/btc/blocks/date=2011-06-16/part-00000-7ca26087-633d-4737-bd5a-699a6260165b-c000.snappy.parquet\n",
      "v1.0/btc/blocks/date=2011-06-17/part-00000-ad7f03e8-eaa8-44ea-98d9-6907299acd10-c000.snappy.parquet\n",
      "v1.0/btc/blocks/date=2011-06-18/part-00000-a0a0b49e-54b6-49c6-955c-8592610d9bed-c000.snappy.parquet\n",
      "v1.0/btc/blocks/date=2011-06-19/part-00000-63f50a88-32a8-4e82-bfc7-6d1b93a03d0a-c000.snappy.parquet\n",
      "v1.0/btc/blocks/date=2011-06-20/part-00000-8332119c-3712-43c1-900a-4a864f7a6bcb-c000.snappy.parquet\n",
      "v1.0/btc/blocks/date=2011-06-21/part-00000-33e75d80-0f88-4886-a737-9f5a69fd9456-c000.snappy.parquet\n",
      "v1.0/btc/blocks/date=2011-06-22/part-00000-76958e9d-75e0-4fa8-83f1-20263fff401b-c000.snappy.parquet\n",
      "v1.0/btc/blocks/date=2011-06-23/part-00000-6cbb06fa-0eb4-4d01-8592-de76a768e634-c000.snappy.parquet\n",
      "v1.0/btc/blocks/date=2011-06-24/part-00000-daf183fd-0079-4df0-bd7d-1acc6de48c17-c000.snappy.parquet\n",
      "v1.0/btc/blocks/date=2011-06-25/part-00000-68e74e96-de74-480c-a6b1-e81d428acaab-c000.snappy.parquet\n",
      "v1.0/btc/blocks/date=2011-06-26/part-00000-f0d75812-752b-49bf-926d-3ef24bae56be-c000.snappy.parquet\n",
      "v1.0/btc/blocks/date=2011-06-27/part-00000-4113bed2-d353-4c9f-ae07-dfd256fee58f-c000.snappy.parquet\n",
      "v1.0/btc/blocks/date=2011-06-28/part-00000-66b89d6a-7f93-42c9-82f7-d1e887303687-c000.snappy.parquet\n",
      "v1.0/btc/blocks/date=2011-06-29/part-00000-3cb41c1e-a9b7-4794-957a-33fd6338f2ad-c000.snappy.parquet\n",
      "v1.0/btc/blocks/date=2011-06-30/part-00000-4d3a5771-40f3-4226-88b9-0b2fe3e4f72c-c000.snappy.parquet\n",
      "v1.0/btc/blocks/date=2011-07-01/part-00000-6f5abdcd-a625-4774-91e4-352d98b2d175-c000.snappy.parquet\n",
      "v1.0/btc/blocks/date=2011-07-02/part-00000-68f54906-4dd6-430a-a809-f5a9d0706c87-c000.snappy.parquet\n",
      "v1.0/btc/blocks/date=2011-07-03/part-00000-5c590c45-4ea7-4d27-bd9d-2d04066d7b5d-c000.snappy.parquet\n",
      "v1.0/btc/blocks/date=2011-07-04/part-00000-5f8e8126-7816-4453-9d36-07ee1181aa07-c000.snappy.parquet\n",
      "v1.0/btc/blocks/date=2011-07-05/part-00000-9237cfd5-0e9e-4a09-ba9b-6ab3c2deb34c-c000.snappy.parquet\n",
      "v1.0/btc/blocks/date=2011-07-06/part-00000-17002b25-94b1-4858-9196-f0cf60cd0bc8-c000.snappy.parquet\n",
      "v1.0/btc/blocks/date=2011-07-07/part-00000-d63a19c0-5df3-4d84-b4f5-52f0f3323b04-c000.snappy.parquet\n",
      "v1.0/btc/blocks/date=2011-07-08/part-00000-94001305-2496-4b3e-917d-206815e97770-c000.snappy.parquet\n",
      "v1.0/btc/blocks/date=2011-07-09/part-00000-e5696b2d-85df-472f-810d-29d1c1ee5b60-c000.snappy.parquet\n",
      "v1.0/btc/blocks/date=2011-07-10/part-00000-fa6807cc-0a4d-4cf0-b3d4-5ba2fe73e19c-c000.snappy.parquet\n",
      "v1.0/btc/blocks/date=2011-07-11/part-00000-bbc983c7-1314-4bb7-ba4f-f8b3a1b08968-c000.snappy.parquet\n",
      "v1.0/btc/blocks/date=2011-07-12/part-00000-45dfafee-b133-4465-a5f8-34c60f221b8d-c000.snappy.parquet\n",
      "v1.0/btc/blocks/date=2011-07-13/part-00000-41a2a4da-f001-4699-8972-a3c1f5665872-c000.snappy.parquet\n",
      "v1.0/btc/blocks/date=2011-07-14/part-00000-8a64fd3f-88eb-4165-a92d-a468037aa73c-c000.snappy.parquet\n",
      "v1.0/btc/blocks/date=2011-07-15/part-00000-bfaf41b2-ba6d-43d1-90bc-2c00d7b416d7-c000.snappy.parquet\n",
      "v1.0/btc/blocks/date=2011-07-16/part-00000-5cda63f4-4e2c-4982-947e-3f04f8e26088-c000.snappy.parquet\n",
      "v1.0/btc/blocks/date=2011-07-17/part-00000-383940d2-9b65-445a-ad30-31d625a5f060-c000.snappy.parquet\n",
      "v1.0/btc/blocks/date=2011-07-18/part-00000-dff00103-a307-4afc-bf2b-ade635656f9e-c000.snappy.parquet\n",
      "v1.0/btc/blocks/date=2011-07-19/part-00000-c1cde81f-af2a-4d71-bd75-1f1d1cc1557d-c000.snappy.parquet\n",
      "v1.0/btc/blocks/date=2011-07-20/part-00000-4f465e07-65c0-4ea3-9c03-daf3f4270e64-c000.snappy.parquet\n",
      "v1.0/btc/blocks/date=2011-07-21/part-00000-555c1131-93dd-4169-b359-c4b722209974-c000.snappy.parquet\n",
      "v1.0/btc/blocks/date=2011-07-22/part-00000-b444bb5d-0243-428d-bcc6-d73afd44994d-c000.snappy.parquet\n",
      "v1.0/btc/blocks/date=2011-07-23/part-00000-78c60dbb-831f-461e-b091-530badaffad6-c000.snappy.parquet\n",
      "v1.0/btc/blocks/date=2011-07-24/part-00000-bdaf3de8-c35c-4ece-acf0-865245e453ae-c000.snappy.parquet\n",
      "v1.0/btc/blocks/date=2011-07-25/part-00000-0040bdca-83c5-4829-bc81-8e786a6798d4-c000.snappy.parquet\n",
      "v1.0/btc/blocks/date=2011-07-26/part-00000-4c9013df-728d-45db-a3a5-72d9b987ab4a-c000.snappy.parquet\n",
      "v1.0/btc/blocks/date=2011-07-27/part-00000-c2938e1d-d5c0-4aad-b8eb-443a60647138-c000.snappy.parquet\n",
      "v1.0/btc/blocks/date=2011-07-28/part-00000-6e7ad1ae-1f2d-42bf-b864-2a8f745bc71b-c000.snappy.parquet\n",
      "v1.0/btc/blocks/date=2011-07-29/part-00000-d3349db8-d0d6-49c0-965b-4a537dabb8ab-c000.snappy.parquet\n",
      "v1.0/btc/blocks/date=2011-07-30/part-00000-ce73faeb-bd14-470f-a637-4b922daae5c5-c000.snappy.parquet\n",
      "v1.0/btc/blocks/date=2011-07-31/part-00000-137f6205-9a1a-4667-b9fe-380c260d94a4-c000.snappy.parquet\n",
      "v1.0/btc/blocks/date=2011-08-01/part-00000-ce029d90-0328-41f1-a622-4ef1a32fdde0-c000.snappy.parquet\n",
      "v1.0/btc/blocks/date=2011-08-02/part-00000-4e6ca2d2-a320-44d8-a2d4-7bd765cb038c-c000.snappy.parquet\n",
      "v1.0/btc/blocks/date=2011-08-03/part-00000-f9a78de1-e1ad-42aa-b42a-dbfcb5fe4c81-c000.snappy.parquet\n",
      "v1.0/btc/blocks/date=2011-08-04/part-00000-48d5d837-9edb-48ff-bd5b-edce1588e464-c000.snappy.parquet\n",
      "v1.0/btc/blocks/date=2011-08-05/part-00000-b731c9a3-960f-4cfc-98e0-2bb39c718a20-c000.snappy.parquet\n",
      "v1.0/btc/blocks/date=2011-08-06/part-00000-74252fca-1f4a-45ef-baff-87b818161fd3-c000.snappy.parquet\n",
      "v1.0/btc/blocks/date=2011-08-07/part-00000-5c59c7f1-4dbb-47cb-a9a0-d6f00b619354-c000.snappy.parquet\n",
      "v1.0/btc/blocks/date=2011-08-08/part-00000-bb158f51-8ef9-4802-bcdd-b90afd6a3f40-c000.snappy.parquet\n",
      "v1.0/btc/blocks/date=2011-08-09/part-00000-11073ed6-e0f1-43a3-b784-eabf6f77cf2c-c000.snappy.parquet\n",
      "v1.0/btc/blocks/date=2011-08-10/part-00000-fde9cea9-8b6b-4279-a072-f7238b37fcf0-c000.snappy.parquet\n",
      "v1.0/btc/blocks/date=2011-08-11/part-00000-7c9d8af1-ef30-4ba2-90e7-520781fe392b-c000.snappy.parquet\n",
      "v1.0/btc/blocks/date=2011-08-12/part-00000-31cb881d-4e77-4e52-a827-e5a6e5d6c3bc-c000.snappy.parquet\n",
      "v1.0/btc/blocks/date=2011-08-13/part-00000-9ced7450-79ed-44b4-b640-d56b8416c445-c000.snappy.parquet\n",
      "v1.0/btc/blocks/date=2011-08-14/part-00000-a89b0f3d-7e81-488a-b963-13f107b880e3-c000.snappy.parquet\n",
      "v1.0/btc/blocks/date=2011-08-15/part-00000-49296c1f-de6d-47f0-a32a-5016b5259600-c000.snappy.parquet\n",
      "v1.0/btc/blocks/date=2011-08-16/part-00000-cbeaf285-17f0-4831-8fd6-47dc49597369-c000.snappy.parquet\n",
      "v1.0/btc/blocks/date=2011-08-17/part-00000-36f16a7e-d69b-411a-b63d-6aa88d3dbd88-c000.snappy.parquet\n",
      "v1.0/btc/blocks/date=2011-08-18/part-00000-60f8e86f-471d-4721-b150-f5207778d477-c000.snappy.parquet\n",
      "v1.0/btc/blocks/date=2011-08-19/part-00000-61052bec-7392-4320-a7b2-0a7dac557291-c000.snappy.parquet\n",
      "v1.0/btc/blocks/date=2011-08-20/part-00000-984ee005-22e7-470e-bf2e-a5d1555da29e-c000.snappy.parquet\n",
      "v1.0/btc/blocks/date=2011-08-21/part-00000-cd88affa-9a65-4702-ba1f-1237d9bf8651-c000.snappy.parquet\n",
      "v1.0/btc/blocks/date=2011-08-22/part-00000-92d6e425-d81e-4499-89af-e467d901de3e-c000.snappy.parquet\n",
      "v1.0/btc/blocks/date=2011-08-23/part-00000-df9b2bdc-bca5-498c-abce-330bee9e07dc-c000.snappy.parquet\n",
      "v1.0/btc/blocks/date=2011-08-24/part-00000-d2d448ef-c3db-4132-b4ed-07f1bf6650c4-c000.snappy.parquet\n",
      "v1.0/btc/blocks/date=2011-08-25/part-00000-ff4cebfc-0e8b-47f8-8d53-77e6a9fc16dc-c000.snappy.parquet\n",
      "v1.0/btc/blocks/date=2011-08-26/part-00000-d668214e-b233-4a44-bb11-e3fbae0a1a22-c000.snappy.parquet\n",
      "v1.0/btc/blocks/date=2011-08-27/part-00000-c0ba8a9d-9d08-44bc-b926-ea8f7bf4c471-c000.snappy.parquet\n",
      "v1.0/btc/blocks/date=2011-08-28/part-00000-ff6e6446-b964-4cde-9d04-d03ff5909022-c000.snappy.parquet\n",
      "v1.0/btc/blocks/date=2011-08-29/part-00000-90d0ea0e-11ca-4ed6-b88a-2fced6b169de-c000.snappy.parquet\n",
      "v1.0/btc/blocks/date=2011-08-30/part-00000-82e9c890-4551-43c6-90d2-75f91d0c3f63-c000.snappy.parquet\n",
      "v1.0/btc/blocks/date=2011-08-31/part-00000-9b0f9649-b435-4022-b504-705f23a1acc6-c000.snappy.parquet\n",
      "v1.0/btc/blocks/date=2011-09-01/part-00000-64d650eb-4f19-4b7e-8458-6e01e57b0361-c000.snappy.parquet\n",
      "v1.0/btc/blocks/date=2011-09-02/part-00000-aec90a55-3501-4d6c-9828-da66293096e2-c000.snappy.parquet\n",
      "v1.0/btc/blocks/date=2011-09-03/part-00000-4f9f1048-b685-4f29-bcfa-cdb2727dd638-c000.snappy.parquet\n",
      "v1.0/btc/blocks/date=2011-09-04/part-00000-337cfd49-b8df-48d4-a717-8ddcda10ea4d-c000.snappy.parquet\n",
      "v1.0/btc/blocks/date=2011-09-05/part-00000-98e3c97f-4c75-405a-815b-ee89d29795d9-c000.snappy.parquet\n",
      "v1.0/btc/blocks/date=2011-09-06/part-00000-d1c411ae-c211-415a-a08f-fee6d8768282-c000.snappy.parquet\n",
      "v1.0/btc/blocks/date=2011-09-07/part-00000-c8b43574-92ad-4c98-a5ab-68dc0474c185-c000.snappy.parquet\n",
      "v1.0/btc/blocks/date=2011-09-08/part-00000-777d46b3-d10a-4a90-b08e-c6b447c77726-c000.snappy.parquet\n",
      "v1.0/btc/blocks/date=2011-09-09/part-00000-89b28b54-ddef-44b9-9377-21dce5821ed8-c000.snappy.parquet\n",
      "v1.0/btc/blocks/date=2011-09-10/part-00000-35855d7e-f10e-4fbd-ba32-135071e278a2-c000.snappy.parquet\n",
      "v1.0/btc/blocks/date=2011-09-11/part-00000-bbf36a82-8764-4dc8-b877-99ca10f032ae-c000.snappy.parquet\n",
      "v1.0/btc/blocks/date=2011-09-12/part-00000-f6fe0fd6-3935-4290-a89e-23b36c1fc42f-c000.snappy.parquet\n",
      "v1.0/btc/blocks/date=2011-09-13/part-00000-80fef467-5930-4790-b4ed-b21ac3931730-c000.snappy.parquet\n",
      "v1.0/btc/blocks/date=2011-09-14/part-00000-7f95c96b-a520-4eb0-bb33-1a27f2930fb4-c000.snappy.parquet\n",
      "v1.0/btc/blocks/date=2011-09-15/part-00000-ee24e7d4-dc86-4b68-951c-c2f35cd99326-c000.snappy.parquet\n",
      "v1.0/btc/blocks/date=2011-09-16/part-00000-d8d396d2-0e18-44bb-af8c-13d615481f5e-c000.snappy.parquet\n",
      "v1.0/btc/blocks/date=2011-09-17/part-00000-58a993d0-7970-4955-a075-9ad882693411-c000.snappy.parquet\n",
      "v1.0/btc/blocks/date=2011-09-18/part-00000-c7ea163e-3531-4854-b206-ffc30872ff49-c000.snappy.parquet\n",
      "v1.0/btc/blocks/date=2011-09-19/part-00000-d60e89b1-0618-4e09-850e-5bf0cba50271-c000.snappy.parquet\n",
      "v1.0/btc/blocks/date=2011-09-20/part-00000-9c2f562f-3582-4443-88f2-be61b90b2a6b-c000.snappy.parquet\n",
      "v1.0/btc/blocks/date=2011-09-21/part-00000-e483f8c0-a126-4cbb-91cb-101b4bc1ab9c-c000.snappy.parquet\n",
      "v1.0/btc/blocks/date=2011-09-22/part-00000-bb839e38-2b1b-46ef-87fd-e6b52dc4c015-c000.snappy.parquet\n",
      "v1.0/btc/blocks/date=2011-09-23/part-00000-b8f0523d-3822-4699-8707-b7f5982d0ccb-c000.snappy.parquet\n",
      "v1.0/btc/blocks/date=2011-09-24/part-00000-5e7ae953-2e17-49e2-bb21-ec7c20ce4376-c000.snappy.parquet\n",
      "v1.0/btc/blocks/date=2011-09-25/part-00000-db551f84-f6d0-4137-91ca-1bdea289743e-c000.snappy.parquet\n",
      "v1.0/btc/blocks/date=2011-09-26/part-00000-b180ea38-87c5-4d87-9c14-e3624542f9e2-c000.snappy.parquet\n",
      "v1.0/btc/blocks/date=2011-09-27/part-00000-9472c7bd-f6bb-44a3-bf41-736a36a94e7f-c000.snappy.parquet\n",
      "v1.0/btc/blocks/date=2011-09-28/part-00000-c000ac36-7da4-4359-adcf-0863d69c7604-c000.snappy.parquet\n",
      "v1.0/btc/blocks/date=2011-09-29/part-00000-0481c212-3e92-49b1-a968-d2136cefa89b-c000.snappy.parquet\n",
      "v1.0/btc/blocks/date=2011-09-30/part-00000-66ac2e8a-bd10-4290-8170-8a11c28b3870-c000.snappy.parquet\n",
      "v1.0/btc/blocks/date=2011-10-01/part-00000-b3f59a06-4d86-4638-86e7-b9357ebdb4cf-c000.snappy.parquet\n",
      "v1.0/btc/blocks/date=2011-10-02/part-00000-5c431dfd-f367-49ce-971e-a2a3c1d13fb4-c000.snappy.parquet\n",
      "v1.0/btc/blocks/date=2011-10-03/part-00000-3e4b4656-c295-4900-b20d-fb58b7b09ace-c000.snappy.parquet\n",
      "v1.0/btc/blocks/date=2011-10-04/part-00000-ce7fd591-f81e-45c7-98a4-56c52e3436a1-c000.snappy.parquet\n"
     ]
    }
   ],
   "source": [
    "for key in s3_client.list_objects(Bucket='aws-public-blockchain')['Contents']:\n",
    "    print(key['Key'])\n",
    "    \n",
    "    objs = bucket.objects.filter(Prefix='myprefix')"
   ]
  },
  {
   "cell_type": "code",
   "execution_count": 46,
   "id": "2d3452e6",
   "metadata": {},
   "outputs": [
    {
     "ename": "ValueError",
     "evalue": "Fileobj must implement write",
     "output_type": "error",
     "traceback": [
      "\u001b[0;31m---------------------------------------------------------------------------\u001b[0m",
      "\u001b[0;31mValueError\u001b[0m                                Traceback (most recent call last)",
      "Cell \u001b[0;32mIn[46], line 1\u001b[0m\n\u001b[0;32m----> 1\u001b[0m \u001b[43ms3_client\u001b[49m\u001b[38;5;241;43m.\u001b[39;49m\u001b[43mdownload_fileobj\u001b[49m\u001b[43m(\u001b[49m\u001b[43mBucket\u001b[49m\u001b[38;5;241;43m=\u001b[39;49m\u001b[38;5;124;43m'\u001b[39;49m\u001b[38;5;124;43maws-public-blockchain\u001b[39;49m\u001b[38;5;124;43m'\u001b[39;49m\u001b[43m,\u001b[49m\u001b[43m \u001b[49m\n\u001b[1;32m      2\u001b[0m \u001b[43m                        \u001b[49m\u001b[43mKey\u001b[49m\u001b[38;5;241;43m=\u001b[39;49m\u001b[38;5;124;43m'\u001b[39;49m\u001b[38;5;124;43mv1.0/eth/blocks/date=2021-12-31/\u001b[39;49m\u001b[38;5;124;43m'\u001b[39;49m\u001b[43m,\u001b[49m\n\u001b[1;32m      3\u001b[0m \u001b[43m                       \u001b[49m\u001b[43mFileobj\u001b[49m\u001b[38;5;241;43m=\u001b[39;49m\u001b[38;5;124;43m'\u001b[39;49m\u001b[38;5;124;43mhello.parquet\u001b[39;49m\u001b[38;5;124;43m'\u001b[39;49m\u001b[43m)\u001b[49m\n",
      "File \u001b[0;32m~/anaconda3/lib/python3.10/site-packages/boto3/s3/inject.py:783\u001b[0m, in \u001b[0;36mdownload_fileobj\u001b[0;34m(self, Bucket, Key, Fileobj, ExtraArgs, Callback, Config)\u001b[0m\n\u001b[1;32m    744\u001b[0m \u001b[38;5;124;03m\"\"\"Download an object from S3 to a file-like object.\u001b[39;00m\n\u001b[1;32m    745\u001b[0m \n\u001b[1;32m    746\u001b[0m \u001b[38;5;124;03mThe file-like object must be in binary mode.\u001b[39;00m\n\u001b[0;32m   (...)\u001b[0m\n\u001b[1;32m    780\u001b[0m \u001b[38;5;124;03m    download.\u001b[39;00m\n\u001b[1;32m    781\u001b[0m \u001b[38;5;124;03m\"\"\"\u001b[39;00m\n\u001b[1;32m    782\u001b[0m \u001b[38;5;28;01mif\u001b[39;00m \u001b[38;5;129;01mnot\u001b[39;00m \u001b[38;5;28mhasattr\u001b[39m(Fileobj, \u001b[38;5;124m'\u001b[39m\u001b[38;5;124mwrite\u001b[39m\u001b[38;5;124m'\u001b[39m):\n\u001b[0;32m--> 783\u001b[0m     \u001b[38;5;28;01mraise\u001b[39;00m \u001b[38;5;167;01mValueError\u001b[39;00m(\u001b[38;5;124m'\u001b[39m\u001b[38;5;124mFileobj must implement write\u001b[39m\u001b[38;5;124m'\u001b[39m)\n\u001b[1;32m    785\u001b[0m subscribers \u001b[38;5;241m=\u001b[39m \u001b[38;5;28;01mNone\u001b[39;00m\n\u001b[1;32m    786\u001b[0m \u001b[38;5;28;01mif\u001b[39;00m Callback \u001b[38;5;129;01mis\u001b[39;00m \u001b[38;5;129;01mnot\u001b[39;00m \u001b[38;5;28;01mNone\u001b[39;00m:\n",
      "\u001b[0;31mValueError\u001b[0m: Fileobj must implement write"
     ]
    }
   ],
   "source": [
    "s3_client.download_fileobj(Bucket='aws-public-blockchain', \n",
    "                        Key='v1.0/eth/blocks/date=2021-12-31/',\n",
    "                       Fileobj='hello.parquet')"
   ]
  },
  {
   "cell_type": "code",
   "execution_count": null,
   "id": "9f79ccdd",
   "metadata": {},
   "outputs": [],
   "source": [
    "s3_client.download_file"
   ]
  }
 ],
 "metadata": {
  "kernelspec": {
   "display_name": "Python 3 (ipykernel)",
   "language": "python",
   "name": "python3"
  },
  "language_info": {
   "codemirror_mode": {
    "name": "ipython",
    "version": 3
   },
   "file_extension": ".py",
   "mimetype": "text/x-python",
   "name": "python",
   "nbconvert_exporter": "python",
   "pygments_lexer": "ipython3",
   "version": "3.10.9"
  }
 },
 "nbformat": 4,
 "nbformat_minor": 5
}
